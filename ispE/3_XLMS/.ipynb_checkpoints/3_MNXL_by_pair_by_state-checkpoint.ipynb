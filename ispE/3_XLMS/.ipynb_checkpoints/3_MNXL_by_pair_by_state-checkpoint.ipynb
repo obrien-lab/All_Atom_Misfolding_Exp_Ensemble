{
 "cells": [
  {
   "cell_type": "code",
   "execution_count": 1,
   "id": "0ce44c5f-6131-4873-8c03-e3115e8f93de",
   "metadata": {},
   "outputs": [],
   "source": [
    "import numpy as np"
   ]
  },
  {
   "cell_type": "code",
   "execution_count": 2,
   "id": "f9c32a76-5786-47ff-9191-7c27bcb722d9",
   "metadata": {},
   "outputs": [],
   "source": [
    "msm_data=np.load('../1_MSM/msm_data.npz', allow_pickle=True)\n",
    "meta_dtrajs = msm_data['meta_dtrajs']\n",
    "meta_dtrajs_subsample = meta_dtrajs[:,::50]\n",
    "meta_dtrajs_subsample_conc = np.array(meta_dtrajs_subsample.flatten(), dtype=int)"
   ]
  },
  {
   "cell_type": "code",
   "execution_count": 4,
   "id": "d82ec39f-e4f7-405b-8563-ad199fb16045",
   "metadata": {},
   "outputs": [
    {
     "data": {
      "text/plain": [
       "7504"
      ]
     },
     "execution_count": 4,
     "metadata": {},
     "output_type": "execute_result"
    }
   ],
   "source": [
    "len(meta_dtrajs_subsample_conc)"
   ]
  },
  {
   "cell_type": "code",
   "execution_count": 5,
   "id": "cbb87b4c-e865-4896-9777-270e717987e8",
   "metadata": {},
   "outputs": [
    {
     "name": "stdout",
     "output_type": "stream",
     "text": [
      "S7_Y16_0\n",
      "S7_Y16_1\n",
      "S7_Y16_2\n",
      "S7_Y16_3\n",
      "S7_Y16_4\n",
      "S7_Y16_5\n",
      "K10_K196_0\n",
      "K10_K196_1\n",
      "K10_K196_2\n",
      "K10_K196_3\n",
      "K10_K196_4\n",
      "K10_K196_5\n",
      "Y16_K196_0\n",
      "Y16_K196_1\n",
      "Y16_K196_2\n",
      "Y16_K196_3\n",
      "Y16_K196_4\n",
      "Y16_K196_5\n",
      "K76_T86_0\n",
      "K76_T86_1\n",
      "K76_T86_2\n",
      "K76_T86_3\n",
      "K76_T86_4\n",
      "K76_T86_5\n",
      "K76_T161_0\n",
      "K76_T161_1\n",
      "K76_T161_2\n",
      "K76_T161_3\n",
      "K76_T161_4\n",
      "K76_T161_5\n",
      "K76_K196_0\n",
      "K76_K196_1\n",
      "K76_K196_2\n",
      "K76_K196_3\n",
      "K76_K196_4\n",
      "K76_K196_5\n",
      "K76_S208_0\n",
      "K76_S208_1\n",
      "K76_S208_2\n",
      "K76_S208_3\n",
      "K76_S208_4\n",
      "K76_S208_5\n",
      "T77_S208_0\n",
      "T77_S208_1\n",
      "T77_S208_2\n",
      "T77_S208_3\n",
      "T77_S208_4\n",
      "T77_S208_5\n",
      "S81_T86_0\n",
      "S81_T86_1\n",
      "S81_T86_2\n",
      "S81_T86_3\n",
      "S81_T86_4\n",
      "S81_T86_5\n",
      "S81_K96_0\n",
      "S81_K96_1\n",
      "S81_K96_2\n",
      "S81_K96_3\n",
      "S81_K96_4\n",
      "S81_K96_5\n",
      "K96_K196_0\n",
      "K96_K196_1\n",
      "K96_K196_2\n",
      "K96_K196_3\n",
      "K96_K196_4\n",
      "K96_K196_5\n",
      "K96_S208_0\n",
      "K96_S208_1\n",
      "K96_S208_2\n",
      "K96_S208_3\n",
      "K96_S208_4\n",
      "K96_S208_5\n",
      "T161_K204_0\n",
      "T161_K204_1\n",
      "T161_K204_2\n",
      "T161_K204_3\n",
      "T161_K204_4\n",
      "T161_K204_5\n",
      "K196_S198_0\n",
      "K196_S198_1\n",
      "K196_S198_2\n",
      "K196_S198_3\n",
      "K196_S198_4\n",
      "K196_S198_5\n",
      "K196_K204_0\n",
      "K196_K204_1\n",
      "K196_K204_2\n",
      "K196_K204_3\n",
      "K196_K204_4\n",
      "K196_K204_5\n",
      "K196_S208_0\n",
      "K196_S208_1\n",
      "K196_S208_2\n",
      "K196_S208_3\n",
      "K196_S208_4\n",
      "K196_S208_5\n",
      "K196_K271_0\n",
      "K196_K271_1\n",
      "K196_K271_2\n",
      "K196_K271_3\n",
      "K196_K271_4\n",
      "K196_K271_5\n",
      "K196_S276_0\n",
      "K196_S276_1\n",
      "K196_S276_2\n",
      "K196_S276_3\n",
      "K196_S276_4\n",
      "K196_S276_5\n",
      "S198_S208_0\n",
      "S198_S208_1\n",
      "S198_S208_2\n",
      "S198_S208_3\n",
      "S198_S208_4\n",
      "S198_S208_5\n",
      "T201_S208_0\n",
      "T201_S208_1\n",
      "T201_S208_2\n",
      "T201_S208_3\n",
      "T201_S208_4\n",
      "T201_S208_5\n"
     ]
    }
   ],
   "source": [
    "xl_pairs = [\"S7_Y16\", \"K10_K196\", \"Y16_K196\", \"K76_T86\", \"K76_T161\", \"K76_K196\", \"K76_S208\", \"T77_S208\", \"S81_T86\", \"S81_K96\", \"K96_K196\", \"K96_S208\", \"T161_K204\", \"K196_S198\", \"K196_K204\", \"K196_S208\", \"K196_K271\", \"K196_S276\", \"S198_S208\", \"T201_S208\"]\n",
    "for pair in xl_pairs:\n",
    "    pair_xl_score = np.load(f'MNXL/MNXL_by_pair/{pair}_MNXL_all_conc.npy')\n",
    "    for st in range(6):\n",
    "        print(f\"{pair}_{st}\")\n",
    "        pair_state = pair_xl_score[meta_dtrajs_subsample_conc==st]\n",
    "        np.save(f'MNXL/MNXL_by_pair_states/{pair}_state_{st}.npy', pair_state)"
   ]
  },
  {
   "cell_type": "code",
   "execution_count": null,
   "id": "f963fd49-3215-4b0f-94e2-f4013dcd3e96",
   "metadata": {},
   "outputs": [],
   "source": []
  }
 ],
 "metadata": {
  "kernelspec": {
   "display_name": "Python 3 (ipykernel)",
   "language": "python",
   "name": "python3"
  },
  "language_info": {
   "codemirror_mode": {
    "name": "ipython",
    "version": 3
   },
   "file_extension": ".py",
   "mimetype": "text/x-python",
   "name": "python",
   "nbconvert_exporter": "python",
   "pygments_lexer": "ipython3",
   "version": "3.11.5"
  }
 },
 "nbformat": 4,
 "nbformat_minor": 5
}
