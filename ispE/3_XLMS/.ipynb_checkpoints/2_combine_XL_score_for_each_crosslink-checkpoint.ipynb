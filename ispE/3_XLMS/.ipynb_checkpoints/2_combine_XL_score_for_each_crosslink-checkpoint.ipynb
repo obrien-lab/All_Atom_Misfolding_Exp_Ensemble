{
 "cells": [
  {
   "cell_type": "code",
   "execution_count": 1,
   "id": "3643f207-b84c-4e43-9c5f-8f4baaecf06f",
   "metadata": {},
   "outputs": [],
   "source": [
    "import numpy as np"
   ]
  },
  {
   "cell_type": "code",
   "execution_count": 3,
   "id": "0a2a91da-f1ce-4ab6-97bc-aec49010b3e4",
   "metadata": {},
   "outputs": [],
   "source": [
    "n_trajs = 56\n",
    "n_frames = 134"
   ]
  },
  {
   "cell_type": "code",
   "execution_count": 4,
   "id": "46ad7f9f-e399-4e65-9f87-f45c6f9ff4fe",
   "metadata": {},
   "outputs": [
    {
     "name": "stdout",
     "output_type": "stream",
     "text": [
      "0 S7_Y16\n",
      "1 K10_K196\n",
      "2 Y16_K196\n",
      "3 K76_T86\n",
      "4 K76_T161\n",
      "5 K76_K196\n",
      "6 K76_S208\n",
      "7 T77_S208\n",
      "8 S81_T86\n",
      "9 S81_K96\n",
      "10 K96_K196\n",
      "11 K96_S208\n",
      "12 T161_K204\n",
      "13 K196_S198\n",
      "14 K196_K204\n",
      "15 K196_S208\n",
      "16 K196_K271\n",
      "17 K196_S276\n",
      "18 S198_S208\n",
      "19 T201_S208\n"
     ]
    }
   ],
   "source": [
    "xl_pairs = [\"S7_Y16\", \"K10_K196\", \"Y16_K196\", \"K76_T86\", \"K76_T161\", \"K76_K196\", \"K76_S208\", \"T77_S208\", \"S81_T86\", \"S81_K96\", \"K96_K196\", \"K96_S208\", \"T161_K204\", \"K196_S198\", \"K196_K204\", \"K196_S208\", \"K196_K271\", \"K196_S276\", \"S198_S208\", \"T201_S208\"]\n",
    "for i, pair_AA in enumerate(xl_pairs):\n",
    "    print(i, pair_AA)\n",
    "\n",
    "    score_XL = np.zeros((n_trajs, n_frames))\n",
    "    for traj in range(n_trajs):\n",
    "        traj_scrore = np.load(f'../cg_refold_sims/JWALK_calculations/XL_scores/XL_{traj}.npy')\n",
    "        score_XL[traj, :] = traj_scrore[:, i]\n",
    "\n",
    "    score_XL_conc = np.concatenate(score_XL)\n",
    "    np.save(f\"MNXL/MNXL_by_pair/{pair_AA}_MNXL_all_conc.npy\", score_XL_conc)"
   ]
  },
  {
   "cell_type": "code",
   "execution_count": null,
   "id": "40ed48a7-33e1-4bd8-85b5-53aa65fe9462",
   "metadata": {},
   "outputs": [],
   "source": []
  }
 ],
 "metadata": {
  "kernelspec": {
   "display_name": "Python 3 (ipykernel)",
   "language": "python",
   "name": "python3"
  },
  "language_info": {
   "codemirror_mode": {
    "name": "ipython",
    "version": 3
   },
   "file_extension": ".py",
   "mimetype": "text/x-python",
   "name": "python",
   "nbconvert_exporter": "python",
   "pygments_lexer": "ipython3",
   "version": "3.11.5"
  }
 },
 "nbformat": 4,
 "nbformat_minor": 5
}
