{
 "cells": [
  {
   "cell_type": "code",
   "execution_count": 1,
   "id": "113db8a9",
   "metadata": {},
   "outputs": [],
   "source": [
    "import plotly.graph_objects as go\n",
    "import numpy as np"
   ]
  },
  {
   "cell_type": "code",
   "execution_count": 2,
   "id": "361edad1",
   "metadata": {},
   "outputs": [],
   "source": [
    "p_values = np.array([\n",
    "    [1e-5, 1e-5, 0.50023, 1e-5, 1.0],\n",
    "    [1e-5, 0.00468, 0.00238, 1e-5, 0.49545],\n",
    "    [0.25292, 0.58775, 1e-5, 1e-5, 0.03246],\n",
    "    [0.50023, 0.711, 1e-5, 0.48467, 1.0],\n",
    "    [1.0, 1.0, 0.04194, 1e-5, 1.0],\n",
    "    [0.50023, 0.711, 0.03246, 1e-5, 1.0],\n",
    "    [1.0, 1.0, 1.0, 0.04186, 1.0],\n",
    "    [1.0, 1.0, 1.0, 1.0, 1.0],\n",
    "    [1.0, 0.7718, 1e-5, 0.3201, 1.0],\n",
    "    [1.0, 1.0, 1.0, 1.0, 1.0],\n",
    "    [1.0, 1.0, 1.0, 1e-5, 1.0],\n",
    "    [1.0, 1.0, 1.0, 1e-5, 1.0],\n",
    "    [0.01744, 0.04194, 0.41095, 1e-5, 0.25292],\n",
    "    [0.01446, 0.48467, 0.69077, 1e-5, 0.089],\n",
    "    [1.0, 0.8191, 0.12065, 0.66127, 0.06488],\n",
    "    [0.66927, 0.66927, 0.20053, 1e-5, 0.66927],\n",
    "    [1.0, 1.0, 1.0, 1e-5, 1.0],\n",
    "    [1.0, 1.0, 1.0, 1e-5, 1.0],\n",
    "    [0.02362, 1.0, 0.8191, 1e-5, 0.48467],\n",
    "    [0.19637, 0.0137, 1.0, 1e-5, 0.85503]\n",
    "])"
   ]
  },
  {
   "cell_type": "code",
   "execution_count": 7,
   "id": "80d961ce",
   "metadata": {},
   "outputs": [],
   "source": [
    "crosslinks = [\n",
    "    \"S7-Y16\",\n",
    "    \"K10-K196\",\n",
    "    \"Y16-K196\",\n",
    "    \"K76-T86\",\n",
    "    \"K76-T161\",\n",
    "    \"K76-K196\",\n",
    "    \"K76-S208\",\n",
    "    \"T77-S208\",\n",
    "    \"S81-T86\",\n",
    "    \"S81-K96\",\n",
    "    \"K96-K196\",\n",
    "    \"K96-S208\",\n",
    "    \"T161-K204\",\n",
    "    \"K196-S198\",\n",
    "    \"K196-K204\",\n",
    "    \"K196-S208\",\n",
    "    \"K196-K271\",\n",
    "    \"K196-S276\",\n",
    "    \"S198-S208\",\n",
    "    \"T201-S208\"\n",
    "]"
   ]
  },
  {
   "cell_type": "code",
   "execution_count": 46,
   "id": "7a4679e1",
   "metadata": {},
   "outputs": [
    {
     "data": {
      "application/vnd.plotly.v1+json": {
       "config": {
        "plotlyServerURL": "https://plot.ly"
       },
       "data": [
        {
         "colorbar": {
          "len": 1,
          "lenmode": "fraction",
          "title": {
           "font": {
            "color": "black",
            "size": 18
           },
           "side": "right",
           "text": "adj. p-value"
          },
          "x": 1,
          "xanchor": "left",
          "y": 0.5,
          "yanchor": "middle"
         },
         "colorscale": [
          [
           0,
           "#440154"
          ],
          [
           0.1111111111111111,
           "#482878"
          ],
          [
           0.2222222222222222,
           "#3e4989"
          ],
          [
           0.3333333333333333,
           "#31688e"
          ],
          [
           0.4444444444444444,
           "#26828e"
          ],
          [
           0.5555555555555556,
           "#1f9e89"
          ],
          [
           0.6666666666666666,
           "#35b779"
          ],
          [
           0.7777777777777778,
           "#6ece58"
          ],
          [
           0.8888888888888888,
           "#b5de2b"
          ],
          [
           1,
           "#fde725"
          ]
         ],
         "customdata": [
          [
           1,
           1,
           0,
           0,
           0,
           0,
           0,
           0,
           0,
           0,
           0,
           0,
           1,
           1,
           0,
           0,
           0,
           0,
           1,
           0
          ],
          [
           1,
           1,
           0,
           0,
           0,
           0,
           0,
           0,
           0,
           0,
           0,
           0,
           1,
           0,
           0,
           0,
           0,
           0,
           0,
           1
          ],
          [
           0,
           1,
           1,
           1,
           1,
           1,
           0,
           0,
           1,
           0,
           0,
           0,
           0,
           0,
           0,
           0,
           0,
           0,
           0,
           0
          ],
          [
           1,
           1,
           1,
           0,
           1,
           1,
           1,
           0,
           0,
           0,
           1,
           1,
           1,
           1,
           0,
           1,
           1,
           1,
           1,
           1
          ],
          [
           0,
           0,
           1,
           0,
           0,
           0,
           0,
           0,
           0,
           0,
           0,
           0,
           0,
           0,
           0,
           0,
           0,
           0,
           0,
           0
          ]
         ],
         "hovertemplate": "<b>Crosslink:</b> %{x}<br><b>State:</b> %{y}<br><b>adj. p-value:</b> %{text}<br><b>Significant:</b> %{customdata}<extra></extra>",
         "showscale": true,
         "text": [
          [
           "<10<sup>-5</sup>",
           "<10<sup>-5</sup>",
           "0.253",
           "0.500",
           "1.0",
           "0.500",
           "1.0",
           "1.0",
           "1.0",
           "1.0",
           "1.0",
           "1.0",
           "0.017",
           "0.014",
           "1.0",
           "0.669",
           "1.0",
           "1.0",
           "0.024",
           "0.196"
          ],
          [
           "<10<sup>-5</sup>",
           "0.005",
           "0.588",
           "0.711",
           "1.0",
           "0.711",
           "1.0",
           "1.0",
           "0.772",
           "1.0",
           "1.0",
           "1.0",
           "0.042",
           "0.485",
           "0.819",
           "0.669",
           "1.0",
           "1.0",
           "1.0",
           "0.014"
          ],
          [
           "0.500",
           "0.002",
           "<10<sup>-5</sup>",
           "<10<sup>-5</sup>",
           "0.042",
           "0.032",
           "1.0",
           "1.0",
           "<10<sup>-5</sup>",
           "1.0",
           "1.0",
           "1.0",
           "0.411",
           "0.691",
           "0.121",
           "0.201",
           "1.0",
           "1.0",
           "0.819",
           "1.0"
          ],
          [
           "<10<sup>-5</sup>",
           "<10<sup>-5</sup>",
           "<10<sup>-5</sup>",
           "0.485",
           "<10<sup>-5</sup>",
           "<10<sup>-5</sup>",
           "0.042",
           "1.0",
           "0.320",
           "1.0",
           "<10<sup>-5</sup>",
           "<10<sup>-5</sup>",
           "<10<sup>-5</sup>",
           "<10<sup>-5</sup>",
           "0.661",
           "<10<sup>-5</sup>",
           "<10<sup>-5</sup>",
           "<10<sup>-5</sup>",
           "<10<sup>-5</sup>",
           "<10<sup>-5</sup>"
          ],
          [
           "1.0",
           "0.495",
           "0.032",
           "1.0",
           "1.0",
           "1.0",
           "1.0",
           "1.0",
           "1.0",
           "1.0",
           "1.0",
           "1.0",
           "0.253",
           "0.089",
           "0.065",
           "0.669",
           "1.0",
           "1.0",
           "0.485",
           "0.855"
          ]
         ],
         "textfont": {
          "size": 14
         },
         "texttemplate": "%{text}",
         "type": "heatmap",
         "x": [
          "S7-Y16",
          "K10-K196",
          "Y16-K196",
          "K76-T86",
          "K76-T161",
          "K76-K196",
          "K76-S208",
          "T77-S208",
          "S81-T86",
          "S81-K96",
          "K96-K196",
          "K96-S208",
          "T161-K204",
          "K196-S198",
          "K196-K204",
          "K196-S208",
          "K196-K271",
          "K196-S276",
          "S198-S208",
          "T201-S208"
         ],
         "xgap": 1,
         "y": [
          "State 0",
          "State 1",
          "State 2",
          "State 3",
          "State 4"
         ],
         "ygap": 1,
         "z": [
          [
           1e-05,
           1e-05,
           0.25292,
           0.50023,
           1,
           0.50023,
           1,
           1,
           1,
           1,
           1,
           1,
           0.01744,
           0.01446,
           1,
           0.66927,
           1,
           1,
           0.02362,
           0.19637
          ],
          [
           1e-05,
           0.00468,
           0.58775,
           0.711,
           1,
           0.711,
           1,
           1,
           0.7718,
           1,
           1,
           1,
           0.04194,
           0.48467,
           0.8191,
           0.66927,
           1,
           1,
           1,
           0.0137
          ],
          [
           0.50023,
           0.00238,
           1e-05,
           1e-05,
           0.04194,
           0.03246,
           1,
           1,
           1e-05,
           1,
           1,
           1,
           0.41095,
           0.69077,
           0.12065,
           0.20053,
           1,
           1,
           0.8191,
           1
          ],
          [
           1e-05,
           1e-05,
           1e-05,
           0.48467,
           1e-05,
           1e-05,
           0.04186,
           1,
           0.3201,
           1,
           1e-05,
           1e-05,
           1e-05,
           1e-05,
           0.66127,
           1e-05,
           1e-05,
           1e-05,
           1e-05,
           1e-05
          ],
          [
           1,
           0.49545,
           0.03246,
           1,
           1,
           1,
           1,
           1,
           1,
           1,
           1,
           1,
           0.25292,
           0.089,
           0.06488,
           0.66927,
           1,
           1,
           0.48467,
           0.85503
          ]
         ],
         "zmax": 1,
         "zmin": 0
        }
       ],
       "layout": {
        "height": 500,
        "margin": {
         "b": 100,
         "l": 200,
         "r": 100,
         "t": 100
        },
        "shapes": [
         {
          "fillcolor": "rgba(0, 0, 0, 0)",
          "layer": "above",
          "line": {
           "color": "white",
           "width": 3
          },
          "type": "rect",
          "x0": -0.5,
          "x1": 0.5,
          "y0": -0.5,
          "y1": 0.5
         },
         {
          "fillcolor": "rgba(0, 0, 0, 0)",
          "layer": "above",
          "line": {
           "color": "white",
           "width": 3
          },
          "type": "rect",
          "x0": 0.5,
          "x1": 1.5,
          "y0": -0.5,
          "y1": 0.5
         },
         {
          "fillcolor": "rgba(0, 0, 0, 0)",
          "layer": "above",
          "line": {
           "color": "white",
           "width": 3
          },
          "type": "rect",
          "x0": 11.5,
          "x1": 12.5,
          "y0": -0.5,
          "y1": 0.5
         },
         {
          "fillcolor": "rgba(0, 0, 0, 0)",
          "layer": "above",
          "line": {
           "color": "white",
           "width": 3
          },
          "type": "rect",
          "x0": 12.5,
          "x1": 13.5,
          "y0": -0.5,
          "y1": 0.5
         },
         {
          "fillcolor": "rgba(0, 0, 0, 0)",
          "layer": "above",
          "line": {
           "color": "white",
           "width": 3
          },
          "type": "rect",
          "x0": 17.5,
          "x1": 18.5,
          "y0": -0.5,
          "y1": 0.5
         },
         {
          "fillcolor": "rgba(0, 0, 0, 0)",
          "layer": "above",
          "line": {
           "color": "white",
           "width": 3
          },
          "type": "rect",
          "x0": -0.5,
          "x1": 0.5,
          "y0": 0.5,
          "y1": 1.5
         },
         {
          "fillcolor": "rgba(0, 0, 0, 0)",
          "layer": "above",
          "line": {
           "color": "white",
           "width": 3
          },
          "type": "rect",
          "x0": 0.5,
          "x1": 1.5,
          "y0": 0.5,
          "y1": 1.5
         },
         {
          "fillcolor": "rgba(0, 0, 0, 0)",
          "layer": "above",
          "line": {
           "color": "white",
           "width": 3
          },
          "type": "rect",
          "x0": 11.5,
          "x1": 12.5,
          "y0": 0.5,
          "y1": 1.5
         },
         {
          "fillcolor": "rgba(0, 0, 0, 0)",
          "layer": "above",
          "line": {
           "color": "white",
           "width": 3
          },
          "type": "rect",
          "x0": 18.5,
          "x1": 19.5,
          "y0": 0.5,
          "y1": 1.5
         },
         {
          "fillcolor": "rgba(0, 0, 0, 0)",
          "layer": "above",
          "line": {
           "color": "white",
           "width": 3
          },
          "type": "rect",
          "x0": 0.5,
          "x1": 1.5,
          "y0": 1.5,
          "y1": 2.5
         },
         {
          "fillcolor": "rgba(0, 0, 0, 0)",
          "layer": "above",
          "line": {
           "color": "white",
           "width": 3
          },
          "type": "rect",
          "x0": 1.5,
          "x1": 2.5,
          "y0": 1.5,
          "y1": 2.5
         },
         {
          "fillcolor": "rgba(0, 0, 0, 0)",
          "layer": "above",
          "line": {
           "color": "white",
           "width": 3
          },
          "type": "rect",
          "x0": 2.5,
          "x1": 3.5,
          "y0": 1.5,
          "y1": 2.5
         },
         {
          "fillcolor": "rgba(0, 0, 0, 0)",
          "layer": "above",
          "line": {
           "color": "white",
           "width": 3
          },
          "type": "rect",
          "x0": 3.5,
          "x1": 4.5,
          "y0": 1.5,
          "y1": 2.5
         },
         {
          "fillcolor": "rgba(0, 0, 0, 0)",
          "layer": "above",
          "line": {
           "color": "white",
           "width": 3
          },
          "type": "rect",
          "x0": 4.5,
          "x1": 5.5,
          "y0": 1.5,
          "y1": 2.5
         },
         {
          "fillcolor": "rgba(0, 0, 0, 0)",
          "layer": "above",
          "line": {
           "color": "white",
           "width": 3
          },
          "type": "rect",
          "x0": 7.5,
          "x1": 8.5,
          "y0": 1.5,
          "y1": 2.5
         },
         {
          "fillcolor": "rgba(0, 0, 0, 0)",
          "layer": "above",
          "line": {
           "color": "white",
           "width": 3
          },
          "type": "rect",
          "x0": -0.5,
          "x1": 0.5,
          "y0": 2.5,
          "y1": 3.5
         },
         {
          "fillcolor": "rgba(0, 0, 0, 0)",
          "layer": "above",
          "line": {
           "color": "white",
           "width": 3
          },
          "type": "rect",
          "x0": 0.5,
          "x1": 1.5,
          "y0": 2.5,
          "y1": 3.5
         },
         {
          "fillcolor": "rgba(0, 0, 0, 0)",
          "layer": "above",
          "line": {
           "color": "white",
           "width": 3
          },
          "type": "rect",
          "x0": 1.5,
          "x1": 2.5,
          "y0": 2.5,
          "y1": 3.5
         },
         {
          "fillcolor": "rgba(0, 0, 0, 0)",
          "layer": "above",
          "line": {
           "color": "white",
           "width": 3
          },
          "type": "rect",
          "x0": 3.5,
          "x1": 4.5,
          "y0": 2.5,
          "y1": 3.5
         },
         {
          "fillcolor": "rgba(0, 0, 0, 0)",
          "layer": "above",
          "line": {
           "color": "white",
           "width": 3
          },
          "type": "rect",
          "x0": 4.5,
          "x1": 5.5,
          "y0": 2.5,
          "y1": 3.5
         },
         {
          "fillcolor": "rgba(0, 0, 0, 0)",
          "layer": "above",
          "line": {
           "color": "white",
           "width": 3
          },
          "type": "rect",
          "x0": 5.5,
          "x1": 6.5,
          "y0": 2.5,
          "y1": 3.5
         },
         {
          "fillcolor": "rgba(0, 0, 0, 0)",
          "layer": "above",
          "line": {
           "color": "white",
           "width": 3
          },
          "type": "rect",
          "x0": 9.5,
          "x1": 10.5,
          "y0": 2.5,
          "y1": 3.5
         },
         {
          "fillcolor": "rgba(0, 0, 0, 0)",
          "layer": "above",
          "line": {
           "color": "white",
           "width": 3
          },
          "type": "rect",
          "x0": 10.5,
          "x1": 11.5,
          "y0": 2.5,
          "y1": 3.5
         },
         {
          "fillcolor": "rgba(0, 0, 0, 0)",
          "layer": "above",
          "line": {
           "color": "white",
           "width": 3
          },
          "type": "rect",
          "x0": 11.5,
          "x1": 12.5,
          "y0": 2.5,
          "y1": 3.5
         },
         {
          "fillcolor": "rgba(0, 0, 0, 0)",
          "layer": "above",
          "line": {
           "color": "white",
           "width": 3
          },
          "type": "rect",
          "x0": 12.5,
          "x1": 13.5,
          "y0": 2.5,
          "y1": 3.5
         },
         {
          "fillcolor": "rgba(0, 0, 0, 0)",
          "layer": "above",
          "line": {
           "color": "white",
           "width": 3
          },
          "type": "rect",
          "x0": 14.5,
          "x1": 15.5,
          "y0": 2.5,
          "y1": 3.5
         },
         {
          "fillcolor": "rgba(0, 0, 0, 0)",
          "layer": "above",
          "line": {
           "color": "white",
           "width": 3
          },
          "type": "rect",
          "x0": 15.5,
          "x1": 16.5,
          "y0": 2.5,
          "y1": 3.5
         },
         {
          "fillcolor": "rgba(0, 0, 0, 0)",
          "layer": "above",
          "line": {
           "color": "white",
           "width": 3
          },
          "type": "rect",
          "x0": 16.5,
          "x1": 17.5,
          "y0": 2.5,
          "y1": 3.5
         },
         {
          "fillcolor": "rgba(0, 0, 0, 0)",
          "layer": "above",
          "line": {
           "color": "white",
           "width": 3
          },
          "type": "rect",
          "x0": 17.5,
          "x1": 18.5,
          "y0": 2.5,
          "y1": 3.5
         },
         {
          "fillcolor": "rgba(0, 0, 0, 0)",
          "layer": "above",
          "line": {
           "color": "white",
           "width": 3
          },
          "type": "rect",
          "x0": 18.5,
          "x1": 19.5,
          "y0": 2.5,
          "y1": 3.5
         },
         {
          "fillcolor": "rgba(0, 0, 0, 0)",
          "layer": "above",
          "line": {
           "color": "white",
           "width": 3
          },
          "type": "rect",
          "x0": 1.5,
          "x1": 2.5,
          "y0": 3.5,
          "y1": 4.5
         }
        ],
        "template": {
         "data": {
          "bar": [
           {
            "error_x": {
             "color": "#2a3f5f"
            },
            "error_y": {
             "color": "#2a3f5f"
            },
            "marker": {
             "line": {
              "color": "#E5ECF6",
              "width": 0.5
             },
             "pattern": {
              "fillmode": "overlay",
              "size": 10,
              "solidity": 0.2
             }
            },
            "type": "bar"
           }
          ],
          "barpolar": [
           {
            "marker": {
             "line": {
              "color": "#E5ECF6",
              "width": 0.5
             },
             "pattern": {
              "fillmode": "overlay",
              "size": 10,
              "solidity": 0.2
             }
            },
            "type": "barpolar"
           }
          ],
          "carpet": [
           {
            "aaxis": {
             "endlinecolor": "#2a3f5f",
             "gridcolor": "white",
             "linecolor": "white",
             "minorgridcolor": "white",
             "startlinecolor": "#2a3f5f"
            },
            "baxis": {
             "endlinecolor": "#2a3f5f",
             "gridcolor": "white",
             "linecolor": "white",
             "minorgridcolor": "white",
             "startlinecolor": "#2a3f5f"
            },
            "type": "carpet"
           }
          ],
          "choropleth": [
           {
            "colorbar": {
             "outlinewidth": 0,
             "ticks": ""
            },
            "type": "choropleth"
           }
          ],
          "contour": [
           {
            "colorbar": {
             "outlinewidth": 0,
             "ticks": ""
            },
            "colorscale": [
             [
              0,
              "#0d0887"
             ],
             [
              0.1111111111111111,
              "#46039f"
             ],
             [
              0.2222222222222222,
              "#7201a8"
             ],
             [
              0.3333333333333333,
              "#9c179e"
             ],
             [
              0.4444444444444444,
              "#bd3786"
             ],
             [
              0.5555555555555556,
              "#d8576b"
             ],
             [
              0.6666666666666666,
              "#ed7953"
             ],
             [
              0.7777777777777778,
              "#fb9f3a"
             ],
             [
              0.8888888888888888,
              "#fdca26"
             ],
             [
              1,
              "#f0f921"
             ]
            ],
            "type": "contour"
           }
          ],
          "contourcarpet": [
           {
            "colorbar": {
             "outlinewidth": 0,
             "ticks": ""
            },
            "type": "contourcarpet"
           }
          ],
          "heatmap": [
           {
            "colorbar": {
             "outlinewidth": 0,
             "ticks": ""
            },
            "colorscale": [
             [
              0,
              "#0d0887"
             ],
             [
              0.1111111111111111,
              "#46039f"
             ],
             [
              0.2222222222222222,
              "#7201a8"
             ],
             [
              0.3333333333333333,
              "#9c179e"
             ],
             [
              0.4444444444444444,
              "#bd3786"
             ],
             [
              0.5555555555555556,
              "#d8576b"
             ],
             [
              0.6666666666666666,
              "#ed7953"
             ],
             [
              0.7777777777777778,
              "#fb9f3a"
             ],
             [
              0.8888888888888888,
              "#fdca26"
             ],
             [
              1,
              "#f0f921"
             ]
            ],
            "type": "heatmap"
           }
          ],
          "heatmapgl": [
           {
            "colorbar": {
             "outlinewidth": 0,
             "ticks": ""
            },
            "colorscale": [
             [
              0,
              "#0d0887"
             ],
             [
              0.1111111111111111,
              "#46039f"
             ],
             [
              0.2222222222222222,
              "#7201a8"
             ],
             [
              0.3333333333333333,
              "#9c179e"
             ],
             [
              0.4444444444444444,
              "#bd3786"
             ],
             [
              0.5555555555555556,
              "#d8576b"
             ],
             [
              0.6666666666666666,
              "#ed7953"
             ],
             [
              0.7777777777777778,
              "#fb9f3a"
             ],
             [
              0.8888888888888888,
              "#fdca26"
             ],
             [
              1,
              "#f0f921"
             ]
            ],
            "type": "heatmapgl"
           }
          ],
          "histogram": [
           {
            "marker": {
             "pattern": {
              "fillmode": "overlay",
              "size": 10,
              "solidity": 0.2
             }
            },
            "type": "histogram"
           }
          ],
          "histogram2d": [
           {
            "colorbar": {
             "outlinewidth": 0,
             "ticks": ""
            },
            "colorscale": [
             [
              0,
              "#0d0887"
             ],
             [
              0.1111111111111111,
              "#46039f"
             ],
             [
              0.2222222222222222,
              "#7201a8"
             ],
             [
              0.3333333333333333,
              "#9c179e"
             ],
             [
              0.4444444444444444,
              "#bd3786"
             ],
             [
              0.5555555555555556,
              "#d8576b"
             ],
             [
              0.6666666666666666,
              "#ed7953"
             ],
             [
              0.7777777777777778,
              "#fb9f3a"
             ],
             [
              0.8888888888888888,
              "#fdca26"
             ],
             [
              1,
              "#f0f921"
             ]
            ],
            "type": "histogram2d"
           }
          ],
          "histogram2dcontour": [
           {
            "colorbar": {
             "outlinewidth": 0,
             "ticks": ""
            },
            "colorscale": [
             [
              0,
              "#0d0887"
             ],
             [
              0.1111111111111111,
              "#46039f"
             ],
             [
              0.2222222222222222,
              "#7201a8"
             ],
             [
              0.3333333333333333,
              "#9c179e"
             ],
             [
              0.4444444444444444,
              "#bd3786"
             ],
             [
              0.5555555555555556,
              "#d8576b"
             ],
             [
              0.6666666666666666,
              "#ed7953"
             ],
             [
              0.7777777777777778,
              "#fb9f3a"
             ],
             [
              0.8888888888888888,
              "#fdca26"
             ],
             [
              1,
              "#f0f921"
             ]
            ],
            "type": "histogram2dcontour"
           }
          ],
          "mesh3d": [
           {
            "colorbar": {
             "outlinewidth": 0,
             "ticks": ""
            },
            "type": "mesh3d"
           }
          ],
          "parcoords": [
           {
            "line": {
             "colorbar": {
              "outlinewidth": 0,
              "ticks": ""
             }
            },
            "type": "parcoords"
           }
          ],
          "pie": [
           {
            "automargin": true,
            "type": "pie"
           }
          ],
          "scatter": [
           {
            "fillpattern": {
             "fillmode": "overlay",
             "size": 10,
             "solidity": 0.2
            },
            "type": "scatter"
           }
          ],
          "scatter3d": [
           {
            "line": {
             "colorbar": {
              "outlinewidth": 0,
              "ticks": ""
             }
            },
            "marker": {
             "colorbar": {
              "outlinewidth": 0,
              "ticks": ""
             }
            },
            "type": "scatter3d"
           }
          ],
          "scattercarpet": [
           {
            "marker": {
             "colorbar": {
              "outlinewidth": 0,
              "ticks": ""
             }
            },
            "type": "scattercarpet"
           }
          ],
          "scattergeo": [
           {
            "marker": {
             "colorbar": {
              "outlinewidth": 0,
              "ticks": ""
             }
            },
            "type": "scattergeo"
           }
          ],
          "scattergl": [
           {
            "marker": {
             "colorbar": {
              "outlinewidth": 0,
              "ticks": ""
             }
            },
            "type": "scattergl"
           }
          ],
          "scattermapbox": [
           {
            "marker": {
             "colorbar": {
              "outlinewidth": 0,
              "ticks": ""
             }
            },
            "type": "scattermapbox"
           }
          ],
          "scatterpolar": [
           {
            "marker": {
             "colorbar": {
              "outlinewidth": 0,
              "ticks": ""
             }
            },
            "type": "scatterpolar"
           }
          ],
          "scatterpolargl": [
           {
            "marker": {
             "colorbar": {
              "outlinewidth": 0,
              "ticks": ""
             }
            },
            "type": "scatterpolargl"
           }
          ],
          "scatterternary": [
           {
            "marker": {
             "colorbar": {
              "outlinewidth": 0,
              "ticks": ""
             }
            },
            "type": "scatterternary"
           }
          ],
          "surface": [
           {
            "colorbar": {
             "outlinewidth": 0,
             "ticks": ""
            },
            "colorscale": [
             [
              0,
              "#0d0887"
             ],
             [
              0.1111111111111111,
              "#46039f"
             ],
             [
              0.2222222222222222,
              "#7201a8"
             ],
             [
              0.3333333333333333,
              "#9c179e"
             ],
             [
              0.4444444444444444,
              "#bd3786"
             ],
             [
              0.5555555555555556,
              "#d8576b"
             ],
             [
              0.6666666666666666,
              "#ed7953"
             ],
             [
              0.7777777777777778,
              "#fb9f3a"
             ],
             [
              0.8888888888888888,
              "#fdca26"
             ],
             [
              1,
              "#f0f921"
             ]
            ],
            "type": "surface"
           }
          ],
          "table": [
           {
            "cells": {
             "fill": {
              "color": "#EBF0F8"
             },
             "line": {
              "color": "white"
             }
            },
            "header": {
             "fill": {
              "color": "#C8D4E3"
             },
             "line": {
              "color": "white"
             }
            },
            "type": "table"
           }
          ]
         },
         "layout": {
          "annotationdefaults": {
           "arrowcolor": "#2a3f5f",
           "arrowhead": 0,
           "arrowwidth": 1
          },
          "autotypenumbers": "strict",
          "coloraxis": {
           "colorbar": {
            "outlinewidth": 0,
            "ticks": ""
           }
          },
          "colorscale": {
           "diverging": [
            [
             0,
             "#8e0152"
            ],
            [
             0.1,
             "#c51b7d"
            ],
            [
             0.2,
             "#de77ae"
            ],
            [
             0.3,
             "#f1b6da"
            ],
            [
             0.4,
             "#fde0ef"
            ],
            [
             0.5,
             "#f7f7f7"
            ],
            [
             0.6,
             "#e6f5d0"
            ],
            [
             0.7,
             "#b8e186"
            ],
            [
             0.8,
             "#7fbc41"
            ],
            [
             0.9,
             "#4d9221"
            ],
            [
             1,
             "#276419"
            ]
           ],
           "sequential": [
            [
             0,
             "#0d0887"
            ],
            [
             0.1111111111111111,
             "#46039f"
            ],
            [
             0.2222222222222222,
             "#7201a8"
            ],
            [
             0.3333333333333333,
             "#9c179e"
            ],
            [
             0.4444444444444444,
             "#bd3786"
            ],
            [
             0.5555555555555556,
             "#d8576b"
            ],
            [
             0.6666666666666666,
             "#ed7953"
            ],
            [
             0.7777777777777778,
             "#fb9f3a"
            ],
            [
             0.8888888888888888,
             "#fdca26"
            ],
            [
             1,
             "#f0f921"
            ]
           ],
           "sequentialminus": [
            [
             0,
             "#0d0887"
            ],
            [
             0.1111111111111111,
             "#46039f"
            ],
            [
             0.2222222222222222,
             "#7201a8"
            ],
            [
             0.3333333333333333,
             "#9c179e"
            ],
            [
             0.4444444444444444,
             "#bd3786"
            ],
            [
             0.5555555555555556,
             "#d8576b"
            ],
            [
             0.6666666666666666,
             "#ed7953"
            ],
            [
             0.7777777777777778,
             "#fb9f3a"
            ],
            [
             0.8888888888888888,
             "#fdca26"
            ],
            [
             1,
             "#f0f921"
            ]
           ]
          },
          "colorway": [
           "#636efa",
           "#EF553B",
           "#00cc96",
           "#ab63fa",
           "#FFA15A",
           "#19d3f3",
           "#FF6692",
           "#B6E880",
           "#FF97FF",
           "#FECB52"
          ],
          "font": {
           "color": "#2a3f5f"
          },
          "geo": {
           "bgcolor": "white",
           "lakecolor": "white",
           "landcolor": "#E5ECF6",
           "showlakes": true,
           "showland": true,
           "subunitcolor": "white"
          },
          "hoverlabel": {
           "align": "left"
          },
          "hovermode": "closest",
          "mapbox": {
           "style": "light"
          },
          "paper_bgcolor": "white",
          "plot_bgcolor": "#E5ECF6",
          "polar": {
           "angularaxis": {
            "gridcolor": "white",
            "linecolor": "white",
            "ticks": ""
           },
           "bgcolor": "#E5ECF6",
           "radialaxis": {
            "gridcolor": "white",
            "linecolor": "white",
            "ticks": ""
           }
          },
          "scene": {
           "xaxis": {
            "backgroundcolor": "#E5ECF6",
            "gridcolor": "white",
            "gridwidth": 2,
            "linecolor": "white",
            "showbackground": true,
            "ticks": "",
            "zerolinecolor": "white"
           },
           "yaxis": {
            "backgroundcolor": "#E5ECF6",
            "gridcolor": "white",
            "gridwidth": 2,
            "linecolor": "white",
            "showbackground": true,
            "ticks": "",
            "zerolinecolor": "white"
           },
           "zaxis": {
            "backgroundcolor": "#E5ECF6",
            "gridcolor": "white",
            "gridwidth": 2,
            "linecolor": "white",
            "showbackground": true,
            "ticks": "",
            "zerolinecolor": "white"
           }
          },
          "shapedefaults": {
           "line": {
            "color": "#2a3f5f"
           }
          },
          "ternary": {
           "aaxis": {
            "gridcolor": "white",
            "linecolor": "white",
            "ticks": ""
           },
           "baxis": {
            "gridcolor": "white",
            "linecolor": "white",
            "ticks": ""
           },
           "bgcolor": "#E5ECF6",
           "caxis": {
            "gridcolor": "white",
            "linecolor": "white",
            "ticks": ""
           }
          },
          "title": {
           "x": 0.05
          },
          "xaxis": {
           "automargin": true,
           "gridcolor": "white",
           "linecolor": "white",
           "ticks": "",
           "title": {
            "standoff": 15
           },
           "zerolinecolor": "white",
           "zerolinewidth": 2
          },
          "yaxis": {
           "automargin": true,
           "gridcolor": "white",
           "linecolor": "white",
           "ticks": "",
           "title": {
            "standoff": 15
           },
           "zerolinecolor": "white",
           "zerolinewidth": 2
          }
         }
        },
        "width": 1700,
        "xaxis": {
         "autorange": true,
         "range": [
          -0.521613832853026,
          19.521613832853024
         ],
         "tickangle": -45,
         "tickfont": {
          "color": "black",
          "size": 18
         },
         "tickmode": "array",
         "ticktext": [
          "S7-Y16",
          "K10-K196",
          "Y16-K196",
          "K76-T86",
          "K76-T161",
          "K76-K196",
          "K76-S208",
          "T77-S208",
          "S81-T86",
          "S81-K96",
          "K96-K196",
          "K96-S208",
          "T161-K204",
          "K196-S198",
          "K196-K204",
          "K196-S208",
          "K196-K271",
          "K196-S276",
          "S198-S208",
          "T201-S208"
         ],
         "tickvals": [
          "S7-Y16",
          "K10-K196",
          "Y16-K196",
          "K76-T86",
          "K76-T161",
          "K76-K196",
          "K76-S208",
          "T77-S208",
          "S81-T86",
          "S81-K96",
          "K96-K196",
          "K96-S208",
          "T161-K204",
          "K196-S198",
          "K196-K204",
          "K196-S208",
          "K196-K271",
          "K196-S276",
          "S198-S208",
          "T201-S208"
         ],
         "title": {
          "font": {
           "color": "black",
           "size": 24
          },
          "text": "Crosslink"
         },
         "type": "category"
        },
        "yaxis": {
         "automargin": true,
         "autorange": true,
         "linecolor": "rgba(0, 0, 0, 0)",
         "range": [
          -0.5286259541984732,
          4.528625954198473
         ],
         "side": "left",
         "tickcolor": "rgba(0, 0, 0, 0)",
         "tickfont": {
          "color": "black",
          "size": 18
         },
         "ticklabelposition": "outside",
         "ticklen": 20,
         "ticks": "outside",
         "tickson": "boundaries",
         "tickwidth": 2,
         "title": {
          "font": {
           "color": "black",
           "size": 24
          },
          "text": "State"
         },
         "type": "category"
        }
       }
      },
      "image/png": "[encoded data removed]",
      "text/html": [
       "<div>                            <div id=\"17e0b5f1-b32c-4e21-9221-3699bb2886d5\" class=\"plotly-graph-div\" style=\"height:500px; width:1700px;\"></div>            <script type=\"text/javascript\">                require([\"plotly\"], function(Plotly) {                    window.PLOTLYENV=window.PLOTLYENV || {};                                    if (document.getElementById(\"17e0b5f1-b32c-4e21-9221-3699bb2886d5\")) {                    Plotly.newPlot(                        \"17e0b5f1-b32c-4e21-9221-3699bb2886d5\",                        [{\"colorbar\":{\"len\":1.0,\"lenmode\":\"fraction\",\"title\":{\"font\":{\"color\":\"black\",\"size\":18},\"side\":\"right\",\"text\":\"adj. p-value\"},\"x\":1.0,\"xanchor\":\"left\",\"y\":0.5,\"yanchor\":\"middle\"},\"colorscale\":[[0.0,\"#440154\"],[0.1111111111111111,\"#482878\"],[0.2222222222222222,\"#3e4989\"],[0.3333333333333333,\"#31688e\"],[0.4444444444444444,\"#26828e\"],[0.5555555555555556,\"#1f9e89\"],[0.6666666666666666,\"#35b779\"],[0.7777777777777778,\"#6ece58\"],[0.8888888888888888,\"#b5de2b\"],[1.0,\"#fde725\"]],\"customdata\":[[1,1,0,0,0,0,0,0,0,0,0,0,1,1,0,0,0,0,1,0],[1,1,0,0,0,0,0,0,0,0,0,0,1,0,0,0,0,0,0,1],[0,1,1,1,1,1,0,0,1,0,0,0,0,0,0,0,0,0,0,0],[1,1,1,0,1,1,1,0,0,0,1,1,1,1,0,1,1,1,1,1],[0,0,1,0,0,0,0,0,0,0,0,0,0,0,0,0,0,0,0,0]],\"hovertemplate\":\"\\u003cb\\u003eCrosslink:\\u003c\\u002fb\\u003e %{x}\\u003cbr\\u003e\\u003cb\\u003eState:\\u003c\\u002fb\\u003e %{y}\\u003cbr\\u003e\\u003cb\\u003eadj. p-value:\\u003c\\u002fb\\u003e %{text}\\u003cbr\\u003e\\u003cb\\u003eSignificant:\\u003c\\u002fb\\u003e %{customdata}\\u003cextra\\u003e\\u003c\\u002fextra\\u003e\",\"showscale\":true,\"text\":[[\"\\u003c10\\u003csup\\u003e-5\\u003c\\u002fsup\\u003e\",\"\\u003c10\\u003csup\\u003e-5\\u003c\\u002fsup\\u003e\",\"0.253\",\"0.500\",\"1.0\",\"0.500\",\"1.0\",\"1.0\",\"1.0\",\"1.0\",\"1.0\",\"1.0\",\"0.017\",\"0.014\",\"1.0\",\"0.669\",\"1.0\",\"1.0\",\"0.024\",\"0.196\"],[\"\\u003c10\\u003csup\\u003e-5\\u003c\\u002fsup\\u003e\",\"0.005\",\"0.588\",\"0.711\",\"1.0\",\"0.711\",\"1.0\",\"1.0\",\"0.772\",\"1.0\",\"1.0\",\"1.0\",\"0.042\",\"0.485\",\"0.819\",\"0.669\",\"1.0\",\"1.0\",\"1.0\",\"0.014\"],[\"0.500\",\"0.002\",\"\\u003c10\\u003csup\\u003e-5\\u003c\\u002fsup\\u003e\",\"\\u003c10\\u003csup\\u003e-5\\u003c\\u002fsup\\u003e\",\"0.042\",\"0.032\",\"1.0\",\"1.0\",\"\\u003c10\\u003csup\\u003e-5\\u003c\\u002fsup\\u003e\",\"1.0\",\"1.0\",\"1.0\",\"0.411\",\"0.691\",\"0.121\",\"0.201\",\"1.0\",\"1.0\",\"0.819\",\"1.0\"],[\"\\u003c10\\u003csup\\u003e-5\\u003c\\u002fsup\\u003e\",\"\\u003c10\\u003csup\\u003e-5\\u003c\\u002fsup\\u003e\",\"\\u003c10\\u003csup\\u003e-5\\u003c\\u002fsup\\u003e\",\"0.485\",\"\\u003c10\\u003csup\\u003e-5\\u003c\\u002fsup\\u003e\",\"\\u003c10\\u003csup\\u003e-5\\u003c\\u002fsup\\u003e\",\"0.042\",\"1.0\",\"0.320\",\"1.0\",\"\\u003c10\\u003csup\\u003e-5\\u003c\\u002fsup\\u003e\",\"\\u003c10\\u003csup\\u003e-5\\u003c\\u002fsup\\u003e\",\"\\u003c10\\u003csup\\u003e-5\\u003c\\u002fsup\\u003e\",\"\\u003c10\\u003csup\\u003e-5\\u003c\\u002fsup\\u003e\",\"0.661\",\"\\u003c10\\u003csup\\u003e-5\\u003c\\u002fsup\\u003e\",\"\\u003c10\\u003csup\\u003e-5\\u003c\\u002fsup\\u003e\",\"\\u003c10\\u003csup\\u003e-5\\u003c\\u002fsup\\u003e\",\"\\u003c10\\u003csup\\u003e-5\\u003c\\u002fsup\\u003e\",\"\\u003c10\\u003csup\\u003e-5\\u003c\\u002fsup\\u003e\"],[\"1.0\",\"0.495\",\"0.032\",\"1.0\",\"1.0\",\"1.0\",\"1.0\",\"1.0\",\"1.0\",\"1.0\",\"1.0\",\"1.0\",\"0.253\",\"0.089\",\"0.065\",\"0.669\",\"1.0\",\"1.0\",\"0.485\",\"0.855\"]],\"textfont\":{\"size\":14},\"texttemplate\":\"%{text}\",\"x\":[\"S7-Y16\",\"K10-K196\",\"Y16-K196\",\"K76-T86\",\"K76-T161\",\"K76-K196\",\"K76-S208\",\"T77-S208\",\"S81-T86\",\"S81-K96\",\"K96-K196\",\"K96-S208\",\"T161-K204\",\"K196-S198\",\"K196-K204\",\"K196-S208\",\"K196-K271\",\"K196-S276\",\"S198-S208\",\"T201-S208\"],\"xgap\":1,\"y\":[\"State 0\",\"State 1\",\"State 2\",\"State 3\",\"State 4\"],\"ygap\":1,\"z\":[[1e-05,1e-05,0.25292,0.50023,1.0,0.50023,1.0,1.0,1.0,1.0,1.0,1.0,0.01744,0.01446,1.0,0.66927,1.0,1.0,0.02362,0.19637],[1e-05,0.00468,0.58775,0.711,1.0,0.711,1.0,1.0,0.7718,1.0,1.0,1.0,0.04194,0.48467,0.8191,0.66927,1.0,1.0,1.0,0.0137],[0.50023,0.00238,1e-05,1e-05,0.04194,0.03246,1.0,1.0,1e-05,1.0,1.0,1.0,0.41095,0.69077,0.12065,0.20053,1.0,1.0,0.8191,1.0],[1e-05,1e-05,1e-05,0.48467,1e-05,1e-05,0.04186,1.0,0.3201,1.0,1e-05,1e-05,1e-05,1e-05,0.66127,1e-05,1e-05,1e-05,1e-05,1e-05],[1.0,0.49545,0.03246,1.0,1.0,1.0,1.0,1.0,1.0,1.0,1.0,1.0,0.25292,0.089,0.06488,0.66927,1.0,1.0,0.48467,0.85503]],\"zmax\":1,\"zmin\":0,\"type\":\"heatmap\"}],                        {\"template\":{\"data\":{\"histogram2dcontour\":[{\"type\":\"histogram2dcontour\",\"colorbar\":{\"outlinewidth\":0,\"ticks\":\"\"},\"colorscale\":[[0.0,\"#0d0887\"],[0.1111111111111111,\"#46039f\"],[0.2222222222222222,\"#7201a8\"],[0.3333333333333333,\"#9c179e\"],[0.4444444444444444,\"#bd3786\"],[0.5555555555555556,\"#d8576b\"],[0.6666666666666666,\"#ed7953\"],[0.7777777777777778,\"#fb9f3a\"],[0.8888888888888888,\"#fdca26\"],[1.0,\"#f0f921\"]]}],\"choropleth\":[{\"type\":\"choropleth\",\"colorbar\":{\"outlinewidth\":0,\"ticks\":\"\"}}],\"histogram2d\":[{\"type\":\"histogram2d\",\"colorbar\":{\"outlinewidth\":0,\"ticks\":\"\"},\"colorscale\":[[0.0,\"#0d0887\"],[0.1111111111111111,\"#46039f\"],[0.2222222222222222,\"#7201a8\"],[0.3333333333333333,\"#9c179e\"],[0.4444444444444444,\"#bd3786\"],[0.5555555555555556,\"#d8576b\"],[0.6666666666666666,\"#ed7953\"],[0.7777777777777778,\"#fb9f3a\"],[0.8888888888888888,\"#fdca26\"],[1.0,\"#f0f921\"]]}],\"heatmap\":[{\"type\":\"heatmap\",\"colorbar\":{\"outlinewidth\":0,\"ticks\":\"\"},\"colorscale\":[[0.0,\"#0d0887\"],[0.1111111111111111,\"#46039f\"],[0.2222222222222222,\"#7201a8\"],[0.3333333333333333,\"#9c179e\"],[0.4444444444444444,\"#bd3786\"],[0.5555555555555556,\"#d8576b\"],[0.6666666666666666,\"#ed7953\"],[0.7777777777777778,\"#fb9f3a\"],[0.8888888888888888,\"#fdca26\"],[1.0,\"#f0f921\"]]}],\"heatmapgl\":[{\"type\":\"heatmapgl\",\"colorbar\":{\"outlinewidth\":0,\"ticks\":\"\"},\"colorscale\":[[0.0,\"#0d0887\"],[0.1111111111111111,\"#46039f\"],[0.2222222222222222,\"#7201a8\"],[0.3333333333333333,\"#9c179e\"],[0.4444444444444444,\"#bd3786\"],[0.5555555555555556,\"#d8576b\"],[0.6666666666666666,\"#ed7953\"],[0.7777777777777778,\"#fb9f3a\"],[0.8888888888888888,\"#fdca26\"],[1.0,\"#f0f921\"]]}],\"contourcarpet\":[{\"type\":\"contourcarpet\",\"colorbar\":{\"outlinewidth\":0,\"ticks\":\"\"}}],\"contour\":[{\"type\":\"contour\",\"colorbar\":{\"outlinewidth\":0,\"ticks\":\"\"},\"colorscale\":[[0.0,\"#0d0887\"],[0.1111111111111111,\"#46039f\"],[0.2222222222222222,\"#7201a8\"],[0.3333333333333333,\"#9c179e\"],[0.4444444444444444,\"#bd3786\"],[0.5555555555555556,\"#d8576b\"],[0.6666666666666666,\"#ed7953\"],[0.7777777777777778,\"#fb9f3a\"],[0.8888888888888888,\"#fdca26\"],[1.0,\"#f0f921\"]]}],\"surface\":[{\"type\":\"surface\",\"colorbar\":{\"outlinewidth\":0,\"ticks\":\"\"},\"colorscale\":[[0.0,\"#0d0887\"],[0.1111111111111111,\"#46039f\"],[0.2222222222222222,\"#7201a8\"],[0.3333333333333333,\"#9c179e\"],[0.4444444444444444,\"#bd3786\"],[0.5555555555555556,\"#d8576b\"],[0.6666666666666666,\"#ed7953\"],[0.7777777777777778,\"#fb9f3a\"],[0.8888888888888888,\"#fdca26\"],[1.0,\"#f0f921\"]]}],\"mesh3d\":[{\"type\":\"mesh3d\",\"colorbar\":{\"outlinewidth\":0,\"ticks\":\"\"}}],\"scatter\":[{\"fillpattern\":{\"fillmode\":\"overlay\",\"size\":10,\"solidity\":0.2},\"type\":\"scatter\"}],\"parcoords\":[{\"type\":\"parcoords\",\"line\":{\"colorbar\":{\"outlinewidth\":0,\"ticks\":\"\"}}}],\"scatterpolargl\":[{\"type\":\"scatterpolargl\",\"marker\":{\"colorbar\":{\"outlinewidth\":0,\"ticks\":\"\"}}}],\"bar\":[{\"error_x\":{\"color\":\"#2a3f5f\"},\"error_y\":{\"color\":\"#2a3f5f\"},\"marker\":{\"line\":{\"color\":\"#E5ECF6\",\"width\":0.5},\"pattern\":{\"fillmode\":\"overlay\",\"size\":10,\"solidity\":0.2}},\"type\":\"bar\"}],\"scattergeo\":[{\"type\":\"scattergeo\",\"marker\":{\"colorbar\":{\"outlinewidth\":0,\"ticks\":\"\"}}}],\"scatterpolar\":[{\"type\":\"scatterpolar\",\"marker\":{\"colorbar\":{\"outlinewidth\":0,\"ticks\":\"\"}}}],\"histogram\":[{\"marker\":{\"pattern\":{\"fillmode\":\"overlay\",\"size\":10,\"solidity\":0.2}},\"type\":\"histogram\"}],\"scattergl\":[{\"type\":\"scattergl\",\"marker\":{\"colorbar\":{\"outlinewidth\":0,\"ticks\":\"\"}}}],\"scatter3d\":[{\"type\":\"scatter3d\",\"line\":{\"colorbar\":{\"outlinewidth\":0,\"ticks\":\"\"}},\"marker\":{\"colorbar\":{\"outlinewidth\":0,\"ticks\":\"\"}}}],\"scattermapbox\":[{\"type\":\"scattermapbox\",\"marker\":{\"colorbar\":{\"outlinewidth\":0,\"ticks\":\"\"}}}],\"scatterternary\":[{\"type\":\"scatterternary\",\"marker\":{\"colorbar\":{\"outlinewidth\":0,\"ticks\":\"\"}}}],\"scattercarpet\":[{\"type\":\"scattercarpet\",\"marker\":{\"colorbar\":{\"outlinewidth\":0,\"ticks\":\"\"}}}],\"carpet\":[{\"aaxis\":{\"endlinecolor\":\"#2a3f5f\",\"gridcolor\":\"white\",\"linecolor\":\"white\",\"minorgridcolor\":\"white\",\"startlinecolor\":\"#2a3f5f\"},\"baxis\":{\"endlinecolor\":\"#2a3f5f\",\"gridcolor\":\"white\",\"linecolor\":\"white\",\"minorgridcolor\":\"white\",\"startlinecolor\":\"#2a3f5f\"},\"type\":\"carpet\"}],\"table\":[{\"cells\":{\"fill\":{\"color\":\"#EBF0F8\"},\"line\":{\"color\":\"white\"}},\"header\":{\"fill\":{\"color\":\"#C8D4E3\"},\"line\":{\"color\":\"white\"}},\"type\":\"table\"}],\"barpolar\":[{\"marker\":{\"line\":{\"color\":\"#E5ECF6\",\"width\":0.5},\"pattern\":{\"fillmode\":\"overlay\",\"size\":10,\"solidity\":0.2}},\"type\":\"barpolar\"}],\"pie\":[{\"automargin\":true,\"type\":\"pie\"}]},\"layout\":{\"autotypenumbers\":\"strict\",\"colorway\":[\"#636efa\",\"#EF553B\",\"#00cc96\",\"#ab63fa\",\"#FFA15A\",\"#19d3f3\",\"#FF6692\",\"#B6E880\",\"#FF97FF\",\"#FECB52\"],\"font\":{\"color\":\"#2a3f5f\"},\"hovermode\":\"closest\",\"hoverlabel\":{\"align\":\"left\"},\"paper_bgcolor\":\"white\",\"plot_bgcolor\":\"#E5ECF6\",\"polar\":{\"bgcolor\":\"#E5ECF6\",\"angularaxis\":{\"gridcolor\":\"white\",\"linecolor\":\"white\",\"ticks\":\"\"},\"radialaxis\":{\"gridcolor\":\"white\",\"linecolor\":\"white\",\"ticks\":\"\"}},\"ternary\":{\"bgcolor\":\"#E5ECF6\",\"aaxis\":{\"gridcolor\":\"white\",\"linecolor\":\"white\",\"ticks\":\"\"},\"baxis\":{\"gridcolor\":\"white\",\"linecolor\":\"white\",\"ticks\":\"\"},\"caxis\":{\"gridcolor\":\"white\",\"linecolor\":\"white\",\"ticks\":\"\"}},\"coloraxis\":{\"colorbar\":{\"outlinewidth\":0,\"ticks\":\"\"}},\"colorscale\":{\"sequential\":[[0.0,\"#0d0887\"],[0.1111111111111111,\"#46039f\"],[0.2222222222222222,\"#7201a8\"],[0.3333333333333333,\"#9c179e\"],[0.4444444444444444,\"#bd3786\"],[0.5555555555555556,\"#d8576b\"],[0.6666666666666666,\"#ed7953\"],[0.7777777777777778,\"#fb9f3a\"],[0.8888888888888888,\"#fdca26\"],[1.0,\"#f0f921\"]],\"sequentialminus\":[[0.0,\"#0d0887\"],[0.1111111111111111,\"#46039f\"],[0.2222222222222222,\"#7201a8\"],[0.3333333333333333,\"#9c179e\"],[0.4444444444444444,\"#bd3786\"],[0.5555555555555556,\"#d8576b\"],[0.6666666666666666,\"#ed7953\"],[0.7777777777777778,\"#fb9f3a\"],[0.8888888888888888,\"#fdca26\"],[1.0,\"#f0f921\"]],\"diverging\":[[0,\"#8e0152\"],[0.1,\"#c51b7d\"],[0.2,\"#de77ae\"],[0.3,\"#f1b6da\"],[0.4,\"#fde0ef\"],[0.5,\"#f7f7f7\"],[0.6,\"#e6f5d0\"],[0.7,\"#b8e186\"],[0.8,\"#7fbc41\"],[0.9,\"#4d9221\"],[1,\"#276419\"]]},\"xaxis\":{\"gridcolor\":\"white\",\"linecolor\":\"white\",\"ticks\":\"\",\"title\":{\"standoff\":15},\"zerolinecolor\":\"white\",\"automargin\":true,\"zerolinewidth\":2},\"yaxis\":{\"gridcolor\":\"white\",\"linecolor\":\"white\",\"ticks\":\"\",\"title\":{\"standoff\":15},\"zerolinecolor\":\"white\",\"automargin\":true,\"zerolinewidth\":2},\"scene\":{\"xaxis\":{\"backgroundcolor\":\"#E5ECF6\",\"gridcolor\":\"white\",\"linecolor\":\"white\",\"showbackground\":true,\"ticks\":\"\",\"zerolinecolor\":\"white\",\"gridwidth\":2},\"yaxis\":{\"backgroundcolor\":\"#E5ECF6\",\"gridcolor\":\"white\",\"linecolor\":\"white\",\"showbackground\":true,\"ticks\":\"\",\"zerolinecolor\":\"white\",\"gridwidth\":2},\"zaxis\":{\"backgroundcolor\":\"#E5ECF6\",\"gridcolor\":\"white\",\"linecolor\":\"white\",\"showbackground\":true,\"ticks\":\"\",\"zerolinecolor\":\"white\",\"gridwidth\":2}},\"shapedefaults\":{\"line\":{\"color\":\"#2a3f5f\"}},\"annotationdefaults\":{\"arrowcolor\":\"#2a3f5f\",\"arrowhead\":0,\"arrowwidth\":1},\"geo\":{\"bgcolor\":\"white\",\"landcolor\":\"#E5ECF6\",\"subunitcolor\":\"white\",\"showland\":true,\"showlakes\":true,\"lakecolor\":\"white\"},\"title\":{\"x\":0.05},\"mapbox\":{\"style\":\"light\"}}},\"shapes\":[{\"fillcolor\":\"rgba(0,0,0,0)\",\"layer\":\"above\",\"line\":{\"color\":\"white\",\"width\":3},\"type\":\"rect\",\"x0\":-0.5,\"x1\":0.5,\"y0\":-0.5,\"y1\":0.5},{\"fillcolor\":\"rgba(0,0,0,0)\",\"layer\":\"above\",\"line\":{\"color\":\"white\",\"width\":3},\"type\":\"rect\",\"x0\":0.5,\"x1\":1.5,\"y0\":-0.5,\"y1\":0.5},{\"fillcolor\":\"rgba(0,0,0,0)\",\"layer\":\"above\",\"line\":{\"color\":\"white\",\"width\":3},\"type\":\"rect\",\"x0\":11.5,\"x1\":12.5,\"y0\":-0.5,\"y1\":0.5},{\"fillcolor\":\"rgba(0,0,0,0)\",\"layer\":\"above\",\"line\":{\"color\":\"white\",\"width\":3},\"type\":\"rect\",\"x0\":12.5,\"x1\":13.5,\"y0\":-0.5,\"y1\":0.5},{\"fillcolor\":\"rgba(0,0,0,0)\",\"layer\":\"above\",\"line\":{\"color\":\"white\",\"width\":3},\"type\":\"rect\",\"x0\":17.5,\"x1\":18.5,\"y0\":-0.5,\"y1\":0.5},{\"fillcolor\":\"rgba(0,0,0,0)\",\"layer\":\"above\",\"line\":{\"color\":\"white\",\"width\":3},\"type\":\"rect\",\"x0\":-0.5,\"x1\":0.5,\"y0\":0.5,\"y1\":1.5},{\"fillcolor\":\"rgba(0,0,0,0)\",\"layer\":\"above\",\"line\":{\"color\":\"white\",\"width\":3},\"type\":\"rect\",\"x0\":0.5,\"x1\":1.5,\"y0\":0.5,\"y1\":1.5},{\"fillcolor\":\"rgba(0,0,0,0)\",\"layer\":\"above\",\"line\":{\"color\":\"white\",\"width\":3},\"type\":\"rect\",\"x0\":11.5,\"x1\":12.5,\"y0\":0.5,\"y1\":1.5},{\"fillcolor\":\"rgba(0,0,0,0)\",\"layer\":\"above\",\"line\":{\"color\":\"white\",\"width\":3},\"type\":\"rect\",\"x0\":18.5,\"x1\":19.5,\"y0\":0.5,\"y1\":1.5},{\"fillcolor\":\"rgba(0,0,0,0)\",\"layer\":\"above\",\"line\":{\"color\":\"white\",\"width\":3},\"type\":\"rect\",\"x0\":0.5,\"x1\":1.5,\"y0\":1.5,\"y1\":2.5},{\"fillcolor\":\"rgba(0,0,0,0)\",\"layer\":\"above\",\"line\":{\"color\":\"white\",\"width\":3},\"type\":\"rect\",\"x0\":1.5,\"x1\":2.5,\"y0\":1.5,\"y1\":2.5},{\"fillcolor\":\"rgba(0,0,0,0)\",\"layer\":\"above\",\"line\":{\"color\":\"white\",\"width\":3},\"type\":\"rect\",\"x0\":2.5,\"x1\":3.5,\"y0\":1.5,\"y1\":2.5},{\"fillcolor\":\"rgba(0,0,0,0)\",\"layer\":\"above\",\"line\":{\"color\":\"white\",\"width\":3},\"type\":\"rect\",\"x0\":3.5,\"x1\":4.5,\"y0\":1.5,\"y1\":2.5},{\"fillcolor\":\"rgba(0,0,0,0)\",\"layer\":\"above\",\"line\":{\"color\":\"white\",\"width\":3},\"type\":\"rect\",\"x0\":4.5,\"x1\":5.5,\"y0\":1.5,\"y1\":2.5},{\"fillcolor\":\"rgba(0,0,0,0)\",\"layer\":\"above\",\"line\":{\"color\":\"white\",\"width\":3},\"type\":\"rect\",\"x0\":7.5,\"x1\":8.5,\"y0\":1.5,\"y1\":2.5},{\"fillcolor\":\"rgba(0,0,0,0)\",\"layer\":\"above\",\"line\":{\"color\":\"white\",\"width\":3},\"type\":\"rect\",\"x0\":-0.5,\"x1\":0.5,\"y0\":2.5,\"y1\":3.5},{\"fillcolor\":\"rgba(0,0,0,0)\",\"layer\":\"above\",\"line\":{\"color\":\"white\",\"width\":3},\"type\":\"rect\",\"x0\":0.5,\"x1\":1.5,\"y0\":2.5,\"y1\":3.5},{\"fillcolor\":\"rgba(0,0,0,0)\",\"layer\":\"above\",\"line\":{\"color\":\"white\",\"width\":3},\"type\":\"rect\",\"x0\":1.5,\"x1\":2.5,\"y0\":2.5,\"y1\":3.5},{\"fillcolor\":\"rgba(0,0,0,0)\",\"layer\":\"above\",\"line\":{\"color\":\"white\",\"width\":3},\"type\":\"rect\",\"x0\":3.5,\"x1\":4.5,\"y0\":2.5,\"y1\":3.5},{\"fillcolor\":\"rgba(0,0,0,0)\",\"layer\":\"above\",\"line\":{\"color\":\"white\",\"width\":3},\"type\":\"rect\",\"x0\":4.5,\"x1\":5.5,\"y0\":2.5,\"y1\":3.5},{\"fillcolor\":\"rgba(0,0,0,0)\",\"layer\":\"above\",\"line\":{\"color\":\"white\",\"width\":3},\"type\":\"rect\",\"x0\":5.5,\"x1\":6.5,\"y0\":2.5,\"y1\":3.5},{\"fillcolor\":\"rgba(0,0,0,0)\",\"layer\":\"above\",\"line\":{\"color\":\"white\",\"width\":3},\"type\":\"rect\",\"x0\":9.5,\"x1\":10.5,\"y0\":2.5,\"y1\":3.5},{\"fillcolor\":\"rgba(0,0,0,0)\",\"layer\":\"above\",\"line\":{\"color\":\"white\",\"width\":3},\"type\":\"rect\",\"x0\":10.5,\"x1\":11.5,\"y0\":2.5,\"y1\":3.5},{\"fillcolor\":\"rgba(0,0,0,0)\",\"layer\":\"above\",\"line\":{\"color\":\"white\",\"width\":3},\"type\":\"rect\",\"x0\":11.5,\"x1\":12.5,\"y0\":2.5,\"y1\":3.5},{\"fillcolor\":\"rgba(0,0,0,0)\",\"layer\":\"above\",\"line\":{\"color\":\"white\",\"width\":3},\"type\":\"rect\",\"x0\":12.5,\"x1\":13.5,\"y0\":2.5,\"y1\":3.5},{\"fillcolor\":\"rgba(0,0,0,0)\",\"layer\":\"above\",\"line\":{\"color\":\"white\",\"width\":3},\"type\":\"rect\",\"x0\":14.5,\"x1\":15.5,\"y0\":2.5,\"y1\":3.5},{\"fillcolor\":\"rgba(0,0,0,0)\",\"layer\":\"above\",\"line\":{\"color\":\"white\",\"width\":3},\"type\":\"rect\",\"x0\":15.5,\"x1\":16.5,\"y0\":2.5,\"y1\":3.5},{\"fillcolor\":\"rgba(0,0,0,0)\",\"layer\":\"above\",\"line\":{\"color\":\"white\",\"width\":3},\"type\":\"rect\",\"x0\":16.5,\"x1\":17.5,\"y0\":2.5,\"y1\":3.5},{\"fillcolor\":\"rgba(0,0,0,0)\",\"layer\":\"above\",\"line\":{\"color\":\"white\",\"width\":3},\"type\":\"rect\",\"x0\":17.5,\"x1\":18.5,\"y0\":2.5,\"y1\":3.5},{\"fillcolor\":\"rgba(0,0,0,0)\",\"layer\":\"above\",\"line\":{\"color\":\"white\",\"width\":3},\"type\":\"rect\",\"x0\":18.5,\"x1\":19.5,\"y0\":2.5,\"y1\":3.5},{\"fillcolor\":\"rgba(0,0,0,0)\",\"layer\":\"above\",\"line\":{\"color\":\"white\",\"width\":3},\"type\":\"rect\",\"x0\":1.5,\"x1\":2.5,\"y0\":3.5,\"y1\":4.5}],\"xaxis\":{\"title\":{\"text\":\"Crosslink\",\"font\":{\"size\":24,\"color\":\"black\"}},\"tickfont\":{\"size\":18,\"color\":\"black\"},\"tickangle\":-45,\"tickmode\":\"array\",\"tickvals\":[\"S7-Y16\",\"K10-K196\",\"Y16-K196\",\"K76-T86\",\"K76-T161\",\"K76-K196\",\"K76-S208\",\"T77-S208\",\"S81-T86\",\"S81-K96\",\"K96-K196\",\"K96-S208\",\"T161-K204\",\"K196-S198\",\"K196-K204\",\"K196-S208\",\"K196-K271\",\"K196-S276\",\"S198-S208\",\"T201-S208\"],\"ticktext\":[\"S7-Y16\",\"K10-K196\",\"Y16-K196\",\"K76-T86\",\"K76-T161\",\"K76-K196\",\"K76-S208\",\"T77-S208\",\"S81-T86\",\"S81-K96\",\"K96-K196\",\"K96-S208\",\"T161-K204\",\"K196-S198\",\"K196-K204\",\"K196-S208\",\"K196-K271\",\"K196-S276\",\"S198-S208\",\"T201-S208\"]},\"yaxis\":{\"title\":{\"text\":\"State\",\"font\":{\"size\":24,\"color\":\"black\"}},\"tickfont\":{\"size\":18,\"color\":\"black\"},\"ticklabelposition\":\"outside\",\"automargin\":true,\"side\":\"left\",\"tickson\":\"boundaries\",\"ticklen\":20,\"tickwidth\":2,\"ticks\":\"outside\",\"tickcolor\":\"rgba(0,0,0,0)\",\"linecolor\":\"rgba(0,0,0,0)\"},\"margin\":{\"l\":200,\"r\":100,\"t\":100,\"b\":100},\"width\":1700,\"height\":500},                        {\"responsive\": true}                    ).then(function(){\n",
       "                            \n",
       "var gd = document.getElementById('17e0b5f1-b32c-4e21-9221-3699bb2886d5');\n",
       "var x = new MutationObserver(function (mutations, observer) {{\n",
       "        var display = window.getComputedStyle(gd).display;\n",
       "        if (!display || display === 'none') {{\n",
       "            console.log([gd, 'removed!']);\n",
       "            Plotly.purge(gd);\n",
       "            observer.disconnect();\n",
       "        }}\n",
       "}});\n",
       "\n",
       "// Listen for the removal of the full notebook cells\n",
       "var notebookContainer = gd.closest('#notebook-container');\n",
       "if (notebookContainer) {{\n",
       "    x.observe(notebookContainer, {childList: true});\n",
       "}}\n",
       "\n",
       "// Listen for the clearing of the current output cell\n",
       "var outputEl = gd.closest('.output');\n",
       "if (outputEl) {{\n",
       "    x.observe(outputEl, {childList: true});\n",
       "}}\n",
       "\n",
       "                        })                };                });            </script>        </div>"
      ]
     },
     "metadata": {},
     "output_type": "display_data"
    }
   ],
   "source": [
    "# Example data\n",
    "\n",
    "# Formatting function\n",
    "def format_pvalue(p):\n",
    "    if p <= 0.00001:\n",
    "        return '<10<sup>-5</sup>'\n",
    "\n",
    "    elif p == 1.0:\n",
    "        return '1.0'\n",
    "    return f'{p:.3f}'\n",
    "\n",
    "# Convert dictionary to a list of lists\n",
    "z_values = p_values.T\n",
    "customdata = np.array([[1 if val < 0.05 else 0 for val in row] for row in z_values])\n",
    "# np_z_values = np.array(z_values).T\n",
    "text_values = [[format_pvalue(val) for val in row] for row in z_values]  # Format p-values as strings\n",
    "\n",
    "# Get the second element of each key for x-axis labels\n",
    "x_labels = crosslinks#[key.split('_')[1] for key in data.keys()]\n",
    "y_labels = ['State 0', 'State 1', 'State 2', 'State 3', 'State 4', ]\n",
    "\n",
    "\n",
    "\n",
    "# Create a heatmap with cell borders\n",
    "fig = go.Figure(data=go.Heatmap(\n",
    "    z=z_values,\n",
    "    x=x_labels,\n",
    "    y=y_labels,\n",
    "    colorscale=\"Viridis\",\n",
    "    showscale=True,\n",
    "    xgap=1,  # Gap between cells on the x-axis (creates a border)\n",
    "    ygap=1,   # Gap between cells on the y-axis (creates a border)\n",
    "    text=text_values,  # Display p-values in cells\n",
    "    texttemplate=\"%{text}\",  # Format text in cells\n",
    "    textfont=dict(size=14),  # Adjust font size and color for readability\n",
    "    zmin=0,  # Set minimum of color scale to 0\n",
    "    zmax=1,  # Set maximum of color scale to 1\n",
    "    customdata=customdata,\n",
    "    hovertemplate='<b>Crosslink:</b> %{x}<br>'\n",
    "                  '<b>State:</b> %{y}<br>'\n",
    "                  '<b>adj. p-value:</b> %{text}'\n",
    "                  '<br><b>Significant:</b> %{customdata}<extra></extra>',\n",
    "    colorbar=dict(\n",
    "        title=\"adj. p-value\",\n",
    "        title_side=\"right\",\n",
    "        titlefont=dict(size=18, color=\"black\"),\n",
    "        lenmode=\"fraction\",\n",
    "        len=1.0,\n",
    "        y=0.5,\n",
    "        yanchor=\"middle\",\n",
    "        x=1.0,\n",
    "        xanchor=\"left\"\n",
    "    ),\n",
    "))\n",
    "\n",
    "# New code to add borders for significant cells\n",
    "for i in range(len(y_labels)):\n",
    "    for j in range(len(x_labels)):\n",
    "        if z_values[i][j] < 0.05:\n",
    "\n",
    "            fig.add_shape(\n",
    "                type=\"rect\",\n",
    "                x0=j-0.5, y0=i-0.5, x1=j+0.5, y1=i+0.5,\n",
    "                line=dict(color=\"white\", width=3),\n",
    "                fillcolor=\"rgba(0,0,0,0)\",\n",
    "                layer=\"above\"\n",
    "            )\n",
    "\n",
    "# Update layout to ensure sufficient space and styling\n",
    "fig.update_layout(\n",
    "    xaxis=dict(\n",
    "        title=\"Crosslink\",\n",
    "        titlefont=dict(size=24, color=\"black\"),\n",
    "        tickfont=dict(size=18, color=\"black\"),\n",
    "        tickangle=-45,\n",
    "        tickmode='array',\n",
    "        tickvals=x_labels,\n",
    "        ticktext=x_labels\n",
    "    ),\n",
    "    yaxis=dict(\n",
    "        title=\"State\",\n",
    "        titlefont=dict(size=24, color=\"black\"),\n",
    "        tickfont=dict(size=18, color=\"black\"),\n",
    "        ticklabelposition=\"outside\",\n",
    "        automargin=True,\n",
    "        side=\"left\",\n",
    "        tickson=\"boundaries\",\n",
    "        ticklen=20,  # Increase tick length\n",
    "        tickwidth=2,  # Increase tick width for visibility\n",
    "        ticks=\"outside\",  # Place ticks outside the plot area\n",
    "        tickcolor=\"rgba(0,0,0,0)\",  # Make ticks transparent\n",
    "        linecolor=\"rgba(0,0,0,0)\",  # Make axis line transparent\n",
    "    ),\n",
    "\n",
    "    margin=dict(l=200, r=100, t=100, b=100),  # Increase margins to ensure full rendering\n",
    "    width=1700,  # Set optimal width\n",
    "    height=500,   # Set optimal height\n",
    ")\n",
    "\n",
    "# Show the figure\n",
    "fig.show()\n",
    "\n",
    "# Save the figure as a high-resolution image\n",
    "fig.write_image(\"Simulation_XLMS_consistent_heatmap.png\", scale=10)"
   ]
  },
  {
   "cell_type": "code",
   "execution_count": null,
   "id": "f532568e",
   "metadata": {},
   "outputs": [],
   "source": []
  }
 ],
 "metadata": {
  "kernelspec": {
   "display_name": "Python 3 (ipykernel)",
   "language": "python",
   "name": "python3"
  },
  "language_info": {
   "codemirror_mode": {
    "name": "ipython",
    "version": 3
   },
   "file_extension": ".py",
   "mimetype": "text/x-python",
   "name": "python",
   "nbconvert_exporter": "python",
   "pygments_lexer": "ipython3",
   "version": "3.12.3"
  }
 },
 "nbformat": 4,
 "nbformat_minor": 5
}
