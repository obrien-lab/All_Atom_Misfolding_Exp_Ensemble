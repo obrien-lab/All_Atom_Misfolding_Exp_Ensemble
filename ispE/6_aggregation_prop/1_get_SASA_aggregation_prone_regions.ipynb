{
 "cells": [
  {
   "cell_type": "code",
   "execution_count": 1,
   "id": "5eb339eb-09ef-498d-b68f-d2e4ac8ac9ea",
   "metadata": {},
   "outputs": [],
   "source": [
    "import numpy as np"
   ]
  },
  {
   "cell_type": "code",
   "execution_count": 19,
   "id": "2d9ea238-b003-46a1-9a9d-a6925e7ce2a1",
   "metadata": {},
   "outputs": [
    {
     "name": "stdout",
     "output_type": "stream",
     "text": [
      "[11, 12, 13, 14, 15, 16, 17, 18, 29, 30, 31, 32, 33, 34, 35, 66, 67, 68, 69, 70, 71, 111, 112, 113, 114, 115, 116, 117, 118, 119, 120, 121, 122, 123, 124, 144, 145, 146, 147, 148, 149, 169, 170, 171, 172, 173, 174, 226, 227, 228, 229, 230, 231, 243, 244, 245, 246, 247, 248, 266, 267, 268, 269]\n"
     ]
    }
   ],
   "source": [
    "agg_range = \"11-18, 29-35, 66-71, 111-124, 144-149, 169-174, 226-231, 243-248, 266-269\"\n",
    "\n",
    "# Split the string by commas to get individual ranges\n",
    "range_parts = agg_range.split(\", \")\n",
    "\n",
    "# Create a list of numbers for each range\n",
    "agg_residue_indides = []\n",
    "for part in range_parts:\n",
    "    start, end = map(int, part.split(\"-\"))\n",
    "    # print(start, end)\n",
    "    agg_residue_indides.extend(range(start, end + 1))\n",
    "\n",
    "print(agg_residue_indides)\n"
   ]
  },
  {
   "cell_type": "code",
   "execution_count": 20,
   "id": "38baed1c-4d5d-4baa-ae11-c9f80b707275",
   "metadata": {},
   "outputs": [],
   "source": [
    "\"\"\"\n",
    "ispE has 283 residue but here has 284 value for each row.\n",
    "First value is 0.048, is a buffer.\n",
    "No need to shift for the residue indices count from 0.\n",
    "\"\"\"\n",
    "data = np.loadtxt('../cg_refold_sims/traj_asa/asa_traj0.dat')\n",
    "subsample = data[::50,:]"
   ]
  },
  {
   "cell_type": "code",
   "execution_count": 21,
   "id": "32a73a75-54ba-4f74-96f2-8b7733012b1e",
   "metadata": {},
   "outputs": [
    {
     "data": {
      "text/plain": [
       "(134, 284)"
      ]
     },
     "execution_count": 21,
     "metadata": {},
     "output_type": "execute_result"
    }
   ],
   "source": [
    "subsample.shape"
   ]
  },
  {
   "cell_type": "code",
   "execution_count": 23,
   "id": "643856e0-a8f3-441c-83ec-b6b6104d9783",
   "metadata": {},
   "outputs": [],
   "source": [
    "res = np.sum(subsample[:, agg_residue_indides], axis=1) # axis =1 mean sum over column"
   ]
  },
  {
   "cell_type": "code",
   "execution_count": 26,
   "id": "7d45bf86-a15f-4f1e-a7f3-b389ec7cd87b",
   "metadata": {
    "scrolled": true
   },
   "outputs": [
    {
     "data": {
      "text/plain": [
       "(134,)"
      ]
     },
     "execution_count": 26,
     "metadata": {},
     "output_type": "execute_result"
    }
   ],
   "source": [
    "res.shape"
   ]
  },
  {
   "cell_type": "code",
   "execution_count": 28,
   "id": "afe22ef7-55eb-464f-ad55-7535347f0730",
   "metadata": {},
   "outputs": [
    {
     "name": "stdout",
     "output_type": "stream",
     "text": [
      "Traj: 0\n",
      "Traj: 1\n",
      "Traj: 2\n",
      "Traj: 3\n",
      "Traj: 4\n",
      "Traj: 5\n",
      "Traj: 6\n",
      "Traj: 7\n",
      "Traj: 8\n",
      "Traj: 9\n",
      "Traj: 10\n",
      "Traj: 11\n",
      "Traj: 12\n",
      "Traj: 13\n",
      "Traj: 14\n",
      "Traj: 15\n",
      "Traj: 16\n",
      "Traj: 17\n",
      "Traj: 18\n",
      "Traj: 19\n",
      "Traj: 20\n",
      "Traj: 21\n",
      "Traj: 22\n",
      "Traj: 23\n",
      "Traj: 24\n",
      "Traj: 25\n",
      "Traj: 26\n",
      "Traj: 27\n",
      "Traj: 28\n",
      "Traj: 29\n",
      "Traj: 30\n",
      "Traj: 31\n",
      "Traj: 32\n",
      "Traj: 33\n",
      "Traj: 34\n",
      "Traj: 35\n",
      "Traj: 36\n",
      "Traj: 37\n",
      "Traj: 38\n",
      "Traj: 39\n",
      "Traj: 40\n",
      "Traj: 41\n",
      "Traj: 42\n",
      "Traj: 43\n",
      "Traj: 44\n",
      "Traj: 45\n",
      "Traj: 46\n",
      "Traj: 47\n",
      "Traj: 48\n",
      "Traj: 49\n",
      "Traj: 50\n",
      "Traj: 51\n",
      "Traj: 52\n",
      "Traj: 53\n",
      "Traj: 54\n",
      "Traj: 55\n"
     ]
    }
   ],
   "source": [
    "SASA_AGG = np.zeros((56, 134))\n",
    "for traj in range(56):\n",
    "    print(f\"Traj: {traj}\")\n",
    "    data = np.loadtxt(f'../cg_refold_sims/traj_asa/asa_traj{traj}.dat')\n",
    "    subsample = data[::50,:]\n",
    "    res = np.sum(subsample[:, agg_residue_indides], axis=1) # axis =1 mean sum over column\n",
    "    SASA_AGG[traj, :] = res"
   ]
  },
  {
   "cell_type": "code",
   "execution_count": 30,
   "id": "3761909c-a19a-4a94-ae1b-088fe05c7247",
   "metadata": {},
   "outputs": [
    {
     "data": {
      "text/plain": [
       "(56, 134)"
      ]
     },
     "execution_count": 30,
     "metadata": {},
     "output_type": "execute_result"
    }
   ],
   "source": [
    "SASA_AGG.shape"
   ]
  },
  {
   "cell_type": "code",
   "execution_count": 31,
   "id": "89bee4e1-e1d6-4849-99e1-07da0e61eff1",
   "metadata": {},
   "outputs": [],
   "source": [
    "np.save(\"SASA_AGG_RESIDUES_ALL_TRAJS.npy\", SASA_AGG)"
   ]
  },
  {
   "cell_type": "code",
   "execution_count": null,
   "id": "9d2d2625-bf99-4d28-8f8f-04bfd39e613e",
   "metadata": {},
   "outputs": [],
   "source": []
  }
 ],
 "metadata": {
  "kernelspec": {
   "display_name": "Python 3 (ipykernel)",
   "language": "python",
   "name": "python3"
  },
  "language_info": {
   "codemirror_mode": {
    "name": "ipython",
    "version": 3
   },
   "file_extension": ".py",
   "mimetype": "text/x-python",
   "name": "python",
   "nbconvert_exporter": "python",
   "pygments_lexer": "ipython3",
   "version": "3.11.5"
  }
 },
 "nbformat": 4,
 "nbformat_minor": 5
}
