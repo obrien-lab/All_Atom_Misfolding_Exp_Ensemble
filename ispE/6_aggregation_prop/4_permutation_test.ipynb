{
 "cells": [
  {
   "cell_type": "code",
   "execution_count": 9,
   "id": "c91852ee",
   "metadata": {},
   "outputs": [],
   "source": [
    "import numpy as np\n",
    "from statsmodels.stats.multitest import multipletests"
   ]
  },
  {
   "cell_type": "code",
   "execution_count": 2,
   "id": "de7fb562",
   "metadata": {},
   "outputs": [],
   "source": [
    "def permutation_test(data1, data2, random_state=None, nsteps=100000, keep_vals=False):\n",
    "    \"\"\"\n",
    "    2-tailed Permutation test: test if the difference between two groups is significant.\n",
    "    \"\"\"\n",
    "    len1, len2 = len(data1), len(data2)\n",
    "    k = np.zeros(nsteps)\n",
    "    np.random.seed(random_state)\n",
    "\n",
    "    diff = np.abs(np.mean(data1) - np.mean(data2))  # observed difference\n",
    "    z = np.concatenate([data1, data2])\n",
    "    for i in range(nsteps):\n",
    "        np.random.shuffle(z)\n",
    "        k[i] = np.abs(np.mean(z[:len1]) - np.mean(z[len1:]))\n",
    "\n",
    "    # get index of sample mean difference that larger than or equal to observed difference\n",
    "    p_value = len(np.where(k >= diff)[0]) / nsteps\n",
    "\n",
    "    if keep_vals:\n",
    "        return {\"diff\": diff, \"k\": k, \"p_value\": p_value}\n",
    "    else:\n",
    "        return {\"diff\": diff, \"p_value\": p_value}\n"
   ]
  },
  {
   "cell_type": "code",
   "execution_count": 3,
   "id": "0cb3a2d2",
   "metadata": {},
   "outputs": [],
   "source": [
    "msm4 = np.load('SASA_agg_states/sasa_agg_state_4.npy') \n",
    "native = np.load('SASA_agg_states/sasa_agg_state_5.npy')"
   ]
  },
  {
   "cell_type": "code",
   "execution_count": 4,
   "id": "6594e93e",
   "metadata": {},
   "outputs": [
    {
     "data": {
      "text/plain": [
       "{'diff': 12.685387363535142, 'p_value': 0.12369}"
      ]
     },
     "execution_count": 4,
     "metadata": {},
     "output_type": "execute_result"
    }
   ],
   "source": [
    "permutation_test(msm4, native)"
   ]
  },
  {
   "cell_type": "code",
   "execution_count": 6,
   "id": "c56f1bdf",
   "metadata": {},
   "outputs": [
    {
     "name": "stdout",
     "output_type": "stream",
     "text": [
      "State 0: p-value = 0.00015, diff: 15.608220537713805\n",
      "State 1: p-value = 0.0, diff: 45.88256036206451\n",
      "State 2: p-value = 0.0, diff: 9.608756217977088\n",
      "State 3: p-value = 0.0, diff: 119.123324180733\n",
      "State 4: p-value = 0.1229, diff: 12.685387363535142\n"
     ]
    }
   ],
   "source": [
    "p_values = []\n",
    "native = np.load('SASA_agg_states/sasa_agg_state_5.npy')\n",
    "for i in range(5):\n",
    "    msm = np.load(f'SASA_agg_states/sasa_agg_state_{i}.npy')\n",
    "    res = permutation_test(msm, native)\n",
    "    p_values.append(res['p_value'])\n",
    "    print(f\"State {i}: p-value = {res['p_value']}, diff: {res['diff']}\")"
   ]
  },
  {
   "cell_type": "code",
   "execution_count": 7,
   "id": "f85f4b1a",
   "metadata": {},
   "outputs": [
    {
     "data": {
      "text/plain": [
       "[0.00015, 0.0, 0.0, 0.0, 0.1229]"
      ]
     },
     "execution_count": 7,
     "metadata": {},
     "output_type": "execute_result"
    }
   ],
   "source": [
    "p_values"
   ]
  },
  {
   "cell_type": "code",
   "execution_count": 10,
   "id": "ee28d2cb",
   "metadata": {},
   "outputs": [],
   "source": [
    "adjusted_pvalues = multipletests(p_values, alpha=0.05, method='fdr_bh', is_sorted=False, returnsorted=False)\n"
   ]
  },
  {
   "cell_type": "code",
   "execution_count": 14,
   "id": "25ff1fa8",
   "metadata": {},
   "outputs": [
    {
     "name": "stdout",
     "output_type": "stream",
     "text": [
      "0.00015 0.00019\n",
      "0.00000 0.00000\n",
      "0.00000 0.00000\n",
      "0.00000 0.00000\n",
      "0.12290 0.12290\n"
     ]
    }
   ],
   "source": [
    "for pval, adj_pval in zip(p_values, adjusted_pvalues[1]):\n",
    "    print(f\"{pval:.5f} {adj_pval:.5f}\")"
   ]
  },
  {
   "cell_type": "code",
   "execution_count": 12,
   "id": "33a42ce1",
   "metadata": {},
   "outputs": [
    {
     "data": {
      "text/plain": [
       "(array([ True,  True,  True,  True, False]),\n",
       " array([0.0001875, 0.       , 0.       , 0.       , 0.1229   ]),\n",
       " 0.010206218313011495,\n",
       " 0.01)"
      ]
     },
     "execution_count": 12,
     "metadata": {},
     "output_type": "execute_result"
    }
   ],
   "source": [
    "adjusted_pvalues"
   ]
  },
  {
   "cell_type": "code",
   "execution_count": null,
   "id": "991cc1b4",
   "metadata": {},
   "outputs": [],
   "source": []
  }
 ],
 "metadata": {
  "kernelspec": {
   "display_name": "Python 3 (ipykernel)",
   "language": "python",
   "name": "python3"
  },
  "language_info": {
   "codemirror_mode": {
    "name": "ipython",
    "version": 3
   },
   "file_extension": ".py",
   "mimetype": "text/x-python",
   "name": "python",
   "nbconvert_exporter": "python",
   "pygments_lexer": "ipython3",
   "version": "3.12.3"
  }
 },
 "nbformat": 4,
 "nbformat_minor": 5
}
