{
 "cells": [
  {
   "cell_type": "code",
   "execution_count": 1,
   "id": "a69b9a8e-2e54-4986-aedd-5697888c206c",
   "metadata": {},
   "outputs": [],
   "source": [
    "import numpy as np"
   ]
  },
  {
   "cell_type": "code",
   "execution_count": 2,
   "id": "113bc683-6708-4b72-8901-406f3a91f48b",
   "metadata": {},
   "outputs": [],
   "source": [
    "msm_data = np.load('../1_MSM/msm_data.npz', allow_pickle=True)"
   ]
  },
  {
   "cell_type": "code",
   "execution_count": 3,
   "id": "3f10bacf-4569-42f6-bf98-a9a7066b4a01",
   "metadata": {},
   "outputs": [],
   "source": [
    "meta_dtrajs = msm_data['meta_dtrajs']\n",
    "meta_dtrajs_subsample = meta_dtrajs[:,::50]"
   ]
  },
  {
   "cell_type": "code",
   "execution_count": 5,
   "id": "fc80dba3-bc18-4324-ae98-d47011f64507",
   "metadata": {},
   "outputs": [
    {
     "data": {
      "text/plain": [
       "(56, 134)"
      ]
     },
     "execution_count": 5,
     "metadata": {},
     "output_type": "execute_result"
    }
   ],
   "source": [
    "meta_dtrajs_subsample.shape"
   ]
  },
  {
   "cell_type": "code",
   "execution_count": 6,
   "id": "a41a4910-7534-41cf-8e35-d56350372a37",
   "metadata": {},
   "outputs": [],
   "source": [
    "meta_dtrajs_subsample_conc = np.array(meta_dtrajs_subsample.flatten(), dtype=int)"
   ]
  },
  {
   "cell_type": "code",
   "execution_count": 7,
   "id": "e4202b94-ded8-406b-822b-ed3954f54c4d",
   "metadata": {},
   "outputs": [],
   "source": [
    "sasa_agg = np.load('SASA_AGG_RESIDUES_ALL_TRAJS.npy')"
   ]
  },
  {
   "cell_type": "code",
   "execution_count": 9,
   "id": "1750bfa7-43d4-4713-9250-1e6cbbdd7b07",
   "metadata": {},
   "outputs": [],
   "source": [
    "sasa_agg_conc = np.array(sasa_agg.flatten(), dtype=float)"
   ]
  },
  {
   "cell_type": "code",
   "execution_count": 11,
   "id": "455a18a8-9bc6-4bcc-b2dc-cf6d002e7d92",
   "metadata": {},
   "outputs": [
    {
     "data": {
      "text/plain": [
       "(7504,)"
      ]
     },
     "execution_count": 11,
     "metadata": {},
     "output_type": "execute_result"
    }
   ],
   "source": [
    "sasa_agg_conc.shape"
   ]
  },
  {
   "cell_type": "code",
   "execution_count": 13,
   "id": "c74e29f0-e545-4542-bc8b-3fcd3780e793",
   "metadata": {},
   "outputs": [
    {
     "name": "stdout",
     "output_type": "stream",
     "text": [
      "mean sasa state 0: 996.3793231006492\n",
      "mean sasa state 1: 1026.653662925\n",
      "mean sasa state 2: 971.1623463449583\n",
      "mean sasa state 3: 1099.8944267436684\n",
      "mean sasa state 4: 993.4564899264706\n",
      "mean sasa state 5: 980.7711025629354\n"
     ]
    }
   ],
   "source": [
    "mean_val = []\n",
    "for st in range(6):\n",
    "    sasa_agg_state = sasa_agg_conc[meta_dtrajs_subsample_conc==st]\n",
    "    print(f\"mean sasa state {st}: {np.mean(sasa_agg_state)}\")\n",
    "    mean_val.append(np.mean(sasa_agg_state))\n",
    "    np.save(f\"SASA_agg_states/sasa_agg_state_{st}.npy\", sasa_agg_state)"
   ]
  },
  {
   "cell_type": "code",
   "execution_count": 14,
   "id": "8edb0ed0-4a5d-4751-83de-e9a8e204de22",
   "metadata": {},
   "outputs": [
    {
     "data": {
      "text/plain": [
       "[996.3793231006492,\n",
       " 1026.653662925,\n",
       " 971.1623463449583,\n",
       " 1099.8944267436684,\n",
       " 993.4564899264706,\n",
       " 980.7711025629354]"
      ]
     },
     "execution_count": 14,
     "metadata": {},
     "output_type": "execute_result"
    }
   ],
   "source": [
    "mean_val"
   ]
  },
  {
   "cell_type": "code",
   "execution_count": 17,
   "id": "3b64f414-138a-4896-9e46-a0249c0e1736",
   "metadata": {},
   "outputs": [
    {
     "data": {
      "text/plain": [
       "array([ 0.01591423,  0.04678213, -0.00979714,  0.12145884,  0.0129341 ,\n",
       "        0.        ])"
      ]
     },
     "execution_count": 17,
     "metadata": {},
     "output_type": "execute_result"
    }
   ],
   "source": [
    "# aggregation propensity\n",
    "(np.array(mean_val)/np.array(mean_val)[-1]) -1"
   ]
  },
  {
   "cell_type": "code",
   "execution_count": 18,
   "id": "eee0bad6-d8e8-4228-b59e-38ffd5e6e469",
   "metadata": {},
   "outputs": [],
   "source": [
    "#TODO: get 95% percentile"
   ]
  },
  {
   "cell_type": "code",
   "execution_count": null,
   "id": "de0bdf75-f567-46e4-a84c-e933d4db6295",
   "metadata": {},
   "outputs": [],
   "source": []
  }
 ],
 "metadata": {
  "kernelspec": {
   "display_name": "Python 3 (ipykernel)",
   "language": "python",
   "name": "python3"
  },
  "language_info": {
   "codemirror_mode": {
    "name": "ipython",
    "version": 3
   },
   "file_extension": ".py",
   "mimetype": "text/x-python",
   "name": "python",
   "nbconvert_exporter": "python",
   "pygments_lexer": "ipython3",
   "version": "3.12.4"
  }
 },
 "nbformat": 4,
 "nbformat_minor": 5
}
