{
 "cells": [
  {
   "cell_type": "code",
   "execution_count": 1,
   "id": "72d772da-cbbb-42a5-8b9e-68d06406e9d1",
   "metadata": {},
   "outputs": [],
   "source": [
    "import numpy as np\n",
    "from scipy.optimize import curve_fit\n",
    "import matplotlib\n",
    "import matplotlib.pyplot as plt\n",
    "import pandas as pd"
   ]
  },
  {
   "cell_type": "code",
   "execution_count": 2,
   "id": "a1206619-b78a-474e-aeca-5940eff0bd20",
   "metadata": {},
   "outputs": [],
   "source": [
    "\"\"\"\n",
    "Functions definition\n",
    "\"\"\"\n",
    "\n",
    "\n",
    "def cal_Su_list(first_time_zero, time_end, dt=0.01):\n",
    "    \"\"\"\n",
    "    Calculate the survival probability.\n",
    "\n",
    "    Parameters:\n",
    "    - first_time_zero (array-like): Array of first passage times.\n",
    "    - time_end (float): The end time for calculating the survival probability.\n",
    "    - dt (float, optional): Time step for the calculation. Default is 0.01.\n",
    "\n",
    "    Returns:\n",
    "    - ts (numpy.ndarray): Array of time points.\n",
    "    - survival_probability (numpy.ndarray): Array of survival probabilities corresponding to the time points.\n",
    "    \"\"\"\n",
    "    time_range = np.arange(0, time_end, dt)\n",
    "    survival_probability = np.array([np.count_nonzero(first_time_zero >= t) / len(first_time_zero) for t in time_range])\n",
    "    return time_range, survival_probability\n",
    "\n",
    "def exp_fun(x, k, t0):\n",
    "    \"\"\"\n",
    "    Exponential function used for fitting survival probability.\n",
    "\n",
    "    Parameters:\n",
    "    - x (numpy.ndarray): Time variable.\n",
    "    - k (float): Rate constant.\n",
    "    - t0 (float): Time offset.\n",
    "\n",
    "    Returns:\n",
    "    - numpy.ndarray: The value of the exponential function at time `x`.\n",
    "    \"\"\"\n",
    "    t = x - t0\n",
    "    t[t < 0] = 0\n",
    "    return np.exp(-k * t)\n",
    "\n",
    "def quadratic_fun(x, a, b, c):\n",
    "    \"\"\"\n",
    "    Quadratic function for fitting purposes.\n",
    "\n",
    "    Parameters:\n",
    "    - x (numpy.ndarray): Independent variable (1/T).\n",
    "    - a (float): Quadratic term coefficient.\n",
    "    - b (float): Linear term coefficient.\n",
    "    - c (float): Constant term.\n",
    "\n",
    "    Returns:\n",
    "    - numpy.ndarray: The value of the quadratic function at `x`.\n",
    "    \"\"\"\n",
    "    return a * x**2 + b * x + c\n",
    "\n",
    "def get_ln_kapp(FPT):\n",
    "    \"\"\"\n",
    "    Calculate the natural logarithm of the apparent rate (ln_kapp) from the first passage time (FPT) array.\n",
    "\n",
    "    Parameters:\n",
    "    - FPT (array-like): First passage time array.\n",
    "\n",
    "    Returns:\n",
    "    - float: The natural logarithm of the apparent rate (ln_kapp).\n",
    "    \"\"\"\n",
    "    time_end = np.max(FPT) + 5\n",
    "    ts, Su_list = cal_Su_list(FPT, time_end)\n",
    "    kopt, _ = curve_fit(exp_fun, ts, Su_list, bounds=(0, np.inf), maxfev=5000)\n",
    "    k, t0 = kopt[0], kopt[1]\n",
    "    kapp = 1 / (t0 + 1 / k)\n",
    "    return np.log(kapp)\n",
    "\n",
    "\n",
    "def write_SU(FPT, Temp):\n",
    "    time_end = np.max(FPT) + 5\n",
    "    ts, Su_list = cal_Su_list(FPT, time_end)\n",
    "    with open(f'survival_{Temp}.dat', 'w') as f:\n",
    "        for t, s in zip(ts, Su_list):\n",
    "            f.write(f'{t:.2f}    {s:.3f}\\n')\n",
    "\n",
    "            \n",
    "\n",
    "            \n",
    "def bootstrap_FPT_dict(Temperature_FPT_dict):\n",
    "    # Create a new dictionary for the random choices\n",
    "    random_FPT_dict = {}\n",
    "\n",
    "    # Apply np.random.choice with replacement to each array in the original dictionary\n",
    "    for key in Temperature_FPT_dict:\n",
    "        random_FPT_dict[key] = np.random.choice(Temperature_FPT_dict[key], size=len(Temperature_FPT_dict[key]), replace=True)\n",
    "\n",
    "    # Print the new dictionary with random choices\n",
    "#     print(random_FPT_dict)\n",
    "    return random_FPT_dict\n",
    "\n",
    "def extrapolate_ln_kapp_target_temperature(temperature_list, Temperature_FPT_dict, target_temp=298):\n",
    "    \"\"\"\n",
    "    Extrapolates the natural logarithm of kapp (ln(kapp)) for a target temperature using quadratic fitting.\n",
    "    \n",
    "    Parameters:\n",
    "    temperature_list (list of float): List of temperatures to be used for fitting.\n",
    "    Temperature_FPT_dict (dict): Dictionary containing FPT values for each temperature. Keys should be formatted as 'FPT_<temperature>'.\n",
    "    target_temp (float, optional): The target temperature for which ln(kapp) is to be extrapolated. Default is 298 K.\n",
    "    \n",
    "    Returns:\n",
    "    tuple: \n",
    "        - numpy.ndarray: Inverse temperatures including the target temperature.\n",
    "        - numpy.ndarray: ln(kapp) values including the extrapolated value for the target temperature.\n",
    "        - float: Coefficient of determination (R^2) for the quadratic fit.\n",
    "        - numpy.ndarray: Coefficients of the quadratic function (a, b, c).\n",
    "    \"\"\"\n",
    "    # Initialize an array to store inverse temperatures and ln(kapp) values\n",
    "    num_temperatures = len(temperature_list)\n",
    "    inv_temperature_ln_kapp = np.zeros((num_temperatures + 1, 2))\n",
    "    \n",
    "    for i, temperature in enumerate(temperature_list):\n",
    "        inv_temperature_ln_kapp[i, 0] = 1/temperature\n",
    "        inv_temperature_ln_kapp[i, 1] = get_ln_kapp(Temperature_FPT_dict[f'FPT_{temperature}'])\n",
    "        \n",
    "    # Fit a quadratic function to the data points (excluding the target temperature)\n",
    "    kopt_target, _ = curve_fit(quadratic_fun, inv_temperature_ln_kapp[:-1, 0], inv_temperature_ln_kapp[:-1, 1], maxfev=5000)\n",
    "    \n",
    "    # Calculate the coefficient of determination (R^2) for the fit\n",
    "    predicted_ln_kapp = quadratic_fun(inv_temperature_ln_kapp[:-1, 0], *kopt_target)\n",
    "    cc_target = np.corrcoef(inv_temperature_ln_kapp[:-1, 1], predicted_ln_kapp)[0, 1] ** 2\n",
    "    \n",
    "    # Extrapolate ln(kapp) for the target temperature\n",
    "    ln_kapp_target = quadratic_fun(1 / target_temp, *kopt_target)\n",
    "\n",
    "    # Add the target temperature and its extrapolated ln(kapp) value to the array\n",
    "    inv_temperature_ln_kapp[-1,:] = 1/target_temp, ln_kapp_target\n",
    "    return inv_temperature_ln_kapp[:, 0], inv_temperature_ln_kapp[:, 1], cc_target, kopt_target\n",
    "\n",
    "\n",
    "def convert_ln_kapp_to_human(ln_kapp, human_type='day'):\n",
    "    \"\"\"\n",
    "    Convert the logarithm of kapp (ln_kapp) to human time.\n",
    "\n",
    "    Parameters:\n",
    "    - ln_kapp (float): The natural logarithm of kapp.\n",
    "    - human_type (str): The desired unit of human time. Can be 'second', 'hour', or 'day'. Default is 'day'.\n",
    "\n",
    "    Returns:\n",
    "    - float: The converted time in the specified human time unit.\n",
    "    \"\"\"\n",
    "    scaled_factor = 143\n",
    "    \n",
    "    # Calculate the simulated life time in nanoseconds\n",
    "    simulated_life_time = 1 / np.exp(ln_kapp)\n",
    "    \n",
    "    # Convert simulated life time from nanoseconds to human time\n",
    "    conversion_factors = {\n",
    "        'second': 1,\n",
    "        'hour': 1 / 3600,\n",
    "        'day': 1 / 86400\n",
    "    }\n",
    "    \n",
    "    if human_type not in conversion_factors:\n",
    "        raise ValueError(\"Invalid human_type. Expected one of: 'second', 'hour', 'day'\")\n",
    "\n",
    "    return scaled_factor * simulated_life_time / 1e9 * conversion_factors[human_type]\n"
   ]
  },
  {
   "cell_type": "code",
   "execution_count": 3,
   "id": "a8155a02-d140-4559-8ffc-e258fd5ed0d9",
   "metadata": {},
   "outputs": [
    {
     "data": {
      "text/plain": [
       "0.4490493028661993"
      ]
     },
     "execution_count": 3,
     "metadata": {},
     "output_type": "execute_result"
    }
   ],
   "source": [
    "convert_ln_kapp_to_human(-26.32654157014862, 'day')"
   ]
  },
  {
   "cell_type": "code",
   "execution_count": 4,
   "id": "033f9856-1d7a-41fa-bfd4-f7997a15ab11",
   "metadata": {},
   "outputs": [
    {
     "data": {
      "text/plain": [
       "5440831.405414913"
      ]
     },
     "execution_count": 4,
     "metadata": {},
     "output_type": "execute_result"
    }
   ],
   "source": [
    "convert_ln_kapp_to_human(-42.636606600510916, 'day')"
   ]
  },
  {
   "cell_type": "code",
   "execution_count": 5,
   "id": "1fd4c5bb-ed3f-4530-bcb7-679a9c3eae9e",
   "metadata": {},
   "outputs": [
    {
     "data": {
      "text/plain": [
       "14906.387412095652"
      ]
     },
     "execution_count": 5,
     "metadata": {},
     "output_type": "execute_result"
    }
   ],
   "source": [
    "5440831.405414913/365"
   ]
  },
  {
   "cell_type": "code",
   "execution_count": null,
   "id": "d7f1b845-dadf-4b94-920e-4eac6177c067",
   "metadata": {},
   "outputs": [],
   "source": []
  }
 ],
 "metadata": {
  "kernelspec": {
   "display_name": "Python 3 (ipykernel)",
   "language": "python",
   "name": "python3"
  },
  "language_info": {
   "codemirror_mode": {
    "name": "ipython",
    "version": 3
   },
   "file_extension": ".py",
   "mimetype": "text/x-python",
   "name": "python",
   "nbconvert_exporter": "python",
   "pygments_lexer": "ipython3",
   "version": "3.11.5"
  }
 },
 "nbformat": 4,
 "nbformat_minor": 5
}
