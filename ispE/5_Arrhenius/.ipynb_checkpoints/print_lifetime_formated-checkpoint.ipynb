{
 "cells": [
  {
   "cell_type": "code",
   "execution_count": 1,
   "id": "7b3d2adb-d442-491b-824a-165d685d7c12",
   "metadata": {},
   "outputs": [],
   "source": [
    "import numpy as np"
   ]
  },
  {
   "cell_type": "code",
   "execution_count": 7,
   "id": "601d6c12-b8a2-4bd2-86a1-c86ed21321ea",
   "metadata": {},
   "outputs": [],
   "source": [
    "def convert_ln_kapp_to_human(ln_kapp, human_type='day'):\n",
    "    \"\"\"\n",
    "    Convert the logarithm of kapp (ln_kapp) to human time.\n",
    "\n",
    "    Parameters:\n",
    "    - ln_kapp (float): The natural logarithm of kapp.\n",
    "    - human_type (str): The desired unit of human time. Can be 'second', 'hour', or 'day'. Default is 'day'.\n",
    "\n",
    "    Returns:\n",
    "    - float: The converted time in the specified human time unit.\n",
    "    \"\"\"\n",
    "    scaled_factor = 143\n",
    "    \n",
    "    # Calculate the simulated life time in nanoseconds\n",
    "    simulated_life_time = 1 / np.exp(ln_kapp)\n",
    "    \n",
    "    # Convert simulated life time from nanoseconds to human time\n",
    "    conversion_factors = {\n",
    "        'second': 1,\n",
    "        'hour': 1 / 3600,\n",
    "        'day': 1 / 86400\n",
    "    }\n",
    "    \n",
    "    if human_type not in conversion_factors:\n",
    "        raise ValueError(\"Invalid human_type. Expected one of: 'second', 'hour', 'day'\")\n",
    "\n",
    "    lifetime = simulated_life_time / 1e9 * conversion_factors[human_type]\n",
    "    scaled_lifetime = scaled_factor * lifetime\n",
    "    return [lifetime]#, scaled_lifetime"
   ]
  },
  {
   "cell_type": "code",
   "execution_count": 14,
   "id": "131ac035-d76e-4cc8-b469-9ad16e433921",
   "metadata": {},
   "outputs": [
    {
     "name": "stdout",
     "output_type": "stream",
     "text": [
      "1.1e+04\n",
      "=====\n",
      "4.6e+06\n",
      "=====\n",
      "2.8e+01\n",
      "=====\n"
     ]
    }
   ],
   "source": [
    "list_k=[-30.03, -36.06, -24.05]\n",
    "for k in list_k:\n",
    "    res = convert_ln_kapp_to_human(k, 'second')\n",
    "    for val in res:\n",
    "        print(f\"{val:.1e}\")\n",
    "\n",
    "    print(\"=====\")"
   ]
  },
  {
   "cell_type": "code",
   "execution_count": 6,
   "id": "06c9b598-f046-455a-b00a-2c85811c36cf",
   "metadata": {},
   "outputs": [
    {
     "data": {
      "text/plain": [
       "(0.0005344534954736477, 0.07642684985273163)"
      ]
     },
     "execution_count": 6,
     "metadata": {},
     "output_type": "execute_result"
    }
   ],
   "source": [
    "convert_ln_kapp_to_human(-13.189, 'second')"
   ]
  },
  {
   "cell_type": "code",
   "execution_count": null,
   "id": "6818508d-fd0c-4622-aed6-310292ad7b08",
   "metadata": {},
   "outputs": [],
   "source": []
  }
 ],
 "metadata": {
  "kernelspec": {
   "display_name": "Python 3 (ipykernel)",
   "language": "python",
   "name": "python3"
  },
  "language_info": {
   "codemirror_mode": {
    "name": "ipython",
    "version": 3
   },
   "file_extension": ".py",
   "mimetype": "text/x-python",
   "name": "python",
   "nbconvert_exporter": "python",
   "pygments_lexer": "ipython3",
   "version": "3.11.9"
  }
 },
 "nbformat": 4,
 "nbformat_minor": 5
}
