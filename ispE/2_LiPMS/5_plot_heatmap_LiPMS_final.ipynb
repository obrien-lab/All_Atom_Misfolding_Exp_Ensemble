{
 "cells": [
  {
   "cell_type": "code",
   "execution_count": 1,
   "id": "5b262c02",
   "metadata": {},
   "outputs": [],
   "source": [
    "import plotly.graph_objects as go\n",
    "import numpy as np"
   ]
  },
  {
   "cell_type": "code",
   "execution_count": 58,
   "id": "83c6b004",
   "metadata": {},
   "outputs": [],
   "source": [
    "\n",
    "data = {\n",
    "    \"1_R69\": [0.0012, 0.00001, 0.28567, 0.7258, 0.94854],\n",
    "    \"2_M75\": [0.15238, 0.00001, 0.00001, 0.94156, 0.33724],\n",
    "    \"3_A78\": [0.94156, 0.00027, 0.00001, 0.95456, 0.10648],\n",
    "    \"4_I159\": [0.92574, 0.7578, 0.21438, 0.00001, 0.83476],\n",
    "    \"5_L202\": [0.00001, 0.26143, 0.00005, 0.91519, 0.14745],\n",
    "    \"6_K204\": [0.00001, 0.99942, 0.00339, 0.00013, 0.0116],\n",
    "    \"7_E206\": [0.00001, 0.53191, 0.00339, 0.10648, 0.00036],\n",
    "    \"8_F207\": [0.00001, 0.99942, 0.07355, 0.0116, 0.0013],\n",
    "    \"9_A254\": [0.00001, 0.00001, 0.46479, 0.00001, 0.94156],\n",
    "    \"10_R255\": [0.00116, 0.19417, 0.42886, 0.00005, 0.90924],\n",
    "    \"11_L258\": [0.00183, 0.99451, 0.06504, 0.0071, 0.71756],\n",
    "    \"12_Q260\": [0.47778, 0.99416, 0.28567, 0.64089, 0.94156],\n",
    "    \"13_A261\": [0.00016, 0.01354, 0.59825, 0.01328, 0.26143]\n",
    "}\n",
    "\n",
    "# Formatting function\n",
    "def format_pvalue(p):\n",
    "    if p <= 0.00001:\n",
    "        return '<10<sup>-5</sup>'\n",
    "    elif p<0.001 and p>0.00001:\n",
    "        return '<10<sup>-3</sup>'\n",
    "    elif p == 1.0:\n",
    "        return '1.0'\n",
    "    return f'{p:.3f}'\n",
    "\n",
    "\n",
    "# Convert dictionary to a list of lists\n",
    "z_values = np.array(list(data.values())).T\n",
    "# log_z_values = -np.log10(z_values)\n",
    "text_values = [[format_pvalue(val) for val in row] for row in z_values]  # Format p-values as strings\n",
    "\n",
    "# Get the second element of each key for x-axis labels\n",
    "x_labels = [key.split('_')[1] for key in data.keys()]\n",
    "y_labels = ['State 0', 'State 1', 'State 2', 'State 3', 'State 4', ]"
   ]
  },
  {
   "cell_type": "code",
   "execution_count": 20,
   "id": "113db8a9",
   "metadata": {},
   "outputs": [
    {
     "data": {
      "application/vnd.plotly.v1+json": {
       "config": {
        "plotlyServerURL": "https://plot.ly"
       },
       "data": [
        {
         "colorbar": {
          "len": 1,
          "lenmode": "fraction",
          "title": {
           "font": {
            "color": "black",
            "size": 18
           },
           "side": "right",
           "text": "adj. p-value"
          },
          "x": 1,
          "xanchor": "left",
          "y": 0.5,
          "yanchor": "middle"
         },
         "colorscale": [
          [
           0,
           "rgb(127,59,8)"
          ],
          [
           0.1,
           "rgb(179,88,6)"
          ],
          [
           0.2,
           "rgb(224,130,20)"
          ],
          [
           0.3,
           "rgb(253,184,99)"
          ],
          [
           0.4,
           "rgb(254,224,182)"
          ],
          [
           0.5,
           "rgb(247,247,247)"
          ],
          [
           0.6,
           "rgb(216,218,235)"
          ],
          [
           0.7,
           "rgb(178,171,210)"
          ],
          [
           0.8,
           "rgb(128,115,172)"
          ],
          [
           0.9,
           "rgb(84,39,136)"
          ],
          [
           1,
           "rgb(45,0,75)"
          ]
         ],
         "showscale": true,
         "text": [
          [
           "0.001",
           "0.152",
           "0.942",
           "0.926",
           "<10<sup>-5</sup>",
           "<10<sup>-5</sup>",
           "<10<sup>-5</sup>",
           "<10<sup>-5</sup>",
           "<10<sup>-5</sup>",
           "0.001",
           "0.002",
           "0.478",
           "<10<sup>-3</sup>"
          ],
          [
           "<10<sup>-5</sup>",
           "<10<sup>-5</sup>",
           "<10<sup>-3</sup>",
           "0.758",
           "0.261",
           "0.999",
           "0.532",
           "0.999",
           "<10<sup>-5</sup>",
           "0.194",
           "0.995",
           "0.994",
           "0.014"
          ],
          [
           "0.286",
           "<10<sup>-5</sup>",
           "<10<sup>-5</sup>",
           "0.214",
           "<10<sup>-3</sup>",
           "0.003",
           "0.003",
           "0.074",
           "0.465",
           "0.429",
           "0.065",
           "0.286",
           "0.598"
          ],
          [
           "0.726",
           "0.942",
           "0.955",
           "<10<sup>-5</sup>",
           "0.915",
           "<10<sup>-3</sup>",
           "0.106",
           "0.012",
           "<10<sup>-5</sup>",
           "<10<sup>-3</sup>",
           "0.007",
           "0.641",
           "0.013"
          ],
          [
           "0.949",
           "0.337",
           "0.106",
           "0.835",
           "0.147",
           "0.012",
           "<10<sup>-3</sup>",
           "0.001",
           "0.942",
           "0.909",
           "0.718",
           "0.942",
           "0.261"
          ]
         ],
         "textfont": {
          "size": 14
         },
         "texttemplate": "%{text}",
         "type": "heatmap",
         "x": [
          "R69",
          "M75",
          "A78",
          "I159",
          "L202",
          "K204",
          "E206",
          "F207",
          "A254",
          "R255",
          "L258",
          "Q260",
          "A261"
         ],
         "xgap": 1,
         "y": [
          "State 0",
          "State 1",
          "State 2",
          "State 3",
          "State 4"
         ],
         "ygap": 1,
         "z": [
          [
           2.9208187539523753,
           0.8170720307630076,
           0.026151999769837182,
           0.03351097057560385,
           5,
           5,
           5,
           5,
           5,
           2.9355420107730814,
           2.7375489102695707,
           0.3207720338901015,
           3.795880017344075
          ],
          [
           5,
           5,
           3.5686362358410126,
           0.12044539906102561,
           0.5826445770964213,
           0.0002519638760934004,
           0.27416184479129285,
           0.0002519638760934004,
           5,
           0.7118178693863424,
           0.0023908455983848733,
           0.002543714671922012,
           1.8683813356508745
          ],
          [
           0.5441353652124723,
           5,
           5,
           0.6688157334139164,
           4.301029995663981,
           2.469800301796918,
           2.469800301796918,
           1.133417322936451,
           0.3327432244033069,
           0.36768445874900907,
           1.1868194674139882,
           0.5441353652124723,
           0.22311729271452507
          ],
          [
           0.13918303613546232,
           0.026151999769837182,
           0.02019676831803134,
           5,
           0.038488733927521716,
           3.886056647693163,
           0.9727319575333813,
           1.9355420107730816,
           5,
           4.301029995663981,
           2.1487416512809245,
           0.1932165047908763,
           1.8768019249680012
          ],
          [
           0.022944350159623945,
           0.4720609193705368,
           0.9727319575333813,
           0.0784383696155434,
           0.8313552231121831,
           1.9355420107730816,
           3.4436974992327127,
           2.886056647693163,
           0.026151999769837182,
           0.041321466702946605,
           0.14414177880378795,
           0.026151999769837182,
           0.5826445770964213
          ]
         ]
        }
       ],
       "layout": {
        "autosize": true,
        "margin": {
         "b": 100,
         "l": 200,
         "r": 100,
         "t": 100
        },
        "shapes": [
         {
          "fillcolor": "rgba(0, 0, 0, 0)",
          "layer": "above",
          "line": {
           "color": "white",
           "width": 3
          },
          "type": "rect",
          "x0": -0.5,
          "x1": 0.5,
          "y0": -0.5,
          "y1": 0.5
         },
         {
          "fillcolor": "rgba(0, 0, 0, 0)",
          "layer": "above",
          "line": {
           "color": "white",
           "width": 3
          },
          "type": "rect",
          "x0": 3.5,
          "x1": 4.5,
          "y0": -0.5,
          "y1": 0.5
         },
         {
          "fillcolor": "rgba(0, 0, 0, 0)",
          "layer": "above",
          "line": {
           "color": "white",
           "width": 3
          },
          "type": "rect",
          "x0": 4.5,
          "x1": 5.5,
          "y0": -0.5,
          "y1": 0.5
         },
         {
          "fillcolor": "rgba(0, 0, 0, 0)",
          "layer": "above",
          "line": {
           "color": "white",
           "width": 3
          },
          "type": "rect",
          "x0": 5.5,
          "x1": 6.5,
          "y0": -0.5,
          "y1": 0.5
         },
         {
          "fillcolor": "rgba(0, 0, 0, 0)",
          "layer": "above",
          "line": {
           "color": "white",
           "width": 3
          },
          "type": "rect",
          "x0": 6.5,
          "x1": 7.5,
          "y0": -0.5,
          "y1": 0.5
         },
         {
          "fillcolor": "rgba(0, 0, 0, 0)",
          "layer": "above",
          "line": {
           "color": "white",
           "width": 3
          },
          "type": "rect",
          "x0": 7.5,
          "x1": 8.5,
          "y0": -0.5,
          "y1": 0.5
         },
         {
          "fillcolor": "rgba(0, 0, 0, 0)",
          "layer": "above",
          "line": {
           "color": "white",
           "width": 3
          },
          "type": "rect",
          "x0": 8.5,
          "x1": 9.5,
          "y0": -0.5,
          "y1": 0.5
         },
         {
          "fillcolor": "rgba(0, 0, 0, 0)",
          "layer": "above",
          "line": {
           "color": "white",
           "width": 3
          },
          "type": "rect",
          "x0": 9.5,
          "x1": 10.5,
          "y0": -0.5,
          "y1": 0.5
         },
         {
          "fillcolor": "rgba(0, 0, 0, 0)",
          "layer": "above",
          "line": {
           "color": "white",
           "width": 3
          },
          "type": "rect",
          "x0": 11.5,
          "x1": 12.5,
          "y0": -0.5,
          "y1": 0.5
         },
         {
          "fillcolor": "rgba(0, 0, 0, 0)",
          "layer": "above",
          "line": {
           "color": "white",
           "width": 3
          },
          "type": "rect",
          "x0": -0.5,
          "x1": 0.5,
          "y0": 0.5,
          "y1": 1.5
         },
         {
          "fillcolor": "rgba(0, 0, 0, 0)",
          "layer": "above",
          "line": {
           "color": "white",
           "width": 3
          },
          "type": "rect",
          "x0": 0.5,
          "x1": 1.5,
          "y0": 0.5,
          "y1": 1.5
         },
         {
          "fillcolor": "rgba(0, 0, 0, 0)",
          "layer": "above",
          "line": {
           "color": "white",
           "width": 3
          },
          "type": "rect",
          "x0": 1.5,
          "x1": 2.5,
          "y0": 0.5,
          "y1": 1.5
         },
         {
          "fillcolor": "rgba(0, 0, 0, 0)",
          "layer": "above",
          "line": {
           "color": "white",
           "width": 3
          },
          "type": "rect",
          "x0": 7.5,
          "x1": 8.5,
          "y0": 0.5,
          "y1": 1.5
         },
         {
          "fillcolor": "rgba(0, 0, 0, 0)",
          "layer": "above",
          "line": {
           "color": "white",
           "width": 3
          },
          "type": "rect",
          "x0": 11.5,
          "x1": 12.5,
          "y0": 0.5,
          "y1": 1.5
         },
         {
          "fillcolor": "rgba(0, 0, 0, 0)",
          "layer": "above",
          "line": {
           "color": "white",
           "width": 3
          },
          "type": "rect",
          "x0": 0.5,
          "x1": 1.5,
          "y0": 1.5,
          "y1": 2.5
         },
         {
          "fillcolor": "rgba(0, 0, 0, 0)",
          "layer": "above",
          "line": {
           "color": "white",
           "width": 3
          },
          "type": "rect",
          "x0": 1.5,
          "x1": 2.5,
          "y0": 1.5,
          "y1": 2.5
         },
         {
          "fillcolor": "rgba(0, 0, 0, 0)",
          "layer": "above",
          "line": {
           "color": "white",
           "width": 3
          },
          "type": "rect",
          "x0": 3.5,
          "x1": 4.5,
          "y0": 1.5,
          "y1": 2.5
         },
         {
          "fillcolor": "rgba(0, 0, 0, 0)",
          "layer": "above",
          "line": {
           "color": "white",
           "width": 3
          },
          "type": "rect",
          "x0": 4.5,
          "x1": 5.5,
          "y0": 1.5,
          "y1": 2.5
         },
         {
          "fillcolor": "rgba(0, 0, 0, 0)",
          "layer": "above",
          "line": {
           "color": "white",
           "width": 3
          },
          "type": "rect",
          "x0": 5.5,
          "x1": 6.5,
          "y0": 1.5,
          "y1": 2.5
         },
         {
          "fillcolor": "rgba(0, 0, 0, 0)",
          "layer": "above",
          "line": {
           "color": "white",
           "width": 3
          },
          "type": "rect",
          "x0": 2.5,
          "x1": 3.5,
          "y0": 2.5,
          "y1": 3.5
         },
         {
          "fillcolor": "rgba(0, 0, 0, 0)",
          "layer": "above",
          "line": {
           "color": "white",
           "width": 3
          },
          "type": "rect",
          "x0": 4.5,
          "x1": 5.5,
          "y0": 2.5,
          "y1": 3.5
         },
         {
          "fillcolor": "rgba(0, 0, 0, 0)",
          "layer": "above",
          "line": {
           "color": "white",
           "width": 3
          },
          "type": "rect",
          "x0": 6.5,
          "x1": 7.5,
          "y0": 2.5,
          "y1": 3.5
         },
         {
          "fillcolor": "rgba(0, 0, 0, 0)",
          "layer": "above",
          "line": {
           "color": "white",
           "width": 3
          },
          "type": "rect",
          "x0": 7.5,
          "x1": 8.5,
          "y0": 2.5,
          "y1": 3.5
         },
         {
          "fillcolor": "rgba(0, 0, 0, 0)",
          "layer": "above",
          "line": {
           "color": "white",
           "width": 3
          },
          "type": "rect",
          "x0": 8.5,
          "x1": 9.5,
          "y0": 2.5,
          "y1": 3.5
         },
         {
          "fillcolor": "rgba(0, 0, 0, 0)",
          "layer": "above",
          "line": {
           "color": "white",
           "width": 3
          },
          "type": "rect",
          "x0": 9.5,
          "x1": 10.5,
          "y0": 2.5,
          "y1": 3.5
         },
         {
          "fillcolor": "rgba(0, 0, 0, 0)",
          "layer": "above",
          "line": {
           "color": "white",
           "width": 3
          },
          "type": "rect",
          "x0": 11.5,
          "x1": 12.5,
          "y0": 2.5,
          "y1": 3.5
         },
         {
          "fillcolor": "rgba(0, 0, 0, 0)",
          "layer": "above",
          "line": {
           "color": "white",
           "width": 3
          },
          "type": "rect",
          "x0": 4.5,
          "x1": 5.5,
          "y0": 3.5,
          "y1": 4.5
         },
         {
          "fillcolor": "rgba(0, 0, 0, 0)",
          "layer": "above",
          "line": {
           "color": "white",
           "width": 3
          },
          "type": "rect",
          "x0": 5.5,
          "x1": 6.5,
          "y0": 3.5,
          "y1": 4.5
         },
         {
          "fillcolor": "rgba(0, 0, 0, 0)",
          "layer": "above",
          "line": {
           "color": "white",
           "width": 3
          },
          "type": "rect",
          "x0": 6.5,
          "x1": 7.5,
          "y0": 3.5,
          "y1": 4.5
         }
        ],
        "template": {
         "data": {
          "bar": [
           {
            "error_x": {
             "color": "#2a3f5f"
            },
            "error_y": {
             "color": "#2a3f5f"
            },
            "marker": {
             "line": {
              "color": "#E5ECF6",
              "width": 0.5
             },
             "pattern": {
              "fillmode": "overlay",
              "size": 10,
              "solidity": 0.2
             }
            },
            "type": "bar"
           }
          ],
          "barpolar": [
           {
            "marker": {
             "line": {
              "color": "#E5ECF6",
              "width": 0.5
             },
             "pattern": {
              "fillmode": "overlay",
              "size": 10,
              "solidity": 0.2
             }
            },
            "type": "barpolar"
           }
          ],
          "carpet": [
           {
            "aaxis": {
             "endlinecolor": "#2a3f5f",
             "gridcolor": "white",
             "linecolor": "white",
             "minorgridcolor": "white",
             "startlinecolor": "#2a3f5f"
            },
            "baxis": {
             "endlinecolor": "#2a3f5f",
             "gridcolor": "white",
             "linecolor": "white",
             "minorgridcolor": "white",
             "startlinecolor": "#2a3f5f"
            },
            "type": "carpet"
           }
          ],
          "choropleth": [
           {
            "colorbar": {
             "outlinewidth": 0,
             "ticks": ""
            },
            "type": "choropleth"
           }
          ],
          "contour": [
           {
            "colorbar": {
             "outlinewidth": 0,
             "ticks": ""
            },
            "colorscale": [
             [
              0,
              "#0d0887"
             ],
             [
              0.1111111111111111,
              "#46039f"
             ],
             [
              0.2222222222222222,
              "#7201a8"
             ],
             [
              0.3333333333333333,
              "#9c179e"
             ],
             [
              0.4444444444444444,
              "#bd3786"
             ],
             [
              0.5555555555555556,
              "#d8576b"
             ],
             [
              0.6666666666666666,
              "#ed7953"
             ],
             [
              0.7777777777777778,
              "#fb9f3a"
             ],
             [
              0.8888888888888888,
              "#fdca26"
             ],
             [
              1,
              "#f0f921"
             ]
            ],
            "type": "contour"
           }
          ],
          "contourcarpet": [
           {
            "colorbar": {
             "outlinewidth": 0,
             "ticks": ""
            },
            "type": "contourcarpet"
           }
          ],
          "heatmap": [
           {
            "colorbar": {
             "outlinewidth": 0,
             "ticks": ""
            },
            "colorscale": [
             [
              0,
              "#0d0887"
             ],
             [
              0.1111111111111111,
              "#46039f"
             ],
             [
              0.2222222222222222,
              "#7201a8"
             ],
             [
              0.3333333333333333,
              "#9c179e"
             ],
             [
              0.4444444444444444,
              "#bd3786"
             ],
             [
              0.5555555555555556,
              "#d8576b"
             ],
             [
              0.6666666666666666,
              "#ed7953"
             ],
             [
              0.7777777777777778,
              "#fb9f3a"
             ],
             [
              0.8888888888888888,
              "#fdca26"
             ],
             [
              1,
              "#f0f921"
             ]
            ],
            "type": "heatmap"
           }
          ],
          "heatmapgl": [
           {
            "colorbar": {
             "outlinewidth": 0,
             "ticks": ""
            },
            "colorscale": [
             [
              0,
              "#0d0887"
             ],
             [
              0.1111111111111111,
              "#46039f"
             ],
             [
              0.2222222222222222,
              "#7201a8"
             ],
             [
              0.3333333333333333,
              "#9c179e"
             ],
             [
              0.4444444444444444,
              "#bd3786"
             ],
             [
              0.5555555555555556,
              "#d8576b"
             ],
             [
              0.6666666666666666,
              "#ed7953"
             ],
             [
              0.7777777777777778,
              "#fb9f3a"
             ],
             [
              0.8888888888888888,
              "#fdca26"
             ],
             [
              1,
              "#f0f921"
             ]
            ],
            "type": "heatmapgl"
           }
          ],
          "histogram": [
           {
            "marker": {
             "pattern": {
              "fillmode": "overlay",
              "size": 10,
              "solidity": 0.2
             }
            },
            "type": "histogram"
           }
          ],
          "histogram2d": [
           {
            "colorbar": {
             "outlinewidth": 0,
             "ticks": ""
            },
            "colorscale": [
             [
              0,
              "#0d0887"
             ],
             [
              0.1111111111111111,
              "#46039f"
             ],
             [
              0.2222222222222222,
              "#7201a8"
             ],
             [
              0.3333333333333333,
              "#9c179e"
             ],
             [
              0.4444444444444444,
              "#bd3786"
             ],
             [
              0.5555555555555556,
              "#d8576b"
             ],
             [
              0.6666666666666666,
              "#ed7953"
             ],
             [
              0.7777777777777778,
              "#fb9f3a"
             ],
             [
              0.8888888888888888,
              "#fdca26"
             ],
             [
              1,
              "#f0f921"
             ]
            ],
            "type": "histogram2d"
           }
          ],
          "histogram2dcontour": [
           {
            "colorbar": {
             "outlinewidth": 0,
             "ticks": ""
            },
            "colorscale": [
             [
              0,
              "#0d0887"
             ],
             [
              0.1111111111111111,
              "#46039f"
             ],
             [
              0.2222222222222222,
              "#7201a8"
             ],
             [
              0.3333333333333333,
              "#9c179e"
             ],
             [
              0.4444444444444444,
              "#bd3786"
             ],
             [
              0.5555555555555556,
              "#d8576b"
             ],
             [
              0.6666666666666666,
              "#ed7953"
             ],
             [
              0.7777777777777778,
              "#fb9f3a"
             ],
             [
              0.8888888888888888,
              "#fdca26"
             ],
             [
              1,
              "#f0f921"
             ]
            ],
            "type": "histogram2dcontour"
           }
          ],
          "mesh3d": [
           {
            "colorbar": {
             "outlinewidth": 0,
             "ticks": ""
            },
            "type": "mesh3d"
           }
          ],
          "parcoords": [
           {
            "line": {
             "colorbar": {
              "outlinewidth": 0,
              "ticks": ""
             }
            },
            "type": "parcoords"
           }
          ],
          "pie": [
           {
            "automargin": true,
            "type": "pie"
           }
          ],
          "scatter": [
           {
            "fillpattern": {
             "fillmode": "overlay",
             "size": 10,
             "solidity": 0.2
            },
            "type": "scatter"
           }
          ],
          "scatter3d": [
           {
            "line": {
             "colorbar": {
              "outlinewidth": 0,
              "ticks": ""
             }
            },
            "marker": {
             "colorbar": {
              "outlinewidth": 0,
              "ticks": ""
             }
            },
            "type": "scatter3d"
           }
          ],
          "scattercarpet": [
           {
            "marker": {
             "colorbar": {
              "outlinewidth": 0,
              "ticks": ""
             }
            },
            "type": "scattercarpet"
           }
          ],
          "scattergeo": [
           {
            "marker": {
             "colorbar": {
              "outlinewidth": 0,
              "ticks": ""
             }
            },
            "type": "scattergeo"
           }
          ],
          "scattergl": [
           {
            "marker": {
             "colorbar": {
              "outlinewidth": 0,
              "ticks": ""
             }
            },
            "type": "scattergl"
           }
          ],
          "scattermapbox": [
           {
            "marker": {
             "colorbar": {
              "outlinewidth": 0,
              "ticks": ""
             }
            },
            "type": "scattermapbox"
           }
          ],
          "scatterpolar": [
           {
            "marker": {
             "colorbar": {
              "outlinewidth": 0,
              "ticks": ""
             }
            },
            "type": "scatterpolar"
           }
          ],
          "scatterpolargl": [
           {
            "marker": {
             "colorbar": {
              "outlinewidth": 0,
              "ticks": ""
             }
            },
            "type": "scatterpolargl"
           }
          ],
          "scatterternary": [
           {
            "marker": {
             "colorbar": {
              "outlinewidth": 0,
              "ticks": ""
             }
            },
            "type": "scatterternary"
           }
          ],
          "surface": [
           {
            "colorbar": {
             "outlinewidth": 0,
             "ticks": ""
            },
            "colorscale": [
             [
              0,
              "#0d0887"
             ],
             [
              0.1111111111111111,
              "#46039f"
             ],
             [
              0.2222222222222222,
              "#7201a8"
             ],
             [
              0.3333333333333333,
              "#9c179e"
             ],
             [
              0.4444444444444444,
              "#bd3786"
             ],
             [
              0.5555555555555556,
              "#d8576b"
             ],
             [
              0.6666666666666666,
              "#ed7953"
             ],
             [
              0.7777777777777778,
              "#fb9f3a"
             ],
             [
              0.8888888888888888,
              "#fdca26"
             ],
             [
              1,
              "#f0f921"
             ]
            ],
            "type": "surface"
           }
          ],
          "table": [
           {
            "cells": {
             "fill": {
              "color": "#EBF0F8"
             },
             "line": {
              "color": "white"
             }
            },
            "header": {
             "fill": {
              "color": "#C8D4E3"
             },
             "line": {
              "color": "white"
             }
            },
            "type": "table"
           }
          ]
         },
         "layout": {
          "annotationdefaults": {
           "arrowcolor": "#2a3f5f",
           "arrowhead": 0,
           "arrowwidth": 1
          },
          "autotypenumbers": "strict",
          "coloraxis": {
           "colorbar": {
            "outlinewidth": 0,
            "ticks": ""
           }
          },
          "colorscale": {
           "diverging": [
            [
             0,
             "#8e0152"
            ],
            [
             0.1,
             "#c51b7d"
            ],
            [
             0.2,
             "#de77ae"
            ],
            [
             0.3,
             "#f1b6da"
            ],
            [
             0.4,
             "#fde0ef"
            ],
            [
             0.5,
             "#f7f7f7"
            ],
            [
             0.6,
             "#e6f5d0"
            ],
            [
             0.7,
             "#b8e186"
            ],
            [
             0.8,
             "#7fbc41"
            ],
            [
             0.9,
             "#4d9221"
            ],
            [
             1,
             "#276419"
            ]
           ],
           "sequential": [
            [
             0,
             "#0d0887"
            ],
            [
             0.1111111111111111,
             "#46039f"
            ],
            [
             0.2222222222222222,
             "#7201a8"
            ],
            [
             0.3333333333333333,
             "#9c179e"
            ],
            [
             0.4444444444444444,
             "#bd3786"
            ],
            [
             0.5555555555555556,
             "#d8576b"
            ],
            [
             0.6666666666666666,
             "#ed7953"
            ],
            [
             0.7777777777777778,
             "#fb9f3a"
            ],
            [
             0.8888888888888888,
             "#fdca26"
            ],
            [
             1,
             "#f0f921"
            ]
           ],
           "sequentialminus": [
            [
             0,
             "#0d0887"
            ],
            [
             0.1111111111111111,
             "#46039f"
            ],
            [
             0.2222222222222222,
             "#7201a8"
            ],
            [
             0.3333333333333333,
             "#9c179e"
            ],
            [
             0.4444444444444444,
             "#bd3786"
            ],
            [
             0.5555555555555556,
             "#d8576b"
            ],
            [
             0.6666666666666666,
             "#ed7953"
            ],
            [
             0.7777777777777778,
             "#fb9f3a"
            ],
            [
             0.8888888888888888,
             "#fdca26"
            ],
            [
             1,
             "#f0f921"
            ]
           ]
          },
          "colorway": [
           "#636efa",
           "#EF553B",
           "#00cc96",
           "#ab63fa",
           "#FFA15A",
           "#19d3f3",
           "#FF6692",
           "#B6E880",
           "#FF97FF",
           "#FECB52"
          ],
          "font": {
           "color": "#2a3f5f"
          },
          "geo": {
           "bgcolor": "white",
           "lakecolor": "white",
           "landcolor": "#E5ECF6",
           "showlakes": true,
           "showland": true,
           "subunitcolor": "white"
          },
          "hoverlabel": {
           "align": "left"
          },
          "hovermode": "closest",
          "mapbox": {
           "style": "light"
          },
          "paper_bgcolor": "white",
          "plot_bgcolor": "#E5ECF6",
          "polar": {
           "angularaxis": {
            "gridcolor": "white",
            "linecolor": "white",
            "ticks": ""
           },
           "bgcolor": "#E5ECF6",
           "radialaxis": {
            "gridcolor": "white",
            "linecolor": "white",
            "ticks": ""
           }
          },
          "scene": {
           "xaxis": {
            "backgroundcolor": "#E5ECF6",
            "gridcolor": "white",
            "gridwidth": 2,
            "linecolor": "white",
            "showbackground": true,
            "ticks": "",
            "zerolinecolor": "white"
           },
           "yaxis": {
            "backgroundcolor": "#E5ECF6",
            "gridcolor": "white",
            "gridwidth": 2,
            "linecolor": "white",
            "showbackground": true,
            "ticks": "",
            "zerolinecolor": "white"
           },
           "zaxis": {
            "backgroundcolor": "#E5ECF6",
            "gridcolor": "white",
            "gridwidth": 2,
            "linecolor": "white",
            "showbackground": true,
            "ticks": "",
            "zerolinecolor": "white"
           }
          },
          "shapedefaults": {
           "line": {
            "color": "#2a3f5f"
           }
          },
          "ternary": {
           "aaxis": {
            "gridcolor": "white",
            "linecolor": "white",
            "ticks": ""
           },
           "baxis": {
            "gridcolor": "white",
            "linecolor": "white",
            "ticks": ""
           },
           "bgcolor": "#E5ECF6",
           "caxis": {
            "gridcolor": "white",
            "linecolor": "white",
            "ticks": ""
           }
          },
          "title": {
           "x": 0.05
          },
          "xaxis": {
           "automargin": true,
           "gridcolor": "white",
           "linecolor": "white",
           "ticks": "",
           "title": {
            "standoff": 15
           },
           "zerolinecolor": "white",
           "zerolinewidth": 2
          },
          "yaxis": {
           "automargin": true,
           "gridcolor": "white",
           "linecolor": "white",
           "ticks": "",
           "title": {
            "standoff": 15
           },
           "zerolinecolor": "white",
           "zerolinewidth": 2
          }
         }
        },
        "xaxis": {
         "autorange": true,
         "range": [
          -0.524375,
          12.524375
         ],
         "tickangle": -45,
         "tickfont": {
          "color": "black",
          "size": 18
         },
         "tickmode": "array",
         "ticktext": [
          "R69",
          "M75",
          "A78",
          "I159",
          "L202",
          "K204",
          "E206",
          "F207",
          "A254",
          "R255",
          "L258",
          "Q260",
          "A261"
         ],
         "tickvals": [
          "R69",
          "M75",
          "A78",
          "I159",
          "L202",
          "K204",
          "E206",
          "F207",
          "A254",
          "R255",
          "L258",
          "Q260",
          "A261"
         ],
         "title": {
          "font": {
           "color": "black",
           "size": 24
          },
          "text": "Cutsite"
         },
         "type": "category"
        },
        "yaxis": {
         "automargin": true,
         "autorange": true,
         "linecolor": "rgba(0, 0, 0, 0)",
         "range": [
          -0.5477707006369427,
          4.547770700636943
         ],
         "side": "left",
         "tickcolor": "rgba(0, 0, 0, 0)",
         "tickfont": {
          "color": "black",
          "size": 18
         },
         "ticklabelposition": "outside",
         "ticklen": 20,
         "ticks": "outside",
         "tickson": "boundaries",
         "tickwidth": 2,
         "title": {
          "font": {
           "color": "black",
           "size": 24
          },
          "text": "State"
         },
         "type": "category"
        }
       }
      },
      "image/png": "[encoded data removed]",
      "text/html": [
       "<div>                            <div id=\"5a4f5576-612a-42c8-9603-b81fabfc5833\" class=\"plotly-graph-div\" style=\"height:525px; width:100%;\"></div>            <script type=\"text/javascript\">                require([\"plotly\"], function(Plotly) {                    window.PLOTLYENV=window.PLOTLYENV || {};                                    if (document.getElementById(\"5a4f5576-612a-42c8-9603-b81fabfc5833\")) {                    Plotly.newPlot(                        \"5a4f5576-612a-42c8-9603-b81fabfc5833\",                        [{\"colorbar\":{\"len\":1.0,\"lenmode\":\"fraction\",\"title\":{\"font\":{\"color\":\"black\",\"size\":18},\"side\":\"right\",\"text\":\"adj. p-value\"},\"x\":1.0,\"xanchor\":\"left\",\"y\":0.5,\"yanchor\":\"middle\"},\"colorscale\":[[0.0,\"rgb(127,59,8)\"],[0.1,\"rgb(179,88,6)\"],[0.2,\"rgb(224,130,20)\"],[0.3,\"rgb(253,184,99)\"],[0.4,\"rgb(254,224,182)\"],[0.5,\"rgb(247,247,247)\"],[0.6,\"rgb(216,218,235)\"],[0.7,\"rgb(178,171,210)\"],[0.8,\"rgb(128,115,172)\"],[0.9,\"rgb(84,39,136)\"],[1.0,\"rgb(45,0,75)\"]],\"showscale\":true,\"text\":[[\"0.001\",\"0.152\",\"0.942\",\"0.926\",\"\\u003c10\\u003csup\\u003e-5\\u003c\\u002fsup\\u003e\",\"\\u003c10\\u003csup\\u003e-5\\u003c\\u002fsup\\u003e\",\"\\u003c10\\u003csup\\u003e-5\\u003c\\u002fsup\\u003e\",\"\\u003c10\\u003csup\\u003e-5\\u003c\\u002fsup\\u003e\",\"\\u003c10\\u003csup\\u003e-5\\u003c\\u002fsup\\u003e\",\"0.001\",\"0.002\",\"0.478\",\"\\u003c10\\u003csup\\u003e-3\\u003c\\u002fsup\\u003e\"],[\"\\u003c10\\u003csup\\u003e-5\\u003c\\u002fsup\\u003e\",\"\\u003c10\\u003csup\\u003e-5\\u003c\\u002fsup\\u003e\",\"\\u003c10\\u003csup\\u003e-3\\u003c\\u002fsup\\u003e\",\"0.758\",\"0.261\",\"0.999\",\"0.532\",\"0.999\",\"\\u003c10\\u003csup\\u003e-5\\u003c\\u002fsup\\u003e\",\"0.194\",\"0.995\",\"0.994\",\"0.014\"],[\"0.286\",\"\\u003c10\\u003csup\\u003e-5\\u003c\\u002fsup\\u003e\",\"\\u003c10\\u003csup\\u003e-5\\u003c\\u002fsup\\u003e\",\"0.214\",\"\\u003c10\\u003csup\\u003e-3\\u003c\\u002fsup\\u003e\",\"0.003\",\"0.003\",\"0.074\",\"0.465\",\"0.429\",\"0.065\",\"0.286\",\"0.598\"],[\"0.726\",\"0.942\",\"0.955\",\"\\u003c10\\u003csup\\u003e-5\\u003c\\u002fsup\\u003e\",\"0.915\",\"\\u003c10\\u003csup\\u003e-3\\u003c\\u002fsup\\u003e\",\"0.106\",\"0.012\",\"\\u003c10\\u003csup\\u003e-5\\u003c\\u002fsup\\u003e\",\"\\u003c10\\u003csup\\u003e-3\\u003c\\u002fsup\\u003e\",\"0.007\",\"0.641\",\"0.013\"],[\"0.949\",\"0.337\",\"0.106\",\"0.835\",\"0.147\",\"0.012\",\"\\u003c10\\u003csup\\u003e-3\\u003c\\u002fsup\\u003e\",\"0.001\",\"0.942\",\"0.909\",\"0.718\",\"0.942\",\"0.261\"]],\"textfont\":{\"size\":14},\"texttemplate\":\"%{text}\",\"x\":[\"R69\",\"M75\",\"A78\",\"I159\",\"L202\",\"K204\",\"E206\",\"F207\",\"A254\",\"R255\",\"L258\",\"Q260\",\"A261\"],\"xgap\":1,\"y\":[\"State 0\",\"State 1\",\"State 2\",\"State 3\",\"State 4\"],\"ygap\":1,\"z\":[[2.9208187539523753,0.8170720307630076,0.026151999769837182,0.03351097057560385,5.0,5.0,5.0,5.0,5.0,2.9355420107730814,2.7375489102695707,0.3207720338901015,3.795880017344075],[5.0,5.0,3.5686362358410126,0.12044539906102561,0.5826445770964213,0.0002519638760934004,0.27416184479129285,0.0002519638760934004,5.0,0.7118178693863424,0.0023908455983848733,0.002543714671922012,1.8683813356508745],[0.5441353652124723,5.0,5.0,0.6688157334139164,4.301029995663981,2.469800301796918,2.469800301796918,1.133417322936451,0.3327432244033069,0.36768445874900907,1.1868194674139882,0.5441353652124723,0.22311729271452507],[0.13918303613546232,0.026151999769837182,0.02019676831803134,5.0,0.038488733927521716,3.886056647693163,0.9727319575333813,1.9355420107730816,5.0,4.301029995663981,2.1487416512809245,0.1932165047908763,1.8768019249680012],[0.022944350159623945,0.4720609193705368,0.9727319575333813,0.0784383696155434,0.8313552231121831,1.9355420107730816,3.4436974992327127,2.886056647693163,0.026151999769837182,0.041321466702946605,0.14414177880378795,0.026151999769837182,0.5826445770964213]],\"type\":\"heatmap\"}],                        {\"template\":{\"data\":{\"histogram2dcontour\":[{\"type\":\"histogram2dcontour\",\"colorbar\":{\"outlinewidth\":0,\"ticks\":\"\"},\"colorscale\":[[0.0,\"#0d0887\"],[0.1111111111111111,\"#46039f\"],[0.2222222222222222,\"#7201a8\"],[0.3333333333333333,\"#9c179e\"],[0.4444444444444444,\"#bd3786\"],[0.5555555555555556,\"#d8576b\"],[0.6666666666666666,\"#ed7953\"],[0.7777777777777778,\"#fb9f3a\"],[0.8888888888888888,\"#fdca26\"],[1.0,\"#f0f921\"]]}],\"choropleth\":[{\"type\":\"choropleth\",\"colorbar\":{\"outlinewidth\":0,\"ticks\":\"\"}}],\"histogram2d\":[{\"type\":\"histogram2d\",\"colorbar\":{\"outlinewidth\":0,\"ticks\":\"\"},\"colorscale\":[[0.0,\"#0d0887\"],[0.1111111111111111,\"#46039f\"],[0.2222222222222222,\"#7201a8\"],[0.3333333333333333,\"#9c179e\"],[0.4444444444444444,\"#bd3786\"],[0.5555555555555556,\"#d8576b\"],[0.6666666666666666,\"#ed7953\"],[0.7777777777777778,\"#fb9f3a\"],[0.8888888888888888,\"#fdca26\"],[1.0,\"#f0f921\"]]}],\"heatmap\":[{\"type\":\"heatmap\",\"colorbar\":{\"outlinewidth\":0,\"ticks\":\"\"},\"colorscale\":[[0.0,\"#0d0887\"],[0.1111111111111111,\"#46039f\"],[0.2222222222222222,\"#7201a8\"],[0.3333333333333333,\"#9c179e\"],[0.4444444444444444,\"#bd3786\"],[0.5555555555555556,\"#d8576b\"],[0.6666666666666666,\"#ed7953\"],[0.7777777777777778,\"#fb9f3a\"],[0.8888888888888888,\"#fdca26\"],[1.0,\"#f0f921\"]]}],\"heatmapgl\":[{\"type\":\"heatmapgl\",\"colorbar\":{\"outlinewidth\":0,\"ticks\":\"\"},\"colorscale\":[[0.0,\"#0d0887\"],[0.1111111111111111,\"#46039f\"],[0.2222222222222222,\"#7201a8\"],[0.3333333333333333,\"#9c179e\"],[0.4444444444444444,\"#bd3786\"],[0.5555555555555556,\"#d8576b\"],[0.6666666666666666,\"#ed7953\"],[0.7777777777777778,\"#fb9f3a\"],[0.8888888888888888,\"#fdca26\"],[1.0,\"#f0f921\"]]}],\"contourcarpet\":[{\"type\":\"contourcarpet\",\"colorbar\":{\"outlinewidth\":0,\"ticks\":\"\"}}],\"contour\":[{\"type\":\"contour\",\"colorbar\":{\"outlinewidth\":0,\"ticks\":\"\"},\"colorscale\":[[0.0,\"#0d0887\"],[0.1111111111111111,\"#46039f\"],[0.2222222222222222,\"#7201a8\"],[0.3333333333333333,\"#9c179e\"],[0.4444444444444444,\"#bd3786\"],[0.5555555555555556,\"#d8576b\"],[0.6666666666666666,\"#ed7953\"],[0.7777777777777778,\"#fb9f3a\"],[0.8888888888888888,\"#fdca26\"],[1.0,\"#f0f921\"]]}],\"surface\":[{\"type\":\"surface\",\"colorbar\":{\"outlinewidth\":0,\"ticks\":\"\"},\"colorscale\":[[0.0,\"#0d0887\"],[0.1111111111111111,\"#46039f\"],[0.2222222222222222,\"#7201a8\"],[0.3333333333333333,\"#9c179e\"],[0.4444444444444444,\"#bd3786\"],[0.5555555555555556,\"#d8576b\"],[0.6666666666666666,\"#ed7953\"],[0.7777777777777778,\"#fb9f3a\"],[0.8888888888888888,\"#fdca26\"],[1.0,\"#f0f921\"]]}],\"mesh3d\":[{\"type\":\"mesh3d\",\"colorbar\":{\"outlinewidth\":0,\"ticks\":\"\"}}],\"scatter\":[{\"fillpattern\":{\"fillmode\":\"overlay\",\"size\":10,\"solidity\":0.2},\"type\":\"scatter\"}],\"parcoords\":[{\"type\":\"parcoords\",\"line\":{\"colorbar\":{\"outlinewidth\":0,\"ticks\":\"\"}}}],\"scatterpolargl\":[{\"type\":\"scatterpolargl\",\"marker\":{\"colorbar\":{\"outlinewidth\":0,\"ticks\":\"\"}}}],\"bar\":[{\"error_x\":{\"color\":\"#2a3f5f\"},\"error_y\":{\"color\":\"#2a3f5f\"},\"marker\":{\"line\":{\"color\":\"#E5ECF6\",\"width\":0.5},\"pattern\":{\"fillmode\":\"overlay\",\"size\":10,\"solidity\":0.2}},\"type\":\"bar\"}],\"scattergeo\":[{\"type\":\"scattergeo\",\"marker\":{\"colorbar\":{\"outlinewidth\":0,\"ticks\":\"\"}}}],\"scatterpolar\":[{\"type\":\"scatterpolar\",\"marker\":{\"colorbar\":{\"outlinewidth\":0,\"ticks\":\"\"}}}],\"histogram\":[{\"marker\":{\"pattern\":{\"fillmode\":\"overlay\",\"size\":10,\"solidity\":0.2}},\"type\":\"histogram\"}],\"scattergl\":[{\"type\":\"scattergl\",\"marker\":{\"colorbar\":{\"outlinewidth\":0,\"ticks\":\"\"}}}],\"scatter3d\":[{\"type\":\"scatter3d\",\"line\":{\"colorbar\":{\"outlinewidth\":0,\"ticks\":\"\"}},\"marker\":{\"colorbar\":{\"outlinewidth\":0,\"ticks\":\"\"}}}],\"scattermapbox\":[{\"type\":\"scattermapbox\",\"marker\":{\"colorbar\":{\"outlinewidth\":0,\"ticks\":\"\"}}}],\"scatterternary\":[{\"type\":\"scatterternary\",\"marker\":{\"colorbar\":{\"outlinewidth\":0,\"ticks\":\"\"}}}],\"scattercarpet\":[{\"type\":\"scattercarpet\",\"marker\":{\"colorbar\":{\"outlinewidth\":0,\"ticks\":\"\"}}}],\"carpet\":[{\"aaxis\":{\"endlinecolor\":\"#2a3f5f\",\"gridcolor\":\"white\",\"linecolor\":\"white\",\"minorgridcolor\":\"white\",\"startlinecolor\":\"#2a3f5f\"},\"baxis\":{\"endlinecolor\":\"#2a3f5f\",\"gridcolor\":\"white\",\"linecolor\":\"white\",\"minorgridcolor\":\"white\",\"startlinecolor\":\"#2a3f5f\"},\"type\":\"carpet\"}],\"table\":[{\"cells\":{\"fill\":{\"color\":\"#EBF0F8\"},\"line\":{\"color\":\"white\"}},\"header\":{\"fill\":{\"color\":\"#C8D4E3\"},\"line\":{\"color\":\"white\"}},\"type\":\"table\"}],\"barpolar\":[{\"marker\":{\"line\":{\"color\":\"#E5ECF6\",\"width\":0.5},\"pattern\":{\"fillmode\":\"overlay\",\"size\":10,\"solidity\":0.2}},\"type\":\"barpolar\"}],\"pie\":[{\"automargin\":true,\"type\":\"pie\"}]},\"layout\":{\"autotypenumbers\":\"strict\",\"colorway\":[\"#636efa\",\"#EF553B\",\"#00cc96\",\"#ab63fa\",\"#FFA15A\",\"#19d3f3\",\"#FF6692\",\"#B6E880\",\"#FF97FF\",\"#FECB52\"],\"font\":{\"color\":\"#2a3f5f\"},\"hovermode\":\"closest\",\"hoverlabel\":{\"align\":\"left\"},\"paper_bgcolor\":\"white\",\"plot_bgcolor\":\"#E5ECF6\",\"polar\":{\"bgcolor\":\"#E5ECF6\",\"angularaxis\":{\"gridcolor\":\"white\",\"linecolor\":\"white\",\"ticks\":\"\"},\"radialaxis\":{\"gridcolor\":\"white\",\"linecolor\":\"white\",\"ticks\":\"\"}},\"ternary\":{\"bgcolor\":\"#E5ECF6\",\"aaxis\":{\"gridcolor\":\"white\",\"linecolor\":\"white\",\"ticks\":\"\"},\"baxis\":{\"gridcolor\":\"white\",\"linecolor\":\"white\",\"ticks\":\"\"},\"caxis\":{\"gridcolor\":\"white\",\"linecolor\":\"white\",\"ticks\":\"\"}},\"coloraxis\":{\"colorbar\":{\"outlinewidth\":0,\"ticks\":\"\"}},\"colorscale\":{\"sequential\":[[0.0,\"#0d0887\"],[0.1111111111111111,\"#46039f\"],[0.2222222222222222,\"#7201a8\"],[0.3333333333333333,\"#9c179e\"],[0.4444444444444444,\"#bd3786\"],[0.5555555555555556,\"#d8576b\"],[0.6666666666666666,\"#ed7953\"],[0.7777777777777778,\"#fb9f3a\"],[0.8888888888888888,\"#fdca26\"],[1.0,\"#f0f921\"]],\"sequentialminus\":[[0.0,\"#0d0887\"],[0.1111111111111111,\"#46039f\"],[0.2222222222222222,\"#7201a8\"],[0.3333333333333333,\"#9c179e\"],[0.4444444444444444,\"#bd3786\"],[0.5555555555555556,\"#d8576b\"],[0.6666666666666666,\"#ed7953\"],[0.7777777777777778,\"#fb9f3a\"],[0.8888888888888888,\"#fdca26\"],[1.0,\"#f0f921\"]],\"diverging\":[[0,\"#8e0152\"],[0.1,\"#c51b7d\"],[0.2,\"#de77ae\"],[0.3,\"#f1b6da\"],[0.4,\"#fde0ef\"],[0.5,\"#f7f7f7\"],[0.6,\"#e6f5d0\"],[0.7,\"#b8e186\"],[0.8,\"#7fbc41\"],[0.9,\"#4d9221\"],[1,\"#276419\"]]},\"xaxis\":{\"gridcolor\":\"white\",\"linecolor\":\"white\",\"ticks\":\"\",\"title\":{\"standoff\":15},\"zerolinecolor\":\"white\",\"automargin\":true,\"zerolinewidth\":2},\"yaxis\":{\"gridcolor\":\"white\",\"linecolor\":\"white\",\"ticks\":\"\",\"title\":{\"standoff\":15},\"zerolinecolor\":\"white\",\"automargin\":true,\"zerolinewidth\":2},\"scene\":{\"xaxis\":{\"backgroundcolor\":\"#E5ECF6\",\"gridcolor\":\"white\",\"linecolor\":\"white\",\"showbackground\":true,\"ticks\":\"\",\"zerolinecolor\":\"white\",\"gridwidth\":2},\"yaxis\":{\"backgroundcolor\":\"#E5ECF6\",\"gridcolor\":\"white\",\"linecolor\":\"white\",\"showbackground\":true,\"ticks\":\"\",\"zerolinecolor\":\"white\",\"gridwidth\":2},\"zaxis\":{\"backgroundcolor\":\"#E5ECF6\",\"gridcolor\":\"white\",\"linecolor\":\"white\",\"showbackground\":true,\"ticks\":\"\",\"zerolinecolor\":\"white\",\"gridwidth\":2}},\"shapedefaults\":{\"line\":{\"color\":\"#2a3f5f\"}},\"annotationdefaults\":{\"arrowcolor\":\"#2a3f5f\",\"arrowhead\":0,\"arrowwidth\":1},\"geo\":{\"bgcolor\":\"white\",\"landcolor\":\"#E5ECF6\",\"subunitcolor\":\"white\",\"showland\":true,\"showlakes\":true,\"lakecolor\":\"white\"},\"title\":{\"x\":0.05},\"mapbox\":{\"style\":\"light\"}}},\"shapes\":[{\"fillcolor\":\"rgba(0,0,0,0)\",\"layer\":\"above\",\"line\":{\"color\":\"white\",\"width\":3},\"type\":\"rect\",\"x0\":-0.5,\"x1\":0.5,\"y0\":-0.5,\"y1\":0.5},{\"fillcolor\":\"rgba(0,0,0,0)\",\"layer\":\"above\",\"line\":{\"color\":\"white\",\"width\":3},\"type\":\"rect\",\"x0\":3.5,\"x1\":4.5,\"y0\":-0.5,\"y1\":0.5},{\"fillcolor\":\"rgba(0,0,0,0)\",\"layer\":\"above\",\"line\":{\"color\":\"white\",\"width\":3},\"type\":\"rect\",\"x0\":4.5,\"x1\":5.5,\"y0\":-0.5,\"y1\":0.5},{\"fillcolor\":\"rgba(0,0,0,0)\",\"layer\":\"above\",\"line\":{\"color\":\"white\",\"width\":3},\"type\":\"rect\",\"x0\":5.5,\"x1\":6.5,\"y0\":-0.5,\"y1\":0.5},{\"fillcolor\":\"rgba(0,0,0,0)\",\"layer\":\"above\",\"line\":{\"color\":\"white\",\"width\":3},\"type\":\"rect\",\"x0\":6.5,\"x1\":7.5,\"y0\":-0.5,\"y1\":0.5},{\"fillcolor\":\"rgba(0,0,0,0)\",\"layer\":\"above\",\"line\":{\"color\":\"white\",\"width\":3},\"type\":\"rect\",\"x0\":7.5,\"x1\":8.5,\"y0\":-0.5,\"y1\":0.5},{\"fillcolor\":\"rgba(0,0,0,0)\",\"layer\":\"above\",\"line\":{\"color\":\"white\",\"width\":3},\"type\":\"rect\",\"x0\":8.5,\"x1\":9.5,\"y0\":-0.5,\"y1\":0.5},{\"fillcolor\":\"rgba(0,0,0,0)\",\"layer\":\"above\",\"line\":{\"color\":\"white\",\"width\":3},\"type\":\"rect\",\"x0\":9.5,\"x1\":10.5,\"y0\":-0.5,\"y1\":0.5},{\"fillcolor\":\"rgba(0,0,0,0)\",\"layer\":\"above\",\"line\":{\"color\":\"white\",\"width\":3},\"type\":\"rect\",\"x0\":11.5,\"x1\":12.5,\"y0\":-0.5,\"y1\":0.5},{\"fillcolor\":\"rgba(0,0,0,0)\",\"layer\":\"above\",\"line\":{\"color\":\"white\",\"width\":3},\"type\":\"rect\",\"x0\":-0.5,\"x1\":0.5,\"y0\":0.5,\"y1\":1.5},{\"fillcolor\":\"rgba(0,0,0,0)\",\"layer\":\"above\",\"line\":{\"color\":\"white\",\"width\":3},\"type\":\"rect\",\"x0\":0.5,\"x1\":1.5,\"y0\":0.5,\"y1\":1.5},{\"fillcolor\":\"rgba(0,0,0,0)\",\"layer\":\"above\",\"line\":{\"color\":\"white\",\"width\":3},\"type\":\"rect\",\"x0\":1.5,\"x1\":2.5,\"y0\":0.5,\"y1\":1.5},{\"fillcolor\":\"rgba(0,0,0,0)\",\"layer\":\"above\",\"line\":{\"color\":\"white\",\"width\":3},\"type\":\"rect\",\"x0\":7.5,\"x1\":8.5,\"y0\":0.5,\"y1\":1.5},{\"fillcolor\":\"rgba(0,0,0,0)\",\"layer\":\"above\",\"line\":{\"color\":\"white\",\"width\":3},\"type\":\"rect\",\"x0\":11.5,\"x1\":12.5,\"y0\":0.5,\"y1\":1.5},{\"fillcolor\":\"rgba(0,0,0,0)\",\"layer\":\"above\",\"line\":{\"color\":\"white\",\"width\":3},\"type\":\"rect\",\"x0\":0.5,\"x1\":1.5,\"y0\":1.5,\"y1\":2.5},{\"fillcolor\":\"rgba(0,0,0,0)\",\"layer\":\"above\",\"line\":{\"color\":\"white\",\"width\":3},\"type\":\"rect\",\"x0\":1.5,\"x1\":2.5,\"y0\":1.5,\"y1\":2.5},{\"fillcolor\":\"rgba(0,0,0,0)\",\"layer\":\"above\",\"line\":{\"color\":\"white\",\"width\":3},\"type\":\"rect\",\"x0\":3.5,\"x1\":4.5,\"y0\":1.5,\"y1\":2.5},{\"fillcolor\":\"rgba(0,0,0,0)\",\"layer\":\"above\",\"line\":{\"color\":\"white\",\"width\":3},\"type\":\"rect\",\"x0\":4.5,\"x1\":5.5,\"y0\":1.5,\"y1\":2.5},{\"fillcolor\":\"rgba(0,0,0,0)\",\"layer\":\"above\",\"line\":{\"color\":\"white\",\"width\":3},\"type\":\"rect\",\"x0\":5.5,\"x1\":6.5,\"y0\":1.5,\"y1\":2.5},{\"fillcolor\":\"rgba(0,0,0,0)\",\"layer\":\"above\",\"line\":{\"color\":\"white\",\"width\":3},\"type\":\"rect\",\"x0\":2.5,\"x1\":3.5,\"y0\":2.5,\"y1\":3.5},{\"fillcolor\":\"rgba(0,0,0,0)\",\"layer\":\"above\",\"line\":{\"color\":\"white\",\"width\":3},\"type\":\"rect\",\"x0\":4.5,\"x1\":5.5,\"y0\":2.5,\"y1\":3.5},{\"fillcolor\":\"rgba(0,0,0,0)\",\"layer\":\"above\",\"line\":{\"color\":\"white\",\"width\":3},\"type\":\"rect\",\"x0\":6.5,\"x1\":7.5,\"y0\":2.5,\"y1\":3.5},{\"fillcolor\":\"rgba(0,0,0,0)\",\"layer\":\"above\",\"line\":{\"color\":\"white\",\"width\":3},\"type\":\"rect\",\"x0\":7.5,\"x1\":8.5,\"y0\":2.5,\"y1\":3.5},{\"fillcolor\":\"rgba(0,0,0,0)\",\"layer\":\"above\",\"line\":{\"color\":\"white\",\"width\":3},\"type\":\"rect\",\"x0\":8.5,\"x1\":9.5,\"y0\":2.5,\"y1\":3.5},{\"fillcolor\":\"rgba(0,0,0,0)\",\"layer\":\"above\",\"line\":{\"color\":\"white\",\"width\":3},\"type\":\"rect\",\"x0\":9.5,\"x1\":10.5,\"y0\":2.5,\"y1\":3.5},{\"fillcolor\":\"rgba(0,0,0,0)\",\"layer\":\"above\",\"line\":{\"color\":\"white\",\"width\":3},\"type\":\"rect\",\"x0\":11.5,\"x1\":12.5,\"y0\":2.5,\"y1\":3.5},{\"fillcolor\":\"rgba(0,0,0,0)\",\"layer\":\"above\",\"line\":{\"color\":\"white\",\"width\":3},\"type\":\"rect\",\"x0\":4.5,\"x1\":5.5,\"y0\":3.5,\"y1\":4.5},{\"fillcolor\":\"rgba(0,0,0,0)\",\"layer\":\"above\",\"line\":{\"color\":\"white\",\"width\":3},\"type\":\"rect\",\"x0\":5.5,\"x1\":6.5,\"y0\":3.5,\"y1\":4.5},{\"fillcolor\":\"rgba(0,0,0,0)\",\"layer\":\"above\",\"line\":{\"color\":\"white\",\"width\":3},\"type\":\"rect\",\"x0\":6.5,\"x1\":7.5,\"y0\":3.5,\"y1\":4.5}],\"xaxis\":{\"title\":{\"text\":\"Cutsite\",\"font\":{\"size\":24,\"color\":\"black\"}},\"tickfont\":{\"size\":18,\"color\":\"black\"},\"tickangle\":-45,\"tickmode\":\"array\",\"tickvals\":[\"R69\",\"M75\",\"A78\",\"I159\",\"L202\",\"K204\",\"E206\",\"F207\",\"A254\",\"R255\",\"L258\",\"Q260\",\"A261\"],\"ticktext\":[\"R69\",\"M75\",\"A78\",\"I159\",\"L202\",\"K204\",\"E206\",\"F207\",\"A254\",\"R255\",\"L258\",\"Q260\",\"A261\"]},\"yaxis\":{\"title\":{\"text\":\"State\",\"font\":{\"size\":24,\"color\":\"black\"}},\"tickfont\":{\"size\":18,\"color\":\"black\"},\"ticklabelposition\":\"outside\",\"automargin\":true,\"side\":\"left\",\"tickson\":\"boundaries\",\"ticklen\":20,\"tickwidth\":2,\"ticks\":\"outside\",\"tickcolor\":\"rgba(0,0,0,0)\",\"linecolor\":\"rgba(0,0,0,0)\"},\"margin\":{\"l\":200,\"r\":100,\"t\":100,\"b\":100}},                        {\"responsive\": true}                    ).then(function(){\n",
       "                            \n",
       "var gd = document.getElementById('5a4f5576-612a-42c8-9603-b81fabfc5833');\n",
       "var x = new MutationObserver(function (mutations, observer) {{\n",
       "        var display = window.getComputedStyle(gd).display;\n",
       "        if (!display || display === 'none') {{\n",
       "            console.log([gd, 'removed!']);\n",
       "            Plotly.purge(gd);\n",
       "            observer.disconnect();\n",
       "        }}\n",
       "}});\n",
       "\n",
       "// Listen for the removal of the full notebook cells\n",
       "var notebookContainer = gd.closest('#notebook-container');\n",
       "if (notebookContainer) {{\n",
       "    x.observe(notebookContainer, {childList: true});\n",
       "}}\n",
       "\n",
       "// Listen for the clearing of the current output cell\n",
       "var outputEl = gd.closest('.output');\n",
       "if (outputEl) {{\n",
       "    x.observe(outputEl, {childList: true});\n",
       "}}\n",
       "\n",
       "                        })                };                });            </script>        </div>"
      ]
     },
     "metadata": {},
     "output_type": "display_data"
    }
   ],
   "source": [
    "# Create a heatmap with cell borders\n",
    "fig = go.Figure(data=go.Heatmap(\n",
    "    z=log_z_values,\n",
    "    x=x_labels,\n",
    "    y=y_labels,\n",
    "    colorscale=\"puor\",\n",
    "    showscale=True,\n",
    "    xgap=1,  # Gap between cells on the x-axis (creates a border)\n",
    "    ygap=1,   # Gap between cells on the y-axis (creates a border)\n",
    "    text=text_values,  # Display p-values in cells\n",
    "    texttemplate=\"%{text}\",  # Format text in cells\n",
    "    textfont=dict(size=14),  # Adjust font size and color for readability\n",
    "    # zmin=0,  # Set minimum of color scale to 0\n",
    "    # zmax=1,  # Set maximum of color scale to 1\n",
    "    colorbar=dict(\n",
    "        title=\"adj. p-value\",\n",
    "        title_side=\"right\",\n",
    "        titlefont=dict(size=18, color=\"black\"),\n",
    "        lenmode=\"fraction\",\n",
    "        len=1.0,\n",
    "        y=0.5,\n",
    "        yanchor=\"middle\",\n",
    "        x=1.0,\n",
    "        xanchor=\"left\"\n",
    "    ),\n",
    "))\n",
    "\n",
    "# New code to add borders for significant cells\n",
    "for i in range(len(y_labels)):\n",
    "    for j in range(len(x_labels)):\n",
    "        if z_values[i][j] < 0.05:\n",
    "\n",
    "            fig.add_shape(\n",
    "                type=\"rect\",\n",
    "                x0=j-0.5, y0=i-0.5, x1=j+0.5, y1=i+0.5,\n",
    "                line=dict(color=\"white\", width=3),\n",
    "                fillcolor=\"rgba(0,0,0,0)\",\n",
    "                layer=\"above\"\n",
    "            )\n",
    "\n",
    "# Update layout to ensure sufficient space and styling\n",
    "fig.update_layout(\n",
    "    xaxis=dict(\n",
    "        title=\"Cutsite\",\n",
    "        titlefont=dict(size=24, color=\"black\"),\n",
    "        tickfont=dict(size=18, color=\"black\"),\n",
    "        tickangle=-45,\n",
    "        tickmode='array',\n",
    "        tickvals=x_labels,\n",
    "        ticktext=x_labels\n",
    "    ),\n",
    "    yaxis=dict(\n",
    "        title=\"State\",\n",
    "        titlefont=dict(size=24, color=\"black\"),\n",
    "        tickfont=dict(size=18, color=\"black\"),\n",
    "        ticklabelposition=\"outside\",\n",
    "        automargin=True,\n",
    "        side=\"left\",\n",
    "        tickson=\"boundaries\",\n",
    "        ticklen=20,  # Increase tick length\n",
    "        tickwidth=2,  # Increase tick width for visibility\n",
    "        ticks=\"outside\",  # Place ticks outside the plot area\n",
    "        tickcolor=\"rgba(0,0,0,0)\",  # Make ticks transparent\n",
    "        linecolor=\"rgba(0,0,0,0)\",  # Make axis line transparent\n",
    "    ),\n",
    "\n",
    "    margin=dict(l=200, r=100, t=100, b=100),  # Increase margins to ensure full rendering\n",
    "    # width=1700,  # Set optimal width\n",
    "    # height=500,   # Set optimal height\n",
    ")\n",
    "\n",
    "\n",
    "# Show the figure\n",
    "fig.show()\n",
    "# Save the figure as a high-resolution image\n",
    "# fig.write_image(\"Simulation_LiPMS_consistent_heatmap.png\", scale=10)"
   ]
  },
  {
   "cell_type": "code",
   "execution_count": 60,
   "id": "f532568e",
   "metadata": {},
   "outputs": [
    {
     "data": {
      "application/vnd.plotly.v1+json": {
       "config": {
        "plotlyServerURL": "https://plot.ly"
       },
       "data": [
        {
         "colorbar": {
          "len": 1,
          "lenmode": "fraction",
          "tickfont": {
           "size": 14
          },
          "ticktext": [
           "<0.05",
           "0.05",
           ">0.05"
          ],
          "tickvals": [
           0.025,
           0.05,
           0.075
          ],
          "title": {
           "font": {
            "color": "black",
            "size": 18
           },
           "side": "right",
           "text": "adj. p-value"
          },
          "x": 1,
          "xanchor": "left",
          "y": 0.5,
          "yanchor": "middle"
         },
         "colorscale": [
          [
           0,
           "blue"
          ],
          [
           0.049999,
           "blue"
          ],
          [
           0.05,
           "white"
          ],
          [
           0.50001,
           "red"
          ],
          [
           1,
           "red"
          ]
         ],
         "showscale": true,
         "text": [
          [
           "0.001",
           "0.152",
           "0.942",
           "0.926",
           "<10<sup>-5</sup>",
           "<10<sup>-5</sup>",
           "<10<sup>-5</sup>",
           "<10<sup>-5</sup>",
           "<10<sup>-5</sup>",
           "0.001",
           "0.002",
           "0.478",
           "<10<sup>-3</sup>"
          ],
          [
           "<10<sup>-5</sup>",
           "<10<sup>-5</sup>",
           "<10<sup>-3</sup>",
           "0.758",
           "0.261",
           "0.999",
           "0.532",
           "0.999",
           "<10<sup>-5</sup>",
           "0.194",
           "0.995",
           "0.994",
           "0.014"
          ],
          [
           "0.286",
           "<10<sup>-5</sup>",
           "<10<sup>-5</sup>",
           "0.214",
           "<10<sup>-3</sup>",
           "0.003",
           "0.003",
           "0.074",
           "0.465",
           "0.429",
           "0.065",
           "0.286",
           "0.598"
          ],
          [
           "0.726",
           "0.942",
           "0.955",
           "<10<sup>-5</sup>",
           "0.915",
           "<10<sup>-3</sup>",
           "0.106",
           "0.012",
           "<10<sup>-5</sup>",
           "<10<sup>-3</sup>",
           "0.007",
           "0.641",
           "0.013"
          ],
          [
           "0.949",
           "0.337",
           "0.106",
           "0.835",
           "0.147",
           "0.012",
           "<10<sup>-3</sup>",
           "0.001",
           "0.942",
           "0.909",
           "0.718",
           "0.942",
           "0.261"
          ]
         ],
         "textfont": {
          "size": 14
         },
         "texttemplate": "%{text}",
         "type": "heatmap",
         "x": [
          "R69",
          "M75",
          "A78",
          "I159",
          "L202",
          "K204",
          "E206",
          "F207",
          "A254",
          "R255",
          "L258",
          "Q260",
          "A261"
         ],
         "xgap": 1,
         "y": [
          "State 0",
          "State 1",
          "State 2",
          "State 3",
          "State 4"
         ],
         "ygap": 1,
         "z": [
          [
           0.0012,
           0.15238,
           0.94156,
           0.92574,
           1e-05,
           1e-05,
           1e-05,
           1e-05,
           1e-05,
           0.00116,
           0.00183,
           0.47778,
           0.00016
          ],
          [
           1e-05,
           1e-05,
           0.00027,
           0.7578,
           0.26143,
           0.99942,
           0.53191,
           0.99942,
           1e-05,
           0.19417,
           0.99451,
           0.99416,
           0.01354
          ],
          [
           0.28567,
           1e-05,
           1e-05,
           0.21438,
           5e-05,
           0.00339,
           0.00339,
           0.07355,
           0.46479,
           0.42886,
           0.06504,
           0.28567,
           0.59825
          ],
          [
           0.7258,
           0.94156,
           0.95456,
           1e-05,
           0.91519,
           0.00013,
           0.10648,
           0.0116,
           1e-05,
           5e-05,
           0.0071,
           0.64089,
           0.01328
          ],
          [
           0.94854,
           0.33724,
           0.10648,
           0.83476,
           0.14745,
           0.0116,
           0.00036,
           0.0013,
           0.94156,
           0.90924,
           0.71756,
           0.94156,
           0.26143
          ]
         ],
         "zmax": 0.1,
         "zmin": 0
        }
       ],
       "layout": {
        "height": 500,
        "margin": {
         "b": 100,
         "l": 200,
         "r": 100,
         "t": 100
        },
        "shapes": [
         {
          "fillcolor": "rgba(0, 0, 0, 0)",
          "layer": "above",
          "line": {
           "color": "white",
           "width": 3
          },
          "type": "rect",
          "x0": -0.5,
          "x1": 0.5,
          "y0": -0.5,
          "y1": 0.5
         },
         {
          "fillcolor": "rgba(0, 0, 0, 0)",
          "layer": "above",
          "line": {
           "color": "white",
           "width": 3
          },
          "type": "rect",
          "x0": 3.5,
          "x1": 4.5,
          "y0": -0.5,
          "y1": 0.5
         },
         {
          "fillcolor": "rgba(0, 0, 0, 0)",
          "layer": "above",
          "line": {
           "color": "white",
           "width": 3
          },
          "type": "rect",
          "x0": 4.5,
          "x1": 5.5,
          "y0": -0.5,
          "y1": 0.5
         },
         {
          "fillcolor": "rgba(0, 0, 0, 0)",
          "layer": "above",
          "line": {
           "color": "white",
           "width": 3
          },
          "type": "rect",
          "x0": 5.5,
          "x1": 6.5,
          "y0": -0.5,
          "y1": 0.5
         },
         {
          "fillcolor": "rgba(0, 0, 0, 0)",
          "layer": "above",
          "line": {
           "color": "white",
           "width": 3
          },
          "type": "rect",
          "x0": 6.5,
          "x1": 7.5,
          "y0": -0.5,
          "y1": 0.5
         },
         {
          "fillcolor": "rgba(0, 0, 0, 0)",
          "layer": "above",
          "line": {
           "color": "white",
           "width": 3
          },
          "type": "rect",
          "x0": 7.5,
          "x1": 8.5,
          "y0": -0.5,
          "y1": 0.5
         },
         {
          "fillcolor": "rgba(0, 0, 0, 0)",
          "layer": "above",
          "line": {
           "color": "white",
           "width": 3
          },
          "type": "rect",
          "x0": 8.5,
          "x1": 9.5,
          "y0": -0.5,
          "y1": 0.5
         },
         {
          "fillcolor": "rgba(0, 0, 0, 0)",
          "layer": "above",
          "line": {
           "color": "white",
           "width": 3
          },
          "type": "rect",
          "x0": 9.5,
          "x1": 10.5,
          "y0": -0.5,
          "y1": 0.5
         },
         {
          "fillcolor": "rgba(0, 0, 0, 0)",
          "layer": "above",
          "line": {
           "color": "white",
           "width": 3
          },
          "type": "rect",
          "x0": 11.5,
          "x1": 12.5,
          "y0": -0.5,
          "y1": 0.5
         },
         {
          "fillcolor": "rgba(0, 0, 0, 0)",
          "layer": "above",
          "line": {
           "color": "white",
           "width": 3
          },
          "type": "rect",
          "x0": -0.5,
          "x1": 0.5,
          "y0": 0.5,
          "y1": 1.5
         },
         {
          "fillcolor": "rgba(0, 0, 0, 0)",
          "layer": "above",
          "line": {
           "color": "white",
           "width": 3
          },
          "type": "rect",
          "x0": 0.5,
          "x1": 1.5,
          "y0": 0.5,
          "y1": 1.5
         },
         {
          "fillcolor": "rgba(0, 0, 0, 0)",
          "layer": "above",
          "line": {
           "color": "white",
           "width": 3
          },
          "type": "rect",
          "x0": 1.5,
          "x1": 2.5,
          "y0": 0.5,
          "y1": 1.5
         },
         {
          "fillcolor": "rgba(0, 0, 0, 0)",
          "layer": "above",
          "line": {
           "color": "white",
           "width": 3
          },
          "type": "rect",
          "x0": 7.5,
          "x1": 8.5,
          "y0": 0.5,
          "y1": 1.5
         },
         {
          "fillcolor": "rgba(0, 0, 0, 0)",
          "layer": "above",
          "line": {
           "color": "white",
           "width": 3
          },
          "type": "rect",
          "x0": 11.5,
          "x1": 12.5,
          "y0": 0.5,
          "y1": 1.5
         },
         {
          "fillcolor": "rgba(0, 0, 0, 0)",
          "layer": "above",
          "line": {
           "color": "white",
           "width": 3
          },
          "type": "rect",
          "x0": 0.5,
          "x1": 1.5,
          "y0": 1.5,
          "y1": 2.5
         },
         {
          "fillcolor": "rgba(0, 0, 0, 0)",
          "layer": "above",
          "line": {
           "color": "white",
           "width": 3
          },
          "type": "rect",
          "x0": 1.5,
          "x1": 2.5,
          "y0": 1.5,
          "y1": 2.5
         },
         {
          "fillcolor": "rgba(0, 0, 0, 0)",
          "layer": "above",
          "line": {
           "color": "white",
           "width": 3
          },
          "type": "rect",
          "x0": 3.5,
          "x1": 4.5,
          "y0": 1.5,
          "y1": 2.5
         },
         {
          "fillcolor": "rgba(0, 0, 0, 0)",
          "layer": "above",
          "line": {
           "color": "white",
           "width": 3
          },
          "type": "rect",
          "x0": 4.5,
          "x1": 5.5,
          "y0": 1.5,
          "y1": 2.5
         },
         {
          "fillcolor": "rgba(0, 0, 0, 0)",
          "layer": "above",
          "line": {
           "color": "white",
           "width": 3
          },
          "type": "rect",
          "x0": 5.5,
          "x1": 6.5,
          "y0": 1.5,
          "y1": 2.5
         },
         {
          "fillcolor": "rgba(0, 0, 0, 0)",
          "layer": "above",
          "line": {
           "color": "white",
           "width": 3
          },
          "type": "rect",
          "x0": 2.5,
          "x1": 3.5,
          "y0": 2.5,
          "y1": 3.5
         },
         {
          "fillcolor": "rgba(0, 0, 0, 0)",
          "layer": "above",
          "line": {
           "color": "white",
           "width": 3
          },
          "type": "rect",
          "x0": 4.5,
          "x1": 5.5,
          "y0": 2.5,
          "y1": 3.5
         },
         {
          "fillcolor": "rgba(0, 0, 0, 0)",
          "layer": "above",
          "line": {
           "color": "white",
           "width": 3
          },
          "type": "rect",
          "x0": 6.5,
          "x1": 7.5,
          "y0": 2.5,
          "y1": 3.5
         },
         {
          "fillcolor": "rgba(0, 0, 0, 0)",
          "layer": "above",
          "line": {
           "color": "white",
           "width": 3
          },
          "type": "rect",
          "x0": 7.5,
          "x1": 8.5,
          "y0": 2.5,
          "y1": 3.5
         },
         {
          "fillcolor": "rgba(0, 0, 0, 0)",
          "layer": "above",
          "line": {
           "color": "white",
           "width": 3
          },
          "type": "rect",
          "x0": 8.5,
          "x1": 9.5,
          "y0": 2.5,
          "y1": 3.5
         },
         {
          "fillcolor": "rgba(0, 0, 0, 0)",
          "layer": "above",
          "line": {
           "color": "white",
           "width": 3
          },
          "type": "rect",
          "x0": 9.5,
          "x1": 10.5,
          "y0": 2.5,
          "y1": 3.5
         },
         {
          "fillcolor": "rgba(0, 0, 0, 0)",
          "layer": "above",
          "line": {
           "color": "white",
           "width": 3
          },
          "type": "rect",
          "x0": 11.5,
          "x1": 12.5,
          "y0": 2.5,
          "y1": 3.5
         },
         {
          "fillcolor": "rgba(0, 0, 0, 0)",
          "layer": "above",
          "line": {
           "color": "white",
           "width": 3
          },
          "type": "rect",
          "x0": 4.5,
          "x1": 5.5,
          "y0": 3.5,
          "y1": 4.5
         },
         {
          "fillcolor": "rgba(0, 0, 0, 0)",
          "layer": "above",
          "line": {
           "color": "white",
           "width": 3
          },
          "type": "rect",
          "x0": 5.5,
          "x1": 6.5,
          "y0": 3.5,
          "y1": 4.5
         },
         {
          "fillcolor": "rgba(0, 0, 0, 0)",
          "layer": "above",
          "line": {
           "color": "white",
           "width": 3
          },
          "type": "rect",
          "x0": 6.5,
          "x1": 7.5,
          "y0": 3.5,
          "y1": 4.5
         }
        ],
        "template": {
         "data": {
          "bar": [
           {
            "error_x": {
             "color": "#2a3f5f"
            },
            "error_y": {
             "color": "#2a3f5f"
            },
            "marker": {
             "line": {
              "color": "#E5ECF6",
              "width": 0.5
             },
             "pattern": {
              "fillmode": "overlay",
              "size": 10,
              "solidity": 0.2
             }
            },
            "type": "bar"
           }
          ],
          "barpolar": [
           {
            "marker": {
             "line": {
              "color": "#E5ECF6",
              "width": 0.5
             },
             "pattern": {
              "fillmode": "overlay",
              "size": 10,
              "solidity": 0.2
             }
            },
            "type": "barpolar"
           }
          ],
          "carpet": [
           {
            "aaxis": {
             "endlinecolor": "#2a3f5f",
             "gridcolor": "white",
             "linecolor": "white",
             "minorgridcolor": "white",
             "startlinecolor": "#2a3f5f"
            },
            "baxis": {
             "endlinecolor": "#2a3f5f",
             "gridcolor": "white",
             "linecolor": "white",
             "minorgridcolor": "white",
             "startlinecolor": "#2a3f5f"
            },
            "type": "carpet"
           }
          ],
          "choropleth": [
           {
            "colorbar": {
             "outlinewidth": 0,
             "ticks": ""
            },
            "type": "choropleth"
           }
          ],
          "contour": [
           {
            "colorbar": {
             "outlinewidth": 0,
             "ticks": ""
            },
            "colorscale": [
             [
              0,
              "#0d0887"
             ],
             [
              0.1111111111111111,
              "#46039f"
             ],
             [
              0.2222222222222222,
              "#7201a8"
             ],
             [
              0.3333333333333333,
              "#9c179e"
             ],
             [
              0.4444444444444444,
              "#bd3786"
             ],
             [
              0.5555555555555556,
              "#d8576b"
             ],
             [
              0.6666666666666666,
              "#ed7953"
             ],
             [
              0.7777777777777778,
              "#fb9f3a"
             ],
             [
              0.8888888888888888,
              "#fdca26"
             ],
             [
              1,
              "#f0f921"
             ]
            ],
            "type": "contour"
           }
          ],
          "contourcarpet": [
           {
            "colorbar": {
             "outlinewidth": 0,
             "ticks": ""
            },
            "type": "contourcarpet"
           }
          ],
          "heatmap": [
           {
            "colorbar": {
             "outlinewidth": 0,
             "ticks": ""
            },
            "colorscale": [
             [
              0,
              "#0d0887"
             ],
             [
              0.1111111111111111,
              "#46039f"
             ],
             [
              0.2222222222222222,
              "#7201a8"
             ],
             [
              0.3333333333333333,
              "#9c179e"
             ],
             [
              0.4444444444444444,
              "#bd3786"
             ],
             [
              0.5555555555555556,
              "#d8576b"
             ],
             [
              0.6666666666666666,
              "#ed7953"
             ],
             [
              0.7777777777777778,
              "#fb9f3a"
             ],
             [
              0.8888888888888888,
              "#fdca26"
             ],
             [
              1,
              "#f0f921"
             ]
            ],
            "type": "heatmap"
           }
          ],
          "heatmapgl": [
           {
            "colorbar": {
             "outlinewidth": 0,
             "ticks": ""
            },
            "colorscale": [
             [
              0,
              "#0d0887"
             ],
             [
              0.1111111111111111,
              "#46039f"
             ],
             [
              0.2222222222222222,
              "#7201a8"
             ],
             [
              0.3333333333333333,
              "#9c179e"
             ],
             [
              0.4444444444444444,
              "#bd3786"
             ],
             [
              0.5555555555555556,
              "#d8576b"
             ],
             [
              0.6666666666666666,
              "#ed7953"
             ],
             [
              0.7777777777777778,
              "#fb9f3a"
             ],
             [
              0.8888888888888888,
              "#fdca26"
             ],
             [
              1,
              "#f0f921"
             ]
            ],
            "type": "heatmapgl"
           }
          ],
          "histogram": [
           {
            "marker": {
             "pattern": {
              "fillmode": "overlay",
              "size": 10,
              "solidity": 0.2
             }
            },
            "type": "histogram"
           }
          ],
          "histogram2d": [
           {
            "colorbar": {
             "outlinewidth": 0,
             "ticks": ""
            },
            "colorscale": [
             [
              0,
              "#0d0887"
             ],
             [
              0.1111111111111111,
              "#46039f"
             ],
             [
              0.2222222222222222,
              "#7201a8"
             ],
             [
              0.3333333333333333,
              "#9c179e"
             ],
             [
              0.4444444444444444,
              "#bd3786"
             ],
             [
              0.5555555555555556,
              "#d8576b"
             ],
             [
              0.6666666666666666,
              "#ed7953"
             ],
             [
              0.7777777777777778,
              "#fb9f3a"
             ],
             [
              0.8888888888888888,
              "#fdca26"
             ],
             [
              1,
              "#f0f921"
             ]
            ],
            "type": "histogram2d"
           }
          ],
          "histogram2dcontour": [
           {
            "colorbar": {
             "outlinewidth": 0,
             "ticks": ""
            },
            "colorscale": [
             [
              0,
              "#0d0887"
             ],
             [
              0.1111111111111111,
              "#46039f"
             ],
             [
              0.2222222222222222,
              "#7201a8"
             ],
             [
              0.3333333333333333,
              "#9c179e"
             ],
             [
              0.4444444444444444,
              "#bd3786"
             ],
             [
              0.5555555555555556,
              "#d8576b"
             ],
             [
              0.6666666666666666,
              "#ed7953"
             ],
             [
              0.7777777777777778,
              "#fb9f3a"
             ],
             [
              0.8888888888888888,
              "#fdca26"
             ],
             [
              1,
              "#f0f921"
             ]
            ],
            "type": "histogram2dcontour"
           }
          ],
          "mesh3d": [
           {
            "colorbar": {
             "outlinewidth": 0,
             "ticks": ""
            },
            "type": "mesh3d"
           }
          ],
          "parcoords": [
           {
            "line": {
             "colorbar": {
              "outlinewidth": 0,
              "ticks": ""
             }
            },
            "type": "parcoords"
           }
          ],
          "pie": [
           {
            "automargin": true,
            "type": "pie"
           }
          ],
          "scatter": [
           {
            "fillpattern": {
             "fillmode": "overlay",
             "size": 10,
             "solidity": 0.2
            },
            "type": "scatter"
           }
          ],
          "scatter3d": [
           {
            "line": {
             "colorbar": {
              "outlinewidth": 0,
              "ticks": ""
             }
            },
            "marker": {
             "colorbar": {
              "outlinewidth": 0,
              "ticks": ""
             }
            },
            "type": "scatter3d"
           }
          ],
          "scattercarpet": [
           {
            "marker": {
             "colorbar": {
              "outlinewidth": 0,
              "ticks": ""
             }
            },
            "type": "scattercarpet"
           }
          ],
          "scattergeo": [
           {
            "marker": {
             "colorbar": {
              "outlinewidth": 0,
              "ticks": ""
             }
            },
            "type": "scattergeo"
           }
          ],
          "scattergl": [
           {
            "marker": {
             "colorbar": {
              "outlinewidth": 0,
              "ticks": ""
             }
            },
            "type": "scattergl"
           }
          ],
          "scattermapbox": [
           {
            "marker": {
             "colorbar": {
              "outlinewidth": 0,
              "ticks": ""
             }
            },
            "type": "scattermapbox"
           }
          ],
          "scatterpolar": [
           {
            "marker": {
             "colorbar": {
              "outlinewidth": 0,
              "ticks": ""
             }
            },
            "type": "scatterpolar"
           }
          ],
          "scatterpolargl": [
           {
            "marker": {
             "colorbar": {
              "outlinewidth": 0,
              "ticks": ""
             }
            },
            "type": "scatterpolargl"
           }
          ],
          "scatterternary": [
           {
            "marker": {
             "colorbar": {
              "outlinewidth": 0,
              "ticks": ""
             }
            },
            "type": "scatterternary"
           }
          ],
          "surface": [
           {
            "colorbar": {
             "outlinewidth": 0,
             "ticks": ""
            },
            "colorscale": [
             [
              0,
              "#0d0887"
             ],
             [
              0.1111111111111111,
              "#46039f"
             ],
             [
              0.2222222222222222,
              "#7201a8"
             ],
             [
              0.3333333333333333,
              "#9c179e"
             ],
             [
              0.4444444444444444,
              "#bd3786"
             ],
             [
              0.5555555555555556,
              "#d8576b"
             ],
             [
              0.6666666666666666,
              "#ed7953"
             ],
             [
              0.7777777777777778,
              "#fb9f3a"
             ],
             [
              0.8888888888888888,
              "#fdca26"
             ],
             [
              1,
              "#f0f921"
             ]
            ],
            "type": "surface"
           }
          ],
          "table": [
           {
            "cells": {
             "fill": {
              "color": "#EBF0F8"
             },
             "line": {
              "color": "white"
             }
            },
            "header": {
             "fill": {
              "color": "#C8D4E3"
             },
             "line": {
              "color": "white"
             }
            },
            "type": "table"
           }
          ]
         },
         "layout": {
          "annotationdefaults": {
           "arrowcolor": "#2a3f5f",
           "arrowhead": 0,
           "arrowwidth": 1
          },
          "autotypenumbers": "strict",
          "coloraxis": {
           "colorbar": {
            "outlinewidth": 0,
            "ticks": ""
           }
          },
          "colorscale": {
           "diverging": [
            [
             0,
             "#8e0152"
            ],
            [
             0.1,
             "#c51b7d"
            ],
            [
             0.2,
             "#de77ae"
            ],
            [
             0.3,
             "#f1b6da"
            ],
            [
             0.4,
             "#fde0ef"
            ],
            [
             0.5,
             "#f7f7f7"
            ],
            [
             0.6,
             "#e6f5d0"
            ],
            [
             0.7,
             "#b8e186"
            ],
            [
             0.8,
             "#7fbc41"
            ],
            [
             0.9,
             "#4d9221"
            ],
            [
             1,
             "#276419"
            ]
           ],
           "sequential": [
            [
             0,
             "#0d0887"
            ],
            [
             0.1111111111111111,
             "#46039f"
            ],
            [
             0.2222222222222222,
             "#7201a8"
            ],
            [
             0.3333333333333333,
             "#9c179e"
            ],
            [
             0.4444444444444444,
             "#bd3786"
            ],
            [
             0.5555555555555556,
             "#d8576b"
            ],
            [
             0.6666666666666666,
             "#ed7953"
            ],
            [
             0.7777777777777778,
             "#fb9f3a"
            ],
            [
             0.8888888888888888,
             "#fdca26"
            ],
            [
             1,
             "#f0f921"
            ]
           ],
           "sequentialminus": [
            [
             0,
             "#0d0887"
            ],
            [
             0.1111111111111111,
             "#46039f"
            ],
            [
             0.2222222222222222,
             "#7201a8"
            ],
            [
             0.3333333333333333,
             "#9c179e"
            ],
            [
             0.4444444444444444,
             "#bd3786"
            ],
            [
             0.5555555555555556,
             "#d8576b"
            ],
            [
             0.6666666666666666,
             "#ed7953"
            ],
            [
             0.7777777777777778,
             "#fb9f3a"
            ],
            [
             0.8888888888888888,
             "#fdca26"
            ],
            [
             1,
             "#f0f921"
            ]
           ]
          },
          "colorway": [
           "#636efa",
           "#EF553B",
           "#00cc96",
           "#ab63fa",
           "#FFA15A",
           "#19d3f3",
           "#FF6692",
           "#B6E880",
           "#FF97FF",
           "#FECB52"
          ],
          "font": {
           "color": "#2a3f5f"
          },
          "geo": {
           "bgcolor": "white",
           "lakecolor": "white",
           "landcolor": "#E5ECF6",
           "showlakes": true,
           "showland": true,
           "subunitcolor": "white"
          },
          "hoverlabel": {
           "align": "left"
          },
          "hovermode": "closest",
          "mapbox": {
           "style": "light"
          },
          "paper_bgcolor": "white",
          "plot_bgcolor": "#E5ECF6",
          "polar": {
           "angularaxis": {
            "gridcolor": "white",
            "linecolor": "white",
            "ticks": ""
           },
           "bgcolor": "#E5ECF6",
           "radialaxis": {
            "gridcolor": "white",
            "linecolor": "white",
            "ticks": ""
           }
          },
          "scene": {
           "xaxis": {
            "backgroundcolor": "#E5ECF6",
            "gridcolor": "white",
            "gridwidth": 2,
            "linecolor": "white",
            "showbackground": true,
            "ticks": "",
            "zerolinecolor": "white"
           },
           "yaxis": {
            "backgroundcolor": "#E5ECF6",
            "gridcolor": "white",
            "gridwidth": 2,
            "linecolor": "white",
            "showbackground": true,
            "ticks": "",
            "zerolinecolor": "white"
           },
           "zaxis": {
            "backgroundcolor": "#E5ECF6",
            "gridcolor": "white",
            "gridwidth": 2,
            "linecolor": "white",
            "showbackground": true,
            "ticks": "",
            "zerolinecolor": "white"
           }
          },
          "shapedefaults": {
           "line": {
            "color": "#2a3f5f"
           }
          },
          "ternary": {
           "aaxis": {
            "gridcolor": "white",
            "linecolor": "white",
            "ticks": ""
           },
           "baxis": {
            "gridcolor": "white",
            "linecolor": "white",
            "ticks": ""
           },
           "bgcolor": "#E5ECF6",
           "caxis": {
            "gridcolor": "white",
            "linecolor": "white",
            "ticks": ""
           }
          },
          "title": {
           "x": 0.05
          },
          "xaxis": {
           "automargin": true,
           "gridcolor": "white",
           "linecolor": "white",
           "ticks": "",
           "title": {
            "standoff": 15
           },
           "zerolinecolor": "white",
           "zerolinewidth": 2
          },
          "yaxis": {
           "automargin": true,
           "gridcolor": "white",
           "linecolor": "white",
           "ticks": "",
           "title": {
            "standoff": 15
           },
           "zerolinecolor": "white",
           "zerolinewidth": 2
          }
         }
        },
        "width": 1700,
        "xaxis": {
         "autorange": true,
         "range": [
          -0.514171511627907,
          12.514171511627907
         ],
         "tickangle": -45,
         "tickfont": {
          "color": "black",
          "size": 18,
          "weight": "bold"
         },
         "tickmode": "array",
         "ticktext": [
          "R69",
          "M75",
          "A78",
          "I159",
          "L202",
          "K204",
          "E206",
          "F207",
          "A254",
          "R255",
          "L258",
          "Q260",
          "A261"
         ],
         "tickvals": [
          "R69",
          "M75",
          "A78",
          "I159",
          "L202",
          "K204",
          "E206",
          "F207",
          "A254",
          "R255",
          "L258",
          "Q260",
          "A261"
         ],
         "title": {
          "font": {
           "color": "black",
           "size": 24,
           "weight": "bold"
          },
          "text": "Cutsite"
         },
         "type": "category"
        },
        "yaxis": {
         "automargin": true,
         "autorange": true,
         "linecolor": "rgba(0, 0, 0, 0)",
         "range": [
          -0.5253378378378378,
          4.525337837837838
         ],
         "side": "left",
         "tickcolor": "rgba(0, 0, 0, 0)",
         "tickfont": {
          "color": "black",
          "size": 18,
          "weight": "bold"
         },
         "ticklabelposition": "outside",
         "ticklen": 20,
         "ticks": "outside",
         "tickson": "boundaries",
         "tickwidth": 2,
         "title": {
          "font": {
           "color": "black",
           "size": 24,
           "weight": "bold"
          },
          "text": "State"
         },
         "type": "category"
        }
       }
      },
      "image/png": "[encoded data removed]",
      "text/html": [
       "<div>                            <div id=\"df60b2c4-2d36-4c50-b89e-0479ae386fbf\" class=\"plotly-graph-div\" style=\"height:500px; width:1700px;\"></div>            <script type=\"text/javascript\">                require([\"plotly\"], function(Plotly) {                    window.PLOTLYENV=window.PLOTLYENV || {};                                    if (document.getElementById(\"df60b2c4-2d36-4c50-b89e-0479ae386fbf\")) {                    Plotly.newPlot(                        \"df60b2c4-2d36-4c50-b89e-0479ae386fbf\",                        [{\"colorbar\":{\"len\":1.0,\"lenmode\":\"fraction\",\"tickfont\":{\"size\":14},\"ticktext\":[\"\\u003c0.05\",\"0.05\",\"\\u003e0.05\"],\"tickvals\":[0.025,0.05,0.075],\"title\":{\"font\":{\"color\":\"black\",\"size\":18},\"side\":\"right\",\"text\":\"adj. p-value\"},\"x\":1.0,\"xanchor\":\"left\",\"y\":0.5,\"yanchor\":\"middle\"},\"colorscale\":[[0,\"blue\"],[0.049999,\"blue\"],[0.05,\"white\"],[0.50001,\"red\"],[1,\"red\"]],\"showscale\":true,\"text\":[[\"0.001\",\"0.152\",\"0.942\",\"0.926\",\"\\u003c10\\u003csup\\u003e-5\\u003c\\u002fsup\\u003e\",\"\\u003c10\\u003csup\\u003e-5\\u003c\\u002fsup\\u003e\",\"\\u003c10\\u003csup\\u003e-5\\u003c\\u002fsup\\u003e\",\"\\u003c10\\u003csup\\u003e-5\\u003c\\u002fsup\\u003e\",\"\\u003c10\\u003csup\\u003e-5\\u003c\\u002fsup\\u003e\",\"0.001\",\"0.002\",\"0.478\",\"\\u003c10\\u003csup\\u003e-3\\u003c\\u002fsup\\u003e\"],[\"\\u003c10\\u003csup\\u003e-5\\u003c\\u002fsup\\u003e\",\"\\u003c10\\u003csup\\u003e-5\\u003c\\u002fsup\\u003e\",\"\\u003c10\\u003csup\\u003e-3\\u003c\\u002fsup\\u003e\",\"0.758\",\"0.261\",\"0.999\",\"0.532\",\"0.999\",\"\\u003c10\\u003csup\\u003e-5\\u003c\\u002fsup\\u003e\",\"0.194\",\"0.995\",\"0.994\",\"0.014\"],[\"0.286\",\"\\u003c10\\u003csup\\u003e-5\\u003c\\u002fsup\\u003e\",\"\\u003c10\\u003csup\\u003e-5\\u003c\\u002fsup\\u003e\",\"0.214\",\"\\u003c10\\u003csup\\u003e-3\\u003c\\u002fsup\\u003e\",\"0.003\",\"0.003\",\"0.074\",\"0.465\",\"0.429\",\"0.065\",\"0.286\",\"0.598\"],[\"0.726\",\"0.942\",\"0.955\",\"\\u003c10\\u003csup\\u003e-5\\u003c\\u002fsup\\u003e\",\"0.915\",\"\\u003c10\\u003csup\\u003e-3\\u003c\\u002fsup\\u003e\",\"0.106\",\"0.012\",\"\\u003c10\\u003csup\\u003e-5\\u003c\\u002fsup\\u003e\",\"\\u003c10\\u003csup\\u003e-3\\u003c\\u002fsup\\u003e\",\"0.007\",\"0.641\",\"0.013\"],[\"0.949\",\"0.337\",\"0.106\",\"0.835\",\"0.147\",\"0.012\",\"\\u003c10\\u003csup\\u003e-3\\u003c\\u002fsup\\u003e\",\"0.001\",\"0.942\",\"0.909\",\"0.718\",\"0.942\",\"0.261\"]],\"textfont\":{\"size\":14},\"texttemplate\":\"%{text}\",\"x\":[\"R69\",\"M75\",\"A78\",\"I159\",\"L202\",\"K204\",\"E206\",\"F207\",\"A254\",\"R255\",\"L258\",\"Q260\",\"A261\"],\"xgap\":1,\"y\":[\"State 0\",\"State 1\",\"State 2\",\"State 3\",\"State 4\"],\"ygap\":1,\"z\":[[0.0012,0.15238,0.94156,0.92574,1e-05,1e-05,1e-05,1e-05,1e-05,0.00116,0.00183,0.47778,0.00016],[1e-05,1e-05,0.00027,0.7578,0.26143,0.99942,0.53191,0.99942,1e-05,0.19417,0.99451,0.99416,0.01354],[0.28567,1e-05,1e-05,0.21438,5e-05,0.00339,0.00339,0.07355,0.46479,0.42886,0.06504,0.28567,0.59825],[0.7258,0.94156,0.95456,1e-05,0.91519,0.00013,0.10648,0.0116,1e-05,5e-05,0.0071,0.64089,0.01328],[0.94854,0.33724,0.10648,0.83476,0.14745,0.0116,0.00036,0.0013,0.94156,0.90924,0.71756,0.94156,0.26143]],\"zmax\":0.1,\"zmin\":0,\"type\":\"heatmap\"}],                        {\"template\":{\"data\":{\"histogram2dcontour\":[{\"type\":\"histogram2dcontour\",\"colorbar\":{\"outlinewidth\":0,\"ticks\":\"\"},\"colorscale\":[[0.0,\"#0d0887\"],[0.1111111111111111,\"#46039f\"],[0.2222222222222222,\"#7201a8\"],[0.3333333333333333,\"#9c179e\"],[0.4444444444444444,\"#bd3786\"],[0.5555555555555556,\"#d8576b\"],[0.6666666666666666,\"#ed7953\"],[0.7777777777777778,\"#fb9f3a\"],[0.8888888888888888,\"#fdca26\"],[1.0,\"#f0f921\"]]}],\"choropleth\":[{\"type\":\"choropleth\",\"colorbar\":{\"outlinewidth\":0,\"ticks\":\"\"}}],\"histogram2d\":[{\"type\":\"histogram2d\",\"colorbar\":{\"outlinewidth\":0,\"ticks\":\"\"},\"colorscale\":[[0.0,\"#0d0887\"],[0.1111111111111111,\"#46039f\"],[0.2222222222222222,\"#7201a8\"],[0.3333333333333333,\"#9c179e\"],[0.4444444444444444,\"#bd3786\"],[0.5555555555555556,\"#d8576b\"],[0.6666666666666666,\"#ed7953\"],[0.7777777777777778,\"#fb9f3a\"],[0.8888888888888888,\"#fdca26\"],[1.0,\"#f0f921\"]]}],\"heatmap\":[{\"type\":\"heatmap\",\"colorbar\":{\"outlinewidth\":0,\"ticks\":\"\"},\"colorscale\":[[0.0,\"#0d0887\"],[0.1111111111111111,\"#46039f\"],[0.2222222222222222,\"#7201a8\"],[0.3333333333333333,\"#9c179e\"],[0.4444444444444444,\"#bd3786\"],[0.5555555555555556,\"#d8576b\"],[0.6666666666666666,\"#ed7953\"],[0.7777777777777778,\"#fb9f3a\"],[0.8888888888888888,\"#fdca26\"],[1.0,\"#f0f921\"]]}],\"heatmapgl\":[{\"type\":\"heatmapgl\",\"colorbar\":{\"outlinewidth\":0,\"ticks\":\"\"},\"colorscale\":[[0.0,\"#0d0887\"],[0.1111111111111111,\"#46039f\"],[0.2222222222222222,\"#7201a8\"],[0.3333333333333333,\"#9c179e\"],[0.4444444444444444,\"#bd3786\"],[0.5555555555555556,\"#d8576b\"],[0.6666666666666666,\"#ed7953\"],[0.7777777777777778,\"#fb9f3a\"],[0.8888888888888888,\"#fdca26\"],[1.0,\"#f0f921\"]]}],\"contourcarpet\":[{\"type\":\"contourcarpet\",\"colorbar\":{\"outlinewidth\":0,\"ticks\":\"\"}}],\"contour\":[{\"type\":\"contour\",\"colorbar\":{\"outlinewidth\":0,\"ticks\":\"\"},\"colorscale\":[[0.0,\"#0d0887\"],[0.1111111111111111,\"#46039f\"],[0.2222222222222222,\"#7201a8\"],[0.3333333333333333,\"#9c179e\"],[0.4444444444444444,\"#bd3786\"],[0.5555555555555556,\"#d8576b\"],[0.6666666666666666,\"#ed7953\"],[0.7777777777777778,\"#fb9f3a\"],[0.8888888888888888,\"#fdca26\"],[1.0,\"#f0f921\"]]}],\"surface\":[{\"type\":\"surface\",\"colorbar\":{\"outlinewidth\":0,\"ticks\":\"\"},\"colorscale\":[[0.0,\"#0d0887\"],[0.1111111111111111,\"#46039f\"],[0.2222222222222222,\"#7201a8\"],[0.3333333333333333,\"#9c179e\"],[0.4444444444444444,\"#bd3786\"],[0.5555555555555556,\"#d8576b\"],[0.6666666666666666,\"#ed7953\"],[0.7777777777777778,\"#fb9f3a\"],[0.8888888888888888,\"#fdca26\"],[1.0,\"#f0f921\"]]}],\"mesh3d\":[{\"type\":\"mesh3d\",\"colorbar\":{\"outlinewidth\":0,\"ticks\":\"\"}}],\"scatter\":[{\"fillpattern\":{\"fillmode\":\"overlay\",\"size\":10,\"solidity\":0.2},\"type\":\"scatter\"}],\"parcoords\":[{\"type\":\"parcoords\",\"line\":{\"colorbar\":{\"outlinewidth\":0,\"ticks\":\"\"}}}],\"scatterpolargl\":[{\"type\":\"scatterpolargl\",\"marker\":{\"colorbar\":{\"outlinewidth\":0,\"ticks\":\"\"}}}],\"bar\":[{\"error_x\":{\"color\":\"#2a3f5f\"},\"error_y\":{\"color\":\"#2a3f5f\"},\"marker\":{\"line\":{\"color\":\"#E5ECF6\",\"width\":0.5},\"pattern\":{\"fillmode\":\"overlay\",\"size\":10,\"solidity\":0.2}},\"type\":\"bar\"}],\"scattergeo\":[{\"type\":\"scattergeo\",\"marker\":{\"colorbar\":{\"outlinewidth\":0,\"ticks\":\"\"}}}],\"scatterpolar\":[{\"type\":\"scatterpolar\",\"marker\":{\"colorbar\":{\"outlinewidth\":0,\"ticks\":\"\"}}}],\"histogram\":[{\"marker\":{\"pattern\":{\"fillmode\":\"overlay\",\"size\":10,\"solidity\":0.2}},\"type\":\"histogram\"}],\"scattergl\":[{\"type\":\"scattergl\",\"marker\":{\"colorbar\":{\"outlinewidth\":0,\"ticks\":\"\"}}}],\"scatter3d\":[{\"type\":\"scatter3d\",\"line\":{\"colorbar\":{\"outlinewidth\":0,\"ticks\":\"\"}},\"marker\":{\"colorbar\":{\"outlinewidth\":0,\"ticks\":\"\"}}}],\"scattermapbox\":[{\"type\":\"scattermapbox\",\"marker\":{\"colorbar\":{\"outlinewidth\":0,\"ticks\":\"\"}}}],\"scatterternary\":[{\"type\":\"scatterternary\",\"marker\":{\"colorbar\":{\"outlinewidth\":0,\"ticks\":\"\"}}}],\"scattercarpet\":[{\"type\":\"scattercarpet\",\"marker\":{\"colorbar\":{\"outlinewidth\":0,\"ticks\":\"\"}}}],\"carpet\":[{\"aaxis\":{\"endlinecolor\":\"#2a3f5f\",\"gridcolor\":\"white\",\"linecolor\":\"white\",\"minorgridcolor\":\"white\",\"startlinecolor\":\"#2a3f5f\"},\"baxis\":{\"endlinecolor\":\"#2a3f5f\",\"gridcolor\":\"white\",\"linecolor\":\"white\",\"minorgridcolor\":\"white\",\"startlinecolor\":\"#2a3f5f\"},\"type\":\"carpet\"}],\"table\":[{\"cells\":{\"fill\":{\"color\":\"#EBF0F8\"},\"line\":{\"color\":\"white\"}},\"header\":{\"fill\":{\"color\":\"#C8D4E3\"},\"line\":{\"color\":\"white\"}},\"type\":\"table\"}],\"barpolar\":[{\"marker\":{\"line\":{\"color\":\"#E5ECF6\",\"width\":0.5},\"pattern\":{\"fillmode\":\"overlay\",\"size\":10,\"solidity\":0.2}},\"type\":\"barpolar\"}],\"pie\":[{\"automargin\":true,\"type\":\"pie\"}]},\"layout\":{\"autotypenumbers\":\"strict\",\"colorway\":[\"#636efa\",\"#EF553B\",\"#00cc96\",\"#ab63fa\",\"#FFA15A\",\"#19d3f3\",\"#FF6692\",\"#B6E880\",\"#FF97FF\",\"#FECB52\"],\"font\":{\"color\":\"#2a3f5f\"},\"hovermode\":\"closest\",\"hoverlabel\":{\"align\":\"left\"},\"paper_bgcolor\":\"white\",\"plot_bgcolor\":\"#E5ECF6\",\"polar\":{\"bgcolor\":\"#E5ECF6\",\"angularaxis\":{\"gridcolor\":\"white\",\"linecolor\":\"white\",\"ticks\":\"\"},\"radialaxis\":{\"gridcolor\":\"white\",\"linecolor\":\"white\",\"ticks\":\"\"}},\"ternary\":{\"bgcolor\":\"#E5ECF6\",\"aaxis\":{\"gridcolor\":\"white\",\"linecolor\":\"white\",\"ticks\":\"\"},\"baxis\":{\"gridcolor\":\"white\",\"linecolor\":\"white\",\"ticks\":\"\"},\"caxis\":{\"gridcolor\":\"white\",\"linecolor\":\"white\",\"ticks\":\"\"}},\"coloraxis\":{\"colorbar\":{\"outlinewidth\":0,\"ticks\":\"\"}},\"colorscale\":{\"sequential\":[[0.0,\"#0d0887\"],[0.1111111111111111,\"#46039f\"],[0.2222222222222222,\"#7201a8\"],[0.3333333333333333,\"#9c179e\"],[0.4444444444444444,\"#bd3786\"],[0.5555555555555556,\"#d8576b\"],[0.6666666666666666,\"#ed7953\"],[0.7777777777777778,\"#fb9f3a\"],[0.8888888888888888,\"#fdca26\"],[1.0,\"#f0f921\"]],\"sequentialminus\":[[0.0,\"#0d0887\"],[0.1111111111111111,\"#46039f\"],[0.2222222222222222,\"#7201a8\"],[0.3333333333333333,\"#9c179e\"],[0.4444444444444444,\"#bd3786\"],[0.5555555555555556,\"#d8576b\"],[0.6666666666666666,\"#ed7953\"],[0.7777777777777778,\"#fb9f3a\"],[0.8888888888888888,\"#fdca26\"],[1.0,\"#f0f921\"]],\"diverging\":[[0,\"#8e0152\"],[0.1,\"#c51b7d\"],[0.2,\"#de77ae\"],[0.3,\"#f1b6da\"],[0.4,\"#fde0ef\"],[0.5,\"#f7f7f7\"],[0.6,\"#e6f5d0\"],[0.7,\"#b8e186\"],[0.8,\"#7fbc41\"],[0.9,\"#4d9221\"],[1,\"#276419\"]]},\"xaxis\":{\"gridcolor\":\"white\",\"linecolor\":\"white\",\"ticks\":\"\",\"title\":{\"standoff\":15},\"zerolinecolor\":\"white\",\"automargin\":true,\"zerolinewidth\":2},\"yaxis\":{\"gridcolor\":\"white\",\"linecolor\":\"white\",\"ticks\":\"\",\"title\":{\"standoff\":15},\"zerolinecolor\":\"white\",\"automargin\":true,\"zerolinewidth\":2},\"scene\":{\"xaxis\":{\"backgroundcolor\":\"#E5ECF6\",\"gridcolor\":\"white\",\"linecolor\":\"white\",\"showbackground\":true,\"ticks\":\"\",\"zerolinecolor\":\"white\",\"gridwidth\":2},\"yaxis\":{\"backgroundcolor\":\"#E5ECF6\",\"gridcolor\":\"white\",\"linecolor\":\"white\",\"showbackground\":true,\"ticks\":\"\",\"zerolinecolor\":\"white\",\"gridwidth\":2},\"zaxis\":{\"backgroundcolor\":\"#E5ECF6\",\"gridcolor\":\"white\",\"linecolor\":\"white\",\"showbackground\":true,\"ticks\":\"\",\"zerolinecolor\":\"white\",\"gridwidth\":2}},\"shapedefaults\":{\"line\":{\"color\":\"#2a3f5f\"}},\"annotationdefaults\":{\"arrowcolor\":\"#2a3f5f\",\"arrowhead\":0,\"arrowwidth\":1},\"geo\":{\"bgcolor\":\"white\",\"landcolor\":\"#E5ECF6\",\"subunitcolor\":\"white\",\"showland\":true,\"showlakes\":true,\"lakecolor\":\"white\"},\"title\":{\"x\":0.05},\"mapbox\":{\"style\":\"light\"}}},\"shapes\":[{\"fillcolor\":\"rgba(0,0,0,0)\",\"layer\":\"above\",\"line\":{\"color\":\"white\",\"width\":3},\"type\":\"rect\",\"x0\":-0.5,\"x1\":0.5,\"y0\":-0.5,\"y1\":0.5},{\"fillcolor\":\"rgba(0,0,0,0)\",\"layer\":\"above\",\"line\":{\"color\":\"white\",\"width\":3},\"type\":\"rect\",\"x0\":3.5,\"x1\":4.5,\"y0\":-0.5,\"y1\":0.5},{\"fillcolor\":\"rgba(0,0,0,0)\",\"layer\":\"above\",\"line\":{\"color\":\"white\",\"width\":3},\"type\":\"rect\",\"x0\":4.5,\"x1\":5.5,\"y0\":-0.5,\"y1\":0.5},{\"fillcolor\":\"rgba(0,0,0,0)\",\"layer\":\"above\",\"line\":{\"color\":\"white\",\"width\":3},\"type\":\"rect\",\"x0\":5.5,\"x1\":6.5,\"y0\":-0.5,\"y1\":0.5},{\"fillcolor\":\"rgba(0,0,0,0)\",\"layer\":\"above\",\"line\":{\"color\":\"white\",\"width\":3},\"type\":\"rect\",\"x0\":6.5,\"x1\":7.5,\"y0\":-0.5,\"y1\":0.5},{\"fillcolor\":\"rgba(0,0,0,0)\",\"layer\":\"above\",\"line\":{\"color\":\"white\",\"width\":3},\"type\":\"rect\",\"x0\":7.5,\"x1\":8.5,\"y0\":-0.5,\"y1\":0.5},{\"fillcolor\":\"rgba(0,0,0,0)\",\"layer\":\"above\",\"line\":{\"color\":\"white\",\"width\":3},\"type\":\"rect\",\"x0\":8.5,\"x1\":9.5,\"y0\":-0.5,\"y1\":0.5},{\"fillcolor\":\"rgba(0,0,0,0)\",\"layer\":\"above\",\"line\":{\"color\":\"white\",\"width\":3},\"type\":\"rect\",\"x0\":9.5,\"x1\":10.5,\"y0\":-0.5,\"y1\":0.5},{\"fillcolor\":\"rgba(0,0,0,0)\",\"layer\":\"above\",\"line\":{\"color\":\"white\",\"width\":3},\"type\":\"rect\",\"x0\":11.5,\"x1\":12.5,\"y0\":-0.5,\"y1\":0.5},{\"fillcolor\":\"rgba(0,0,0,0)\",\"layer\":\"above\",\"line\":{\"color\":\"white\",\"width\":3},\"type\":\"rect\",\"x0\":-0.5,\"x1\":0.5,\"y0\":0.5,\"y1\":1.5},{\"fillcolor\":\"rgba(0,0,0,0)\",\"layer\":\"above\",\"line\":{\"color\":\"white\",\"width\":3},\"type\":\"rect\",\"x0\":0.5,\"x1\":1.5,\"y0\":0.5,\"y1\":1.5},{\"fillcolor\":\"rgba(0,0,0,0)\",\"layer\":\"above\",\"line\":{\"color\":\"white\",\"width\":3},\"type\":\"rect\",\"x0\":1.5,\"x1\":2.5,\"y0\":0.5,\"y1\":1.5},{\"fillcolor\":\"rgba(0,0,0,0)\",\"layer\":\"above\",\"line\":{\"color\":\"white\",\"width\":3},\"type\":\"rect\",\"x0\":7.5,\"x1\":8.5,\"y0\":0.5,\"y1\":1.5},{\"fillcolor\":\"rgba(0,0,0,0)\",\"layer\":\"above\",\"line\":{\"color\":\"white\",\"width\":3},\"type\":\"rect\",\"x0\":11.5,\"x1\":12.5,\"y0\":0.5,\"y1\":1.5},{\"fillcolor\":\"rgba(0,0,0,0)\",\"layer\":\"above\",\"line\":{\"color\":\"white\",\"width\":3},\"type\":\"rect\",\"x0\":0.5,\"x1\":1.5,\"y0\":1.5,\"y1\":2.5},{\"fillcolor\":\"rgba(0,0,0,0)\",\"layer\":\"above\",\"line\":{\"color\":\"white\",\"width\":3},\"type\":\"rect\",\"x0\":1.5,\"x1\":2.5,\"y0\":1.5,\"y1\":2.5},{\"fillcolor\":\"rgba(0,0,0,0)\",\"layer\":\"above\",\"line\":{\"color\":\"white\",\"width\":3},\"type\":\"rect\",\"x0\":3.5,\"x1\":4.5,\"y0\":1.5,\"y1\":2.5},{\"fillcolor\":\"rgba(0,0,0,0)\",\"layer\":\"above\",\"line\":{\"color\":\"white\",\"width\":3},\"type\":\"rect\",\"x0\":4.5,\"x1\":5.5,\"y0\":1.5,\"y1\":2.5},{\"fillcolor\":\"rgba(0,0,0,0)\",\"layer\":\"above\",\"line\":{\"color\":\"white\",\"width\":3},\"type\":\"rect\",\"x0\":5.5,\"x1\":6.5,\"y0\":1.5,\"y1\":2.5},{\"fillcolor\":\"rgba(0,0,0,0)\",\"layer\":\"above\",\"line\":{\"color\":\"white\",\"width\":3},\"type\":\"rect\",\"x0\":2.5,\"x1\":3.5,\"y0\":2.5,\"y1\":3.5},{\"fillcolor\":\"rgba(0,0,0,0)\",\"layer\":\"above\",\"line\":{\"color\":\"white\",\"width\":3},\"type\":\"rect\",\"x0\":4.5,\"x1\":5.5,\"y0\":2.5,\"y1\":3.5},{\"fillcolor\":\"rgba(0,0,0,0)\",\"layer\":\"above\",\"line\":{\"color\":\"white\",\"width\":3},\"type\":\"rect\",\"x0\":6.5,\"x1\":7.5,\"y0\":2.5,\"y1\":3.5},{\"fillcolor\":\"rgba(0,0,0,0)\",\"layer\":\"above\",\"line\":{\"color\":\"white\",\"width\":3},\"type\":\"rect\",\"x0\":7.5,\"x1\":8.5,\"y0\":2.5,\"y1\":3.5},{\"fillcolor\":\"rgba(0,0,0,0)\",\"layer\":\"above\",\"line\":{\"color\":\"white\",\"width\":3},\"type\":\"rect\",\"x0\":8.5,\"x1\":9.5,\"y0\":2.5,\"y1\":3.5},{\"fillcolor\":\"rgba(0,0,0,0)\",\"layer\":\"above\",\"line\":{\"color\":\"white\",\"width\":3},\"type\":\"rect\",\"x0\":9.5,\"x1\":10.5,\"y0\":2.5,\"y1\":3.5},{\"fillcolor\":\"rgba(0,0,0,0)\",\"layer\":\"above\",\"line\":{\"color\":\"white\",\"width\":3},\"type\":\"rect\",\"x0\":11.5,\"x1\":12.5,\"y0\":2.5,\"y1\":3.5},{\"fillcolor\":\"rgba(0,0,0,0)\",\"layer\":\"above\",\"line\":{\"color\":\"white\",\"width\":3},\"type\":\"rect\",\"x0\":4.5,\"x1\":5.5,\"y0\":3.5,\"y1\":4.5},{\"fillcolor\":\"rgba(0,0,0,0)\",\"layer\":\"above\",\"line\":{\"color\":\"white\",\"width\":3},\"type\":\"rect\",\"x0\":5.5,\"x1\":6.5,\"y0\":3.5,\"y1\":4.5},{\"fillcolor\":\"rgba(0,0,0,0)\",\"layer\":\"above\",\"line\":{\"color\":\"white\",\"width\":3},\"type\":\"rect\",\"x0\":6.5,\"x1\":7.5,\"y0\":3.5,\"y1\":4.5}],\"xaxis\":{\"title\":{\"text\":\"Cutsite\",\"font\":{\"size\":24,\"color\":\"black\",\"weight\":\"bold\"}},\"tickfont\":{\"size\":18,\"color\":\"black\",\"weight\":\"bold\"},\"tickangle\":-45,\"tickmode\":\"array\",\"tickvals\":[\"R69\",\"M75\",\"A78\",\"I159\",\"L202\",\"K204\",\"E206\",\"F207\",\"A254\",\"R255\",\"L258\",\"Q260\",\"A261\"],\"ticktext\":[\"R69\",\"M75\",\"A78\",\"I159\",\"L202\",\"K204\",\"E206\",\"F207\",\"A254\",\"R255\",\"L258\",\"Q260\",\"A261\"]},\"yaxis\":{\"title\":{\"text\":\"State\",\"font\":{\"size\":24,\"color\":\"black\",\"weight\":\"bold\"}},\"tickfont\":{\"size\":18,\"color\":\"black\",\"weight\":\"bold\"},\"ticklabelposition\":\"outside\",\"automargin\":true,\"side\":\"left\",\"tickson\":\"boundaries\",\"ticklen\":20,\"tickwidth\":2,\"ticks\":\"outside\",\"tickcolor\":\"rgba(0,0,0,0)\",\"linecolor\":\"rgba(0,0,0,0)\"},\"margin\":{\"l\":200,\"r\":100,\"t\":100,\"b\":100},\"width\":1700,\"height\":500},                        {\"responsive\": true}                    ).then(function(){\n",
       "                            \n",
       "var gd = document.getElementById('df60b2c4-2d36-4c50-b89e-0479ae386fbf');\n",
       "var x = new MutationObserver(function (mutations, observer) {{\n",
       "        var display = window.getComputedStyle(gd).display;\n",
       "        if (!display || display === 'none') {{\n",
       "            console.log([gd, 'removed!']);\n",
       "            Plotly.purge(gd);\n",
       "            observer.disconnect();\n",
       "        }}\n",
       "}});\n",
       "\n",
       "// Listen for the removal of the full notebook cells\n",
       "var notebookContainer = gd.closest('#notebook-container');\n",
       "if (notebookContainer) {{\n",
       "    x.observe(notebookContainer, {childList: true});\n",
       "}}\n",
       "\n",
       "// Listen for the clearing of the current output cell\n",
       "var outputEl = gd.closest('.output');\n",
       "if (outputEl) {{\n",
       "    x.observe(outputEl, {childList: true});\n",
       "}}\n",
       "\n",
       "                        })                };                });            </script>        </div>"
      ]
     },
     "metadata": {},
     "output_type": "display_data"
    }
   ],
   "source": [
    "# Calculate the value for -log10(0.05)\n",
    "white_threshold = -np.log10(0.05)\n",
    "\n",
    "# Create a custom colorscale\n",
    "colorscale = [\n",
    "    [0, 'blue'],\n",
    "    [0.049999, 'blue'],\n",
    "    [0.05, 'white'],\n",
    "    [0.50001, 'red'],\n",
    "    [1, 'red']\n",
    "]\n",
    "\n",
    "# Create a heatmap with cell borders\n",
    "fig = go.Figure(data=go.Heatmap(\n",
    "    z=z_values,\n",
    "    x=x_labels,\n",
    "    y=y_labels,\n",
    "    colorscale=colorscale,\n",
    "    showscale=True,\n",
    "    xgap=1,\n",
    "    ygap=1,\n",
    "    text=text_values,\n",
    "    texttemplate=\"%{text}\",\n",
    "    textfont=dict(size=14),\n",
    "    zmin=0,  # Set minimum of color scale to 0\n",
    "    zmax= 0.1,#np.max(log_z_values),  # Set maximum to the highest value in log_z_values\n",
    "    colorbar=dict(\n",
    "        title=\"adj. p-value\",\n",
    "        title_side=\"right\",\n",
    "        titlefont=dict(size=18, color=\"black\"),\n",
    "        lenmode=\"fraction\",\n",
    "        len=1.0,\n",
    "        y=0.5,\n",
    "        yanchor=\"middle\",\n",
    "        x=1.0,\n",
    "        xanchor=\"left\",\n",
    "        tickvals=[0.025, 0.05, 0.075],\n",
    "        ticktext=['<0.05', '0.05', '>0.05'],\n",
    "        tickfont=dict(size=14),\n",
    "    ),\n",
    "))\n",
    "\n",
    "# New code to add borders for significant cells\n",
    "for i in range(len(y_labels)):\n",
    "    for j in range(len(x_labels)):\n",
    "        if z_values[i][j] < 0.05:\n",
    "\n",
    "            fig.add_shape(\n",
    "                type=\"rect\",\n",
    "                x0=j-0.5, y0=i-0.5, x1=j+0.5, y1=i+0.5,\n",
    "                line=dict(color=\"white\", width=3),\n",
    "                fillcolor=\"rgba(0,0,0,0)\",\n",
    "                layer=\"above\"\n",
    "            )\n",
    "\n",
    "# Update layout to ensure sufficient space and styling\n",
    "fig.update_layout(\n",
    "    xaxis=dict(\n",
    "        title=\"Cutsite\",\n",
    "        titlefont=dict(size=24, color=\"black\", weight=\"bold\"),\n",
    "        tickfont=dict(size=18, color=\"black\", weight=\"bold\"),\n",
    "        tickangle=-45,\n",
    "        tickmode='array',\n",
    "        tickvals=x_labels,\n",
    "        ticktext=x_labels\n",
    "    ),\n",
    "    yaxis=dict(\n",
    "        title=\"State\",\n",
    "        titlefont=dict(size=24, color=\"black\", weight=\"bold\"),\n",
    "        tickfont=dict(size=18, color=\"black\", weight=\"bold\"),\n",
    "        ticklabelposition=\"outside\",\n",
    "        automargin=True,\n",
    "        side=\"left\",\n",
    "        tickson=\"boundaries\",\n",
    "        ticklen=20,  # Increase tick length\n",
    "        tickwidth=2,  # Increase tick width for visibility\n",
    "        ticks=\"outside\",  # Place ticks outside the plot area\n",
    "        tickcolor=\"rgba(0,0,0,0)\",  # Make ticks transparent\n",
    "        linecolor=\"rgba(0,0,0,0)\",  # Make axis line transparent\n",
    "    ),\n",
    "\n",
    "    margin=dict(l=200, r=100, t=100, b=100),  # Increase margins to ensure full rendering\n",
    "    width=1700,  # Set optimal width\n",
    "    height=500,   # Set optimal height\n",
    ")\n",
    "\n",
    "\n",
    "# Show the figure\n",
    "fig.show()\n",
    "# Save the figure as a high-resolution image\n",
    "fig.write_image(\"Simulation_LiPMS_consistent_heatmap.png\", scale=10)"
   ]
  },
  {
   "cell_type": "code",
   "execution_count": 26,
   "id": "ef37afb5-22af-4fcd-bd40-66d57997c01e",
   "metadata": {},
   "outputs": [
    {
     "data": {
      "text/plain": [
       "-0.0"
      ]
     },
     "execution_count": 26,
     "metadata": {},
     "output_type": "execute_result"
    }
   ],
   "source": [
    "-np.log10(1)"
   ]
  },
  {
   "cell_type": "code",
   "execution_count": 31,
   "id": "b9cdf6fb-c4ce-4a37-8a05-714ed548eb11",
   "metadata": {},
   "outputs": [
    {
     "data": {
      "text/plain": [
       "1.3010299956639813"
      ]
     },
     "execution_count": 31,
     "metadata": {},
     "output_type": "execute_result"
    }
   ],
   "source": [
    "-np.log10(0.05)"
   ]
  },
  {
   "cell_type": "code",
   "execution_count": null,
   "id": "8b217616-e231-4f54-8357-874caa2fdb2e",
   "metadata": {},
   "outputs": [],
   "source": []
  }
 ],
 "metadata": {
  "kernelspec": {
   "display_name": "Python 3 (ipykernel)",
   "language": "python",
   "name": "python3"
  },
  "language_info": {
   "codemirror_mode": {
    "name": "ipython",
    "version": 3
   },
   "file_extension": ".py",
   "mimetype": "text/x-python",
   "name": "python",
   "nbconvert_exporter": "python",
   "pygments_lexer": "ipython3",
   "version": "3.12.3"
  }
 },
 "nbformat": 4,
 "nbformat_minor": 5
}
