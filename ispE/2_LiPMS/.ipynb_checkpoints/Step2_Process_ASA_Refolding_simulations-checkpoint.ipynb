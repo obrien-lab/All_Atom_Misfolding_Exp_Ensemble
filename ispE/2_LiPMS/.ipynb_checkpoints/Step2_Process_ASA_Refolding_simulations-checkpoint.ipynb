{
 "cells": [
  {
   "cell_type": "code",
   "execution_count": 1,
   "id": "5e8ca807-ec20-4145-8bfb-bc4a3c5a2ea8",
   "metadata": {},
   "outputs": [],
   "source": [
    "import pandas as pd\n",
    "import numpy as np"
   ]
  },
  {
   "cell_type": "markdown",
   "id": "ba1bd173-6818-40f6-8a28-867d03e9e03f",
   "metadata": {},
   "source": [
    "# Read MSM data"
   ]
  },
  {
   "cell_type": "code",
   "execution_count": 2,
   "id": "8d385a41-1903-4511-b24a-ae9f0085993b",
   "metadata": {},
   "outputs": [],
   "source": [
    "msm_data=np.load('../1_MSM/msm_data.npz', allow_pickle=True)"
   ]
  },
  {
   "cell_type": "code",
   "execution_count": 4,
   "id": "aaf2cd11-b4dd-4501-9a28-c30c54773fa4",
   "metadata": {},
   "outputs": [
    {
     "data": {
      "text/plain": [
       "['raw_Q_G',\n",
       " 'dtrajs',\n",
       " 'probability_micro',\n",
       " 'center',\n",
       " 'eigenvalues_list',\n",
       " 'meta_dtrajs',\n",
       " 'coarse_state_centers',\n",
       " 'meta_dist',\n",
       " 'meta_set',\n",
       " 'meta_samples']"
      ]
     },
     "execution_count": 4,
     "metadata": {},
     "output_type": "execute_result"
    }
   ],
   "source": [
    "msm_data.files"
   ]
  },
  {
   "cell_type": "code",
   "execution_count": 5,
   "id": "1f6ff26c-0bb6-4c6c-be40-3e0dce0bd8cf",
   "metadata": {},
   "outputs": [],
   "source": [
    "meta_dtrajs = msm_data['meta_dtrajs']"
   ]
  },
  {
   "cell_type": "code",
   "execution_count": 7,
   "id": "b3413978-6d29-4fd5-bc9f-d00ee69cc202",
   "metadata": {},
   "outputs": [
    {
     "data": {
      "text/plain": [
       "(56, 6665)"
      ]
     },
     "execution_count": 7,
     "metadata": {},
     "output_type": "execute_result"
    }
   ],
   "source": [
    "meta_dtrajs.shape"
   ]
  },
  {
   "cell_type": "code",
   "execution_count": 8,
   "id": "c918064a-8c37-48f9-af70-ae5e429243a8",
   "metadata": {},
   "outputs": [],
   "source": [
    "meta_dtrajs_subsample = meta_dtrajs[:,::50]"
   ]
  },
  {
   "cell_type": "code",
   "execution_count": 10,
   "id": "e5a60e66-3e30-40c3-ab02-544c67f81f66",
   "metadata": {},
   "outputs": [
    {
     "data": {
      "text/plain": [
       "(56, 134)"
      ]
     },
     "execution_count": 10,
     "metadata": {},
     "output_type": "execute_result"
    }
   ],
   "source": [
    "meta_dtrajs_subsample.shape"
   ]
  },
  {
   "cell_type": "markdown",
   "id": "dc71a661-cab4-42b1-bd6e-352b1ed7523f",
   "metadata": {},
   "source": [
    "# Reading SASA data and save for each trajectories"
   ]
  },
  {
   "cell_type": "code",
   "execution_count": 25,
   "id": "33f2082f-51aa-4ae9-83f4-58929eed46aa",
   "metadata": {},
   "outputs": [],
   "source": [
    "n_trajs = 56"
   ]
  },
  {
   "cell_type": "markdown",
   "id": "7a7e5774-586b-4805-b693-d7d40dfc087d",
   "metadata": {},
   "source": [
    "Significant cutsites:\n",
    "0. R69: 64-75\n",
    "1. M75: 70-81\n",
    "2. A78: 73-84\n",
    "3. I159: 154-165\n",
    "4. L202: 197-208\n",
    "5. K204: 199-210\n",
    "6. E206: 201-212\n",
    "7. F207: 202-213\n",
    "8. A254: 249-260\n",
    "9. R255: 250-261\n",
    "10. L258: 253-264\n",
    "11. Q260: 255-266\n",
    "12. A261: 256-267"
   ]
  },
  {
   "cell_type": "code",
   "execution_count": 23,
   "id": "62f4e2ba-3478-4e55-b6c0-8d6272571f86",
   "metadata": {},
   "outputs": [],
   "source": [
    "cutsite_range = {\n",
    "    \"R69\": [64,75],\n",
    "    \"M75\": [70,81],\n",
    "    \"A78\": [73,84],\n",
    "    \"I159\": [154,165],\n",
    "    \"L202\": [197,208],\n",
    "    \"K204\": [199,210],\n",
    "    \"E206\": [201,212],\n",
    "    \"F207\": [202,213],\n",
    "    \"A254\": [249,260],\n",
    "    \"R255\": [250,261],\n",
    "    \"L258\": [253,264],\n",
    "    \"Q260\": [255,266],\n",
    "    \"A261\": [256,267],\n",
    "}"
   ]
  },
  {
   "cell_type": "code",
   "execution_count": 41,
   "id": "1e195ba3-b05c-48ee-89a9-3fe8fe3895b6",
   "metadata": {},
   "outputs": [
    {
     "name": "stdout",
     "output_type": "stream",
     "text": [
      "R69: First number = 64, Second number = 75\n",
      "M75: First number = 70, Second number = 81\n",
      "A78: First number = 73, Second number = 84\n",
      "I159: First number = 154, Second number = 165\n",
      "L202: First number = 197, Second number = 208\n",
      "K204: First number = 199, Second number = 210\n",
      "E206: First number = 201, Second number = 212\n",
      "F207: First number = 202, Second number = 213\n",
      "A254: First number = 249, Second number = 260\n",
      "R255: First number = 250, Second number = 261\n",
      "L258: First number = 253, Second number = 264\n",
      "Q260: First number = 255, Second number = 266\n",
      "A261: First number = 256, Second number = 267\n"
     ]
    }
   ],
   "source": [
    "for key, value in cutsite_range.items():    \n",
    "    # initialize array for ASA of each cutsite\n",
    "    ASA_cutsite = np.zeros((n_trajs, 134))\n",
    "    first_number = value[0]\n",
    "    second_number = value[1]\n",
    "    print(f\"{key}: First number = {first_number}, Second number = {second_number}\")\n",
    "    for traj in range(56):\n",
    "        data = np.loadtxt(f'../cg_refold_sims/traj_asa/asa_traj{traj}.dat')\n",
    "        ASA_cutsite[traj,:] = np.sum(data[::50,first_number:second_number], axis=1)\n",
    "\n",
    "    np.save(f'sim/ASA_cutsite/{key}_ASA.npy', ASA_cutsite)\n",
    "    "
   ]
  },
  {
   "cell_type": "markdown",
   "id": "2cb04e57-a438-4a35-9d9e-32a347ec49b7",
   "metadata": {},
   "source": [
    "# Group ASA for each cutsite by state"
   ]
  },
  {
   "cell_type": "code",
   "execution_count": 47,
   "id": "7f3e42c6-8d0d-4610-9651-84d4e83ff1c6",
   "metadata": {},
   "outputs": [
    {
     "data": {
      "text/plain": [
       "array([[5, 5, 5, ..., 5, 5, 5],\n",
       "       [2, 2, 2, ..., 2, 2, 2],\n",
       "       [2, 2, 2, ..., 2, 2, 2],\n",
       "       ...,\n",
       "       [5, 5, 5, ..., 5, 5, 5],\n",
       "       [5, 5, 5, ..., 5, 5, 5],\n",
       "       [5, 5, 5, ..., 5, 5, 5]])"
      ]
     },
     "execution_count": 47,
     "metadata": {},
     "output_type": "execute_result"
    }
   ],
   "source": [
    "meta_dtrajs_subsample"
   ]
  },
  {
   "cell_type": "code",
   "execution_count": 49,
   "id": "9ba508fa-414b-4b69-b68e-2298eafd8b50",
   "metadata": {},
   "outputs": [],
   "source": [
    "meta_dtrajs_subsample_conc = np.array(meta_dtrajs_subsample.flatten(), dtype=int)"
   ]
  },
  {
   "cell_type": "code",
   "execution_count": 50,
   "id": "90e2bd60-c1b6-4f81-8ac0-e39e62f9c790",
   "metadata": {},
   "outputs": [
    {
     "data": {
      "text/plain": [
       "array([5, 5, 5, ..., 5, 5, 5])"
      ]
     },
     "execution_count": 50,
     "metadata": {},
     "output_type": "execute_result"
    }
   ],
   "source": [
    "meta_dtrajs_subsample_conc"
   ]
  },
  {
   "cell_type": "code",
   "execution_count": 52,
   "id": "138316fe-84bc-48f2-b6dd-123e3480328f",
   "metadata": {},
   "outputs": [
    {
     "name": "stdout",
     "output_type": "stream",
     "text": [
      "Working on cutsite: R69\n",
      "sample size of state 0: 308\n",
      "sample size of state 1: 200\n",
      "sample size of state 2: 1319\n",
      "sample size of state 3: 1303\n",
      "sample size of state 4: 68\n",
      "sample size of state 5: 4306\n",
      "Working on cutsite: M75\n",
      "sample size of state 0: 308\n",
      "sample size of state 1: 200\n",
      "sample size of state 2: 1319\n",
      "sample size of state 3: 1303\n",
      "sample size of state 4: 68\n",
      "sample size of state 5: 4306\n",
      "Working on cutsite: A78\n",
      "sample size of state 0: 308\n",
      "sample size of state 1: 200\n",
      "sample size of state 2: 1319\n",
      "sample size of state 3: 1303\n",
      "sample size of state 4: 68\n",
      "sample size of state 5: 4306\n",
      "Working on cutsite: I159\n",
      "sample size of state 0: 308\n",
      "sample size of state 1: 200\n",
      "sample size of state 2: 1319\n",
      "sample size of state 3: 1303\n",
      "sample size of state 4: 68\n",
      "sample size of state 5: 4306\n",
      "Working on cutsite: L202\n",
      "sample size of state 0: 308\n",
      "sample size of state 1: 200\n",
      "sample size of state 2: 1319\n",
      "sample size of state 3: 1303\n",
      "sample size of state 4: 68\n",
      "sample size of state 5: 4306\n",
      "Working on cutsite: K204\n",
      "sample size of state 0: 308\n",
      "sample size of state 1: 200\n",
      "sample size of state 2: 1319\n",
      "sample size of state 3: 1303\n",
      "sample size of state 4: 68\n",
      "sample size of state 5: 4306\n",
      "Working on cutsite: E206\n",
      "sample size of state 0: 308\n",
      "sample size of state 1: 200\n",
      "sample size of state 2: 1319\n",
      "sample size of state 3: 1303\n",
      "sample size of state 4: 68\n",
      "sample size of state 5: 4306\n",
      "Working on cutsite: F207\n",
      "sample size of state 0: 308\n",
      "sample size of state 1: 200\n",
      "sample size of state 2: 1319\n",
      "sample size of state 3: 1303\n",
      "sample size of state 4: 68\n",
      "sample size of state 5: 4306\n",
      "Working on cutsite: A254\n",
      "sample size of state 0: 308\n",
      "sample size of state 1: 200\n",
      "sample size of state 2: 1319\n",
      "sample size of state 3: 1303\n",
      "sample size of state 4: 68\n",
      "sample size of state 5: 4306\n",
      "Working on cutsite: R255\n",
      "sample size of state 0: 308\n",
      "sample size of state 1: 200\n",
      "sample size of state 2: 1319\n",
      "sample size of state 3: 1303\n",
      "sample size of state 4: 68\n",
      "sample size of state 5: 4306\n",
      "Working on cutsite: L258\n",
      "sample size of state 0: 308\n",
      "sample size of state 1: 200\n",
      "sample size of state 2: 1319\n",
      "sample size of state 3: 1303\n",
      "sample size of state 4: 68\n",
      "sample size of state 5: 4306\n",
      "Working on cutsite: Q260\n",
      "sample size of state 0: 308\n",
      "sample size of state 1: 200\n",
      "sample size of state 2: 1319\n",
      "sample size of state 3: 1303\n",
      "sample size of state 4: 68\n",
      "sample size of state 5: 4306\n",
      "Working on cutsite: A261\n",
      "sample size of state 0: 308\n",
      "sample size of state 1: 200\n",
      "sample size of state 2: 1319\n",
      "sample size of state 3: 1303\n",
      "sample size of state 4: 68\n",
      "sample size of state 5: 4306\n"
     ]
    }
   ],
   "source": [
    "for key, value in cutsite_range.items(): \n",
    "    print(f\"Working on cutsite: {key}\")\n",
    "    cutsite_asa = np.load(f'sim/ASA_cutsite/{key}_ASA.npy')\n",
    "    cutsite_asa_conc = np.array(cutsite_asa.flatten(), dtype=float)\n",
    "    for st in range(6):\n",
    "        cutsite_state = cutsite_asa_conc[meta_dtrajs_subsample_conc==st]\n",
    "        print(f'sample size of state {st}: {len(cutsite_state)}')\n",
    "        np.save(f'sim/ASA_cutsite_then_state/ASA_{key}_state_{st}.npy', cutsite_state)\n",
    "    "
   ]
  },
  {
   "cell_type": "code",
   "execution_count": null,
   "id": "338723d0-f66a-49ec-9923-aee4c512cc69",
   "metadata": {},
   "outputs": [],
   "source": []
  }
 ],
 "metadata": {
  "kernelspec": {
   "display_name": "Python 3 (ipykernel)",
   "language": "python",
   "name": "python3"
  },
  "language_info": {
   "codemirror_mode": {
    "name": "ipython",
    "version": 3
   },
   "file_extension": ".py",
   "mimetype": "text/x-python",
   "name": "python",
   "nbconvert_exporter": "python",
   "pygments_lexer": "ipython3",
   "version": "3.11.5"
  }
 },
 "nbformat": 4,
 "nbformat_minor": 5
}
