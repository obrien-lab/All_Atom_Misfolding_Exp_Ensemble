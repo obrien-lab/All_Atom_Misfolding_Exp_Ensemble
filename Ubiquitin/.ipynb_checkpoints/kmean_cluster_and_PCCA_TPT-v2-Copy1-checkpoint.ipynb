{
 "cells": [
  {
   "cell_type": "markdown",
   "id": "0f05442f",
   "metadata": {},
   "source": [
    "##### Import library"
   ]
  },
  {
   "cell_type": "code",
   "execution_count": 1,
   "id": "f2817cd5",
   "metadata": {},
   "outputs": [],
   "source": [
    "%matplotlib inline\n",
    "import matplotlib.pyplot as plt\n",
    "import matplotlib as mpl\n",
    "import numpy as np\n",
    "import pyemma\n",
    "import mdtraj\n",
    "import pandas as pd\n",
    "from pyemma.util.contexts import settings\n",
    "import networkx as nx\n",
    "from mpl_toolkits.axes_grid1 import make_axes_locatable"
   ]
  },
  {
   "cell_type": "code",
   "execution_count": 2,
   "id": "6de629e5",
   "metadata": {},
   "outputs": [],
   "source": [
    "# import deeptime for using count matrix and transition matrix\n",
    "from tqdm.notebook import tqdm  # progress bar (optional)\n",
    "from deeptime.markov import TransitionCountEstimator\n",
    "import deeptime.markov.tools.estimation as deeptime_estimation\n",
    "\n",
    "estimator = TransitionCountEstimator(\n",
    "    lagtime=1,\n",
    "    count_mode=\"sliding\"\n",
    ")"
   ]
  },
  {
   "cell_type": "markdown",
   "id": "4cc7603a",
   "metadata": {},
   "source": [
    "##### Functions definition for preprocessing data"
   ]
  },
  {
   "cell_type": "code",
   "execution_count": 3,
   "id": "dca66701",
   "metadata": {},
   "outputs": [],
   "source": [
    "def normalize_min_max(data):\n",
    "    \"\"\"\n",
    "        Normalize input data so that kmean clustering work better, since it is working based on Elucide space.\n",
    "        After normalize, each feature contributed to square distance by the same weight.\n",
    "        \n",
    "        Input:\n",
    "        data: list of numpy array, each element of list is one trajectories\n",
    "        Output:\n",
    "        list of numpy array as the same shape, format as the input list.\n",
    "        array of max, array of min value of data.\n",
    "    \"\"\"\n",
    "#     data_concatenated = data[0]\n",
    "#     for i in range(1, len(data)):\n",
    "#         data_concatenated = np.vstack((data_concatenated, data[i]))\n",
    "    data_concatenated = np.concatenate(data)\n",
    "    data_max = np.max(data_concatenated, axis=0)\n",
    "    data_min = np.min(data_concatenated, axis=0)\n",
    "    result = [(d - data_min) / (data_max-data_min) for d in data]\n",
    "    return [result, data_max, data_min]\n",
    "\n",
    "def un_normalize_min_max(data, data_max, data_min):\n",
    "    result = data * (data_max - data_min) + data_min\n",
    "    return result"
   ]
  },
  {
   "cell_type": "code",
   "execution_count": 4,
   "id": "9efbe819",
   "metadata": {},
   "outputs": [],
   "source": [
    "def standardize(data):\n",
    "    \"\"\"\n",
    "    Yang procedure, where he standardize data by shifting by mean and then divided to standard diviation.\n",
    "    I don't agree with this procedure\n",
    "    \"\"\"\n",
    "    data_concatenated = np.concatenate(data)\n",
    "#     for i in range(1, len(data)):\n",
    "#         data_con = np.vstack((data_con, data[i]))\n",
    "    data_mean = np.mean(data_concatenated, axis=0)\n",
    "    data_std = np.std(data_concatenated, axis=0)\n",
    "    result = [(d - data_mean) / data_std for d in data]\n",
    "    return [result, data_mean, data_std]\n",
    "\n",
    "def unstandardize(data, data_mean, data_std):\n",
    "    result = data * data_std + data_mean\n",
    "    return result"
   ]
  },
  {
   "cell_type": "markdown",
   "id": "f5f5e80d",
   "metadata": {},
   "source": [
    "def standardize(data):\n",
    "    \"\"\"\n",
    "    Yang procedure, where he standardize data by shifting by mean and then divided to standard diviation.\n",
    "    I don't agree with this procedure\n",
    "    \"\"\"\n",
    "    data_con = data[0]\n",
    "    for i in range(1, len(data)):\n",
    "        data_con = np.vstack((data_con, data[i]))\n",
    "    data_mean = np.mean(data_con, axis=0)\n",
    "    data_std = np.std(data_con, axis=0)\n",
    "    result = [(d - data_mean) / data_std for d in data]\n",
    "    return [result, data_mean, data_std]\n",
    "\n",
    "def unstandardize(data, data_mean, data_std):\n",
    "    result = data * data_std + data_mean\n",
    "    return result"
   ]
  },
  {
   "cell_type": "markdown",
   "id": "27593523",
   "metadata": {},
   "source": [
    "##### Reading data"
   ]
  },
  {
   "cell_type": "code",
   "execution_count": 5,
   "id": "44177789",
   "metadata": {},
   "outputs": [],
   "source": [
    "msm_data = None # 'msm_data.npz' # if data is saved in name: msm_data.npz, just load it. Otherwise, None: read from raw file\n",
    "if msm_data is not None:\n",
    "    data_file = np.load(msm_data, allow_pickle=True)\n",
    "    data = data_file['raw_data']\n",
    "else:\n",
    "    files_Q_G = [f'../ubq_nat{i}_Q_G.dat' for i in range(1,7)]\n",
    "    files_Q_G.append('../ubq_unf1_Q_G.dat')\n",
    "    files_Q_G.append('../ubq_unf2_Q_G.dat')\n",
    "\n",
    "    data = [np.loadtxt(f, usecols=[0,1]) for f in files_Q_G]\n",
    "\n",
    "np.savez('ubq_Q_G.npz', Q_G=np.asarray(data, dtype=object))"
   ]
  },
  {
   "cell_type": "code",
   "execution_count": 5,
   "id": "e2421783",
   "metadata": {
    "scrolled": true
   },
   "outputs": [],
   "source": [
    "data=np.load('ubq_Q_G.npz', allow_pickle=True)['Q_G']"
   ]
  },
  {
   "cell_type": "code",
   "execution_count": 6,
   "id": "d29e06d4",
   "metadata": {},
   "outputs": [],
   "source": [
    "normalize_data, data_max, data_min = normalize_min_max(data)\n",
    "# standerlize_data, data_mean, data_std = standardize(data)"
   ]
  },
  {
   "cell_type": "markdown",
   "id": "59c53c8d",
   "metadata": {},
   "source": [
    "##### K-means++ clustering and estimate MSM"
   ]
  },
  {
   "cell_type": "code",
   "execution_count": 7,
   "id": "9dc39a67",
   "metadata": {},
   "outputs": [],
   "source": [
    "n_clusters = 300"
   ]
  },
  {
   "cell_type": "code",
   "execution_count": 8,
   "id": "dd0a2cb2",
   "metadata": {},
   "outputs": [
    {
     "data": {
      "application/vnd.jupyter.widget-view+json": {
       "model_id": "",
       "version_major": 2,
       "version_minor": 0
      },
      "text/plain": [
       "initialize kmeans++ centers:   0%|                                                                            …"
      ]
     },
     "metadata": {},
     "output_type": "display_data"
    },
    {
     "data": {
      "application/vnd.jupyter.widget-view+json": {
       "model_id": "",
       "version_major": 2,
       "version_minor": 0
      },
      "text/plain": [
       "kmeans iterations:   0%|                                                                                      …"
      ]
     },
     "metadata": {},
     "output_type": "display_data"
    }
   ],
   "source": [
    "cluster_kmeans = pyemma.coordinates.cluster_kmeans(normalize_data, k=n_clusters, max_iter=10000, fixed_seed=2022, stride=10)"
   ]
  },
  {
   "cell_type": "code",
   "execution_count": 10,
   "id": "2c9037a9",
   "metadata": {},
   "outputs": [],
   "source": [
    "dtrajs = cluster_kmeans.dtrajs\n",
    "# un-normalize the cluster centers\n",
    "cluster_centers = un_normalize_min_max(cluster_kmeans.clustercenters, data_max, data_min)\n",
    "# cluster_centers = unstandardize(cluster_kmeans.clustercenters, data_mean, data_std)"
   ]
  },
  {
   "cell_type": "code",
   "execution_count": 11,
   "id": "e1c38368",
   "metadata": {},
   "outputs": [
    {
     "data": {
      "text/plain": [
       "[<matplotlib.lines.Line2D at 0x7fb7427f0b50>]"
      ]
     },
     "execution_count": 11,
     "metadata": {},
     "output_type": "execute_result"
    },
    {
     "data": {
      "image/png": "[encoded data removed]",
      "text/plain": [
       "<Figure size 640x480 with 1 Axes>"
      ]
     },
     "metadata": {},
     "output_type": "display_data"
    }
   ],
   "source": [
    "plt.plot(cluster_centers[:,0], cluster_centers[:,1],'*')"
   ]
  },
  {
   "cell_type": "code",
   "execution_count": 13,
   "id": "7c028611",
   "metadata": {},
   "outputs": [
    {
     "name": "stdout",
     "output_type": "stream",
     "text": [
      "fraction of states used = 1.000000\n",
      "fraction of counts used = 1.000000\n"
     ]
    }
   ],
   "source": [
    "msm = pyemma.msm.estimate_markov_model(dtrajs, lag=1)\n",
    "\"\"\"\n",
    "The MSM is constructed on the largest set of discrete states that are (reversibly) connected. \n",
    "The active_state_fraction and active_count_fraction show us the fraction of discrete states and transition counts \n",
    "from our data which are part of this largest set and, thus, used for the model:\n",
    "\"\"\"\n",
    "print('fraction of states used = {:f}'.format(msm.active_state_fraction))\n",
    "print('fraction of counts used = {:f}'.format(msm.active_count_fraction))"
   ]
  },
  {
   "cell_type": "markdown",
   "id": "d42456b9",
   "metadata": {},
   "source": [
    "##### Apply PCCA++ to finding metastable states for presentation"
   ]
  },
  {
   "cell_type": "code",
   "execution_count": 14,
   "id": "5d1a55f6",
   "metadata": {},
   "outputs": [
    {
     "name": "stdout",
     "output_type": "stream",
     "text": [
      "nstates: 7\n"
     ]
    }
   ],
   "source": [
    "\"\"\"coarse-grainning cluster center.\n",
    "First, we set maximum number of metastable =14 and search if any of them are empty, if yes, reduce by 1 and search again\n",
    "\"\"\"\n",
    "nstates = 7\n",
    "while nstates > 1:\n",
    "    print(f'nstates: {nstates}')\n",
    "    pcca = msm.pcca(nstates)\n",
    "    length_sets = np.asarray([len(ms) for ms in msm.metastable_sets])\n",
    "    if np.any(length_sets==0):\n",
    "        print('there is atleast one metastable state has no member.')\n",
    "        nstates -= 1\n",
    "    else:\n",
    "        break\n",
    "        "
   ]
  },
  {
   "cell_type": "code",
   "execution_count": 15,
   "id": "1a3ce812",
   "metadata": {},
   "outputs": [],
   "source": [
    "# raw from PCCA\n",
    "pcca_sets = msm.metastable_sets\n",
    "pcca_distributions = msm.metastable_distributions\n",
    "pcca_samples = msm.sample_by_distributions(pcca_distributions, 50)"
   ]
  },
  {
   "cell_type": "markdown",
   "id": "af47cc0b",
   "metadata": {},
   "source": [
    "##### Save and load pyemma notebook for reuse (Optional)"
   ]
  },
  {
   "cell_type": "code",
   "execution_count": 16,
   "id": "6cb27f82",
   "metadata": {},
   "outputs": [
    {
     "name": "stdout",
     "output_type": "stream",
     "text": [
      "17-02-23 13:36:24 pyemma._base.serialization.h5file INFO     overwriting model \"ubq\" in file ubq_nb4.pyemma\n"
     ]
    }
   ],
   "source": [
    "# save work for further analysis\n",
    "cluster_kmeans.save('ubq_nb4.pyemma', model_name='ubq', overwrite=True)\n",
    "msm.save('ubq_nb4.pyemma', model_name='ubq', overwrite=True)"
   ]
  },
  {
   "cell_type": "code",
   "execution_count": 166,
   "id": "13932c9d",
   "metadata": {},
   "outputs": [],
   "source": [
    "# load previous saved\n",
    "msm = pyemma.load('ubq_nb4.pyemma', model_name='ubq')\n",
    "cluster = pyemma.load('ubq_nb4.pyemma', model_name='ubq')"
   ]
  },
  {
   "cell_type": "markdown",
   "id": "e83ab13f",
   "metadata": {},
   "source": [
    "##### Back to section 6 for the main task"
   ]
  },
  {
   "cell_type": "code",
   "execution_count": 17,
   "id": "9d8ca406",
   "metadata": {},
   "outputs": [],
   "source": [
    "\"\"\"\n",
    "Coarse-grain center is the value of microstate with highest probability of metastable set.\n",
    "msm.metastable_distributions[idx][msm.metastable_sets[idx]: get the array of distribution of metastable idx with element in metastablesets idx only.\n",
    "argmax(): from these element, get index of element has maximum probability\n",
    "\"\"\"\n",
    "cg_centers=[]\n",
    "for idx in range(len(pcca_sets)):\n",
    "    cg_centers.append(cluster_centers[pcca_sets[idx][pcca_distributions[idx][pcca_sets[idx]].argmax()]].tolist())"
   ]
  },
  {
   "cell_type": "code",
   "execution_count": 18,
   "id": "2aa544e5",
   "metadata": {},
   "outputs": [],
   "source": [
    "# sorting cg_centers as increasing order of Q\n",
    "cg_centers = np.asarray(cg_centers)\n",
    "cg_center_order_idx = np.argsort(cg_centers[:,0])"
   ]
  },
  {
   "cell_type": "code",
   "execution_count": 19,
   "id": "1515be80",
   "metadata": {},
   "outputs": [],
   "source": [
    "# sort these quantities from raw PCCA\n",
    "cg_centers_sorted = cg_centers[cg_center_order_idx,:]\n",
    "pcca_sets_sorted = np.asarray(pcca_sets, dtype=object)[cg_center_order_idx]\n",
    "pcca_distributions_sorted = np.asarray(pcca_distributions, dtype=object)[cg_center_order_idx]\n",
    "pcca_samples_sorted = np.asarray(pcca_samples, dtype=object)[cg_center_order_idx]"
   ]
  },
  {
   "cell_type": "code",
   "execution_count": 20,
   "id": "d65a2fc4",
   "metadata": {},
   "outputs": [],
   "source": [
    "\"\"\"\n",
    "    In this step, we zero out distribution probability all of micro state (cluster center) which is not in metastable set\n",
    "    So that, when get the samples, we will get better results\n",
    "\"\"\"\n",
    "pcca_distributions_filter = []\n",
    "for idx, metastate_set in enumerate(pcca_sets_sorted):\n",
    "    temp_distribution = np.zeros(n_clusters)\n",
    "    for state in metastate_set:\n",
    "        temp_distribution[state] = pcca_distributions_sorted[idx][state]\n",
    "    pcca_distributions_filter.append(temp_distribution/np.sum(temp_distribution))\n",
    "\n",
    "\n",
    "pcca_distributions_filter = np.asanyarray(pcca_distributions_filter)\n",
    "# draw samples for each metastable states. this will be used for visualizing\n",
    "pcca_samples_after_filter = msm.sample_by_distributions(pcca_distributions_filter, 50)"
   ]
  },
  {
   "cell_type": "code",
   "execution_count": 21,
   "id": "7d7c41e8",
   "metadata": {},
   "outputs": [
    {
     "name": "stdout",
     "output_type": "stream",
     "text": [
      "0 [0.02779136 0.        ]\n",
      "1 [0.0625     0.09119999]\n",
      "2 [0.29179773 0.        ]\n",
      "3 [0.48609996 0.        ]\n",
      "4 [0.60832 0.0541 ]\n",
      "5 [0.69439751 0.        ]\n",
      "6 [1. 0.]\n"
     ]
    }
   ],
   "source": [
    "for i, center in enumerate(cg_centers_sorted):\n",
    "    print(i, center)"
   ]
  },
  {
   "cell_type": "code",
   "execution_count": 23,
   "id": "fb011ead",
   "metadata": {
    "scrolled": true
   },
   "outputs": [
    {
     "name": "stdout",
     "output_type": "stream",
     "text": [
      "=================\n",
      "sample: 0, [0.02779136 0.        ]\n",
      "5 244340 [0.0833 0.    ]\n",
      "6 436602 [0.0556 0.    ]\n",
      "4 645701 [0.0556 0.    ]\n",
      "6 385535 [0.1667 0.027 ]\n",
      "0 760997 [0.0417 0.    ]\n",
      "6 542433 [0.1806 0.    ]\n",
      "6 359910 [0.0139 0.    ]\n",
      "0 978688 [0.1667 0.    ]\n",
      "4 1035251 [0.0694 0.    ]\n",
      "3 1221564 [0. 0.]\n",
      "2 799719 [0. 0.]\n",
      "4 349599 [0.0417 0.    ]\n",
      "0 846585 [0.0833 0.    ]\n",
      "2 252204 [0.0972 0.    ]\n",
      "5 348716 [0.0139 0.    ]\n",
      "7 366569 [0.0972 0.    ]\n",
      "2 1226567 [0.0556 0.    ]\n",
      "3 883375 [0.1111 0.    ]\n",
      "3 863538 [0.0556 0.    ]\n",
      "2 952564 [0.1111 0.    ]\n",
      "5 130111 [0.0972 0.    ]\n",
      "1 1009501 [0.0972 0.    ]\n",
      "0 940917 [0.0278 0.    ]\n",
      "2 532997 [0.0694 0.    ]\n",
      "4 496085 [0.0417 0.    ]\n",
      "4 892677 [0.0278 0.    ]\n",
      "3 990180 [0.0556 0.    ]\n",
      "5 535015 [0.0417 0.    ]\n",
      "5 258503 [0.1111 0.    ]\n",
      "3 947957 [0.1389 0.    ]\n",
      "6 124065 [0. 0.]\n",
      "5 209089 [0.1111 0.    ]\n",
      "5 675708 [0.0417 0.    ]\n",
      "0 1014907 [0.0972 0.    ]\n",
      "2 919516 [0.1111 0.    ]\n",
      "6 211726 [0.0833 0.    ]\n",
      "5 667397 [0.0278 0.    ]\n",
      "4 488665 [0.0833 0.    ]\n",
      "3 680201 [0.1667 0.    ]\n",
      "0 1076674 [0.0556 0.    ]\n",
      "0 504253 [0.0278 0.    ]\n",
      "3 417356 [0.0417 0.    ]\n",
      "5 200398 [0.0694 0.    ]\n",
      "4 1017909 [0.1528 0.    ]\n",
      "2 440694 [0.1528 0.    ]\n",
      "2 486302 [0.0139 0.    ]\n",
      "0 367378 [0.0139 0.    ]\n",
      "7 22805 [0.1667 0.    ]\n",
      "0 413687 [0.125 0.   ]\n",
      "4 586483 [0.1806 0.    ]\n",
      "=================\n",
      "sample: 1, [0.0625     0.09119999]\n",
      "0 366831 [0.0556 0.0878]\n",
      "0 366829 [0.1111 0.0946]\n",
      "0 366855 [0.0694 0.0946]\n",
      "4 415605 [0.1667 0.1216]\n",
      "0 366857 [0.0833 0.0946]\n",
      "3 412253 [0.     0.0878]\n",
      "0 366835 [0.0417 0.1014]\n",
      "4 415620 [0.1389 0.1014]\n",
      "0 366822 [0.0278 0.1014]\n",
      "0 366862 [0.0139 0.1014]\n",
      "0 366839 [0.0694 0.0946]\n",
      "0 366815 [0.0556 0.0946]\n",
      "4 415555 [0.1528 0.1081]\n",
      "0 366818 [0.0417 0.1014]\n",
      "0 366845 [0.0278 0.0946]\n",
      "0 366838 [0.0417 0.0946]\n",
      "0 366827 [0.0139 0.0878]\n",
      "0 366856 [0.0833 0.1014]\n",
      "0 366864 [0.0139 0.1081]\n",
      "0 366835 [0.0417 0.1014]\n",
      "4 415608 [0.0972 0.1149]\n",
      "0 366870 [0.0139 0.0946]\n",
      "0 366830 [0.0556 0.1014]\n",
      "0 366856 [0.0833 0.1014]\n",
      "4 415554 [0.1528 0.0946]\n",
      "0 366836 [0.0139 0.1014]\n",
      "0 366863 [0.0139 0.0946]\n",
      "4 415293 [0.1111 0.0946]\n",
      "1 1096440 [0.0694 0.0878]\n",
      "0 366835 [0.0417 0.1014]\n",
      "0 366825 [0.0417 0.0878]\n",
      "0 366852 [0.0694 0.0946]\n",
      "0 366831 [0.0556 0.0878]\n",
      "4 415300 [0.1528 0.0946]\n",
      "0 366843 [0.0278 0.0878]\n",
      "0 366827 [0.0139 0.0878]\n",
      "0 366826 [0.0556 0.1014]\n",
      "4 415293 [0.1111 0.0946]\n",
      "0 366843 [0.0278 0.0878]\n",
      "0 366824 [0.0556 0.0946]\n",
      "4 415599 [0.125  0.1081]\n",
      "0 366853 [0.0833 0.0946]\n",
      "0 366845 [0.0278 0.0946]\n",
      "4 415598 [0.125  0.1689]\n",
      "0 366870 [0.0139 0.0946]\n",
      "0 366864 [0.0139 0.1081]\n",
      "4 415300 [0.1528 0.0946]\n",
      "3 412253 [0.     0.0878]\n",
      "0 366844 [0.0556 0.1081]\n",
      "4 415601 [0.1111 0.1216]\n",
      "=================\n",
      "sample: 2, [0.29179773 0.        ]\n",
      "4 564602 [0.2222 0.    ]\n",
      "4 961084 [0.3056 0.    ]\n",
      "4 630041 [0.3056 0.    ]\n",
      "5 511673 [0.3333 0.    ]\n",
      "5 423506 [0.2917 0.    ]\n",
      "3 1047942 [0.375 0.   ]\n",
      "5 213648 [0.2778 0.    ]\n",
      "5 235564 [0.1944 0.    ]\n",
      "0 419164 [0.2778 0.    ]\n",
      "3 687802 [0.2778 0.    ]\n",
      "6 49349 [0.3056 0.    ]\n",
      "2 320259 [0.1944 0.    ]\n",
      "4 772982 [0.3333 0.    ]\n",
      "3 1118753 [0.2639 0.    ]\n",
      "2 293377 [0.2778 0.    ]\n",
      "4 481951 [0.2778 0.    ]\n",
      "2 815946 [0.4028 0.    ]\n",
      "4 549748 [0.3056 0.    ]\n",
      "4 802158 [0.2778 0.0068]\n",
      "3 909290 [0.2778 0.    ]\n",
      "2 434127 [0.3333 0.    ]\n",
      "4 374082 [0.2639 0.    ]\n",
      "2 404060 [0.2778 0.    ]\n",
      "5 478935 [0.2917 0.    ]\n",
      "3 384388 [0.3056 0.    ]\n",
      "5 75707 [0.3611 0.    ]\n",
      "0 502027 [0.4583 0.    ]\n",
      "5 246471 [0.2778 0.    ]\n",
      "0 1182847 [0.3333 0.    ]\n",
      "7 265019 [0.3194 0.    ]\n",
      "2 608234 [0.3056 0.    ]\n",
      "0 586790 [0.3611 0.    ]\n",
      "7 35520 [0.2917 0.    ]\n",
      "5 257683 [0.2361 0.    ]\n",
      "0 1027864 [0.3056 0.    ]\n",
      "3 969027 [0.3611 0.    ]\n",
      "2 993926 [0.2222 0.    ]\n",
      "7 150858 [0.2778 0.    ]\n",
      "4 916469 [0.3611 0.    ]\n",
      "5 506658 [0.3333 0.    ]\n",
      "2 943605 [0.3056 0.    ]\n",
      "2 309753 [0.3472 0.    ]\n",
      "7 258905 [0.3472 0.    ]\n",
      "3 1039379 [0.2917 0.    ]\n",
      "6 518791 [0.2361 0.    ]\n",
      "4 324857 [0.3056 0.    ]\n",
      "7 213873 [0.3333 0.    ]\n",
      "2 329080 [0.2778 0.    ]\n",
      "0 892717 [0.3611 0.    ]\n",
      "0 712310 [0.3889 0.    ]\n",
      "=================\n",
      "sample: 3, [0.48609996 0.        ]\n",
      "4 642083 [0.5417 0.    ]\n",
      "6 374718 [0.4861 0.    ]\n",
      "4 637200 [0.4722 0.    ]\n",
      "4 619080 [0.4722 0.    ]\n",
      "0 499500 [0.5 0. ]\n",
      "2 311216 [0.5 0. ]\n",
      "2 386599 [0.5694 0.    ]\n",
      "2 1211920 [0.4861 0.    ]\n",
      "2 1147521 [0.5 0. ]\n",
      "0 1154673 [0.5139 0.    ]\n",
      "2 644291 [0.4861 0.    ]\n",
      "4 637090 [0.4722 0.    ]\n",
      "4 638362 [0.4861 0.    ]\n",
      "0 614503 [0.5 0. ]\n",
      "0 511885 [0.5139 0.    ]\n",
      "0 974488 [0.4722 0.    ]\n",
      "6 243057 [0.4722 0.    ]\n",
      "5 590565 [0.4722 0.    ]\n",
      "0 376552 [0.5278 0.    ]\n",
      "2 383305 [0.5139 0.    ]\n",
      "5 355385 [0.4861 0.    ]\n",
      "7 43703 [0.5139 0.    ]\n",
      "2 940391 [0.5139 0.    ]\n",
      "3 474797 [0.5278 0.    ]\n",
      "1 1222688 [0.4861 0.    ]\n",
      "0 1080425 [0.4722 0.    ]\n",
      "1 525411 [0.4861 0.    ]\n",
      "4 493364 [0.5278 0.    ]\n",
      "4 500446 [0.5139 0.    ]\n",
      "4 1130744 [0.4861 0.    ]\n",
      "7 441252 [0.4722 0.    ]\n",
      "4 637153 [0.4722 0.    ]\n",
      "5 69275 [0.4722 0.    ]\n",
      "5 194667 [0.4722 0.    ]\n",
      "5 87730 [0.5 0. ]\n",
      "7 236077 [0.5417 0.    ]\n",
      "2 494576 [0.4722 0.    ]\n",
      "1 1117393 [0.5278 0.    ]\n",
      "5 615723 [0.5139 0.    ]\n",
      "0 1089876 [0.5278 0.    ]\n",
      "4 635273 [0.4861 0.    ]\n",
      "1 377141 [0.5833 0.    ]\n",
      "6 35309 [0.5556 0.    ]\n",
      "7 43570 [0.5139 0.    ]\n",
      "3 775034 [0.4861 0.    ]\n",
      "5 589316 [0.5 0. ]\n",
      "3 1127677 [0.4722 0.    ]\n",
      "5 63963 [0.5556 0.    ]\n",
      "6 204298 [0.4722 0.    ]\n",
      "1 438235 [0.4722 0.    ]\n",
      "=================\n",
      "sample: 4, [0.60832 0.0541 ]\n",
      "3 613728 [0.5278 0.0473]\n",
      "7 49577 [0.625  0.0541]\n",
      "3 613763 [0.5139 0.0473]\n",
      "7 49593 [0.6111 0.0541]\n",
      "7 49474 [0.5278 0.0405]\n",
      "7 49559 [0.625  0.0541]\n",
      "7 49576 [0.625  0.0541]\n",
      "7 49552 [0.6389 0.0541]\n",
      "7 49667 [0.5417 0.0541]\n",
      "7 49485 [0.5556 0.0541]\n",
      "7 49518 [0.5972 0.0541]\n",
      "7 49544 [0.6111 0.0541]\n",
      "7 49682 [0.5556 0.0541]\n",
      "7 49649 [0.5417 0.0541]\n",
      "7 49516 [0.5556 0.0541]\n",
      "7 49550 [0.625  0.0541]\n",
      "3 613755 [0.5694 0.0473]\n",
      "3 613758 [0.5139 0.0473]\n",
      "7 49483 [0.5556 0.0541]\n",
      "7 49534 [0.5833 0.0541]\n",
      "7 49517 [0.625  0.0541]\n",
      "3 613706 [0.5278 0.0473]\n",
      "7 49551 [0.6111 0.0541]\n",
      "7 49523 [0.625  0.0541]\n",
      "7 49546 [0.5972 0.0541]\n",
      "7 49673 [0.5556 0.0541]\n",
      "7 49659 [0.5278 0.0541]\n",
      "7 49522 [0.5972 0.0541]\n",
      "3 613741 [0.5417 0.0473]\n",
      "7 49675 [0.5556 0.0541]\n",
      "7 49610 [0.5417 0.0541]\n",
      "2 941552 [0.5139 0.0473]\n",
      "7 49645 [0.5278 0.0541]\n",
      "7 49452 [0.5833 0.0541]\n",
      "7 49519 [0.6111 0.0541]\n",
      "7 49502 [0.5556 0.0541]\n",
      "7 49576 [0.625  0.0541]\n",
      "7 49554 [0.5972 0.0541]\n",
      "7 49606 [0.5556 0.0541]\n",
      "7 49595 [0.625  0.0541]\n",
      "7 49601 [0.6111 0.0541]\n",
      "7 49551 [0.6111 0.0541]\n",
      "7 49564 [0.5972 0.0541]\n",
      "7 49614 [0.5417 0.0541]\n",
      "7 49577 [0.625  0.0541]\n",
      "7 49559 [0.625  0.0541]\n",
      "3 613764 [0.5278 0.0473]\n",
      "7 49540 [0.5694 0.0541]\n",
      "7 49511 [0.5694 0.0541]\n",
      "7 49589 [0.5972 0.0473]\n",
      "=================\n",
      "sample: 5, [0.69439751 0.        ]\n",
      "2 983274 [0.6528 0.    ]\n",
      "2 986124 [0.7083 0.    ]\n",
      "2 982070 [0.7083 0.    ]\n",
      "2 987852 [0.6944 0.    ]\n",
      "3 306259 [0.6944 0.    ]\n",
      "3 307779 [0.7083 0.    ]\n",
      "3 304062 [0.7083 0.    ]\n",
      "2 983323 [0.6806 0.    ]\n",
      "3 307002 [0.6944 0.    ]\n",
      "3 305403 [0.7083 0.    ]\n",
      "2 978640 [0.7083 0.    ]\n",
      "3 304005 [0.6944 0.    ]\n",
      "3 308231 [0.6944 0.    ]\n",
      "1 378290 [0.6806 0.    ]\n",
      "2 986357 [0.6806 0.    ]\n",
      "1 584510 [0.7083 0.    ]\n",
      "1 878827 [0.6528 0.    ]\n",
      "2 985879 [0.7083 0.    ]\n",
      "3 307766 [0.7083 0.    ]\n",
      "2 987091 [0.6806 0.    ]\n",
      "3 301214 [0.6944 0.    ]\n",
      "3 301165 [0.7083 0.    ]\n",
      "2 979794 [0.6806 0.    ]\n",
      "2 978876 [0.7083 0.    ]\n",
      "2 987584 [0.6806 0.    ]\n",
      "2 983505 [0.6944 0.    ]\n",
      "2 977153 [0.6528 0.    ]\n",
      "4 164480 [0.7083 0.    ]\n",
      "2 987655 [0.6944 0.    ]\n",
      "2 982674 [0.7083 0.    ]\n",
      "2 984098 [0.6944 0.    ]\n",
      "2 980997 [0.6944 0.    ]\n",
      "3 300904 [0.6667 0.    ]\n",
      "2 979319 [0.6667 0.    ]\n",
      "3 308097 [0.6944 0.    ]\n",
      "2 983591 [0.7083 0.    ]\n",
      "2 984043 [0.6944 0.    ]\n",
      "2 984784 [0.7083 0.    ]\n",
      "2 982421 [0.6806 0.    ]\n",
      "3 307963 [0.6667 0.    ]\n",
      "2 988094 [0.7083 0.    ]\n",
      "2 978962 [0.6944 0.    ]\n",
      "2 980524 [0.6806 0.    ]\n",
      "1 375722 [0.7222 0.    ]\n",
      "2 987078 [0.6806 0.    ]\n",
      "2 977768 [0.7083 0.    ]\n",
      "2 986323 [0.6944 0.    ]\n",
      "2 983583 [0.6806 0.    ]\n",
      "2 984056 [0.6944 0.    ]\n",
      "2 983140 [0.6944 0.    ]\n",
      "=================\n",
      "sample: 6, [1. 0.]\n",
      "5 44912 [0.9306 0.    ]\n",
      "4 206953 [0.9444 0.    ]\n",
      "3 96180 [0.9444 0.    ]\n",
      "1 373202 [1. 0.]\n",
      "1 156467 [0.9861 0.    ]\n",
      "2 78732 [1. 0.]\n",
      "3 36674 [0.9861 0.    ]\n",
      "3 194430 [1. 0.]\n",
      "1 701206 [1. 0.]\n",
      "0 75384 [0.9306 0.    ]\n",
      "1 100161 [1. 0.]\n",
      "4 133303 [0.9861 0.    ]\n",
      "1 334701 [1. 0.]\n",
      "2 137298 [0.9444 0.    ]\n",
      "1 150789 [1. 0.]\n",
      "3 28128 [1. 0.]\n",
      "4 143445 [0.9861 0.    ]\n",
      "3 204545 [1. 0.]\n",
      "3 149722 [1. 0.]\n",
      "2 121234 [0.9861 0.    ]\n",
      "5 13120 [0.8472 0.    ]\n",
      "1 637591 [1. 0.]\n",
      "4 32449 [0.9861 0.    ]\n",
      "3 20012 [1. 0.]\n",
      "1 571975 [0.9722 0.    ]\n",
      "4 140207 [1. 0.]\n",
      "3 187890 [1. 0.]\n",
      "1 707943 [0.8889 0.    ]\n",
      "5 9755 [0.9306 0.    ]\n",
      "1 535992 [1. 0.]\n",
      "5 55949 [0.9444 0.    ]\n",
      "4 32976 [0.9583 0.    ]\n",
      "4 108486 [1. 0.]\n",
      "3 17463 [0.9722 0.    ]\n",
      "1 334015 [1. 0.]\n",
      "1 285403 [1. 0.]\n",
      "1 236394 [0.9861 0.    ]\n",
      "3 216066 [1. 0.]\n",
      "2 198004 [1. 0.]\n",
      "1 26362 [1. 0.]\n",
      "4 79904 [0.9722 0.    ]\n",
      "1 205279 [0.9444 0.    ]\n",
      "1 963164 [1. 0.]\n",
      "5 13332 [0.875 0.   ]\n",
      "1 856281 [0.9167 0.    ]\n",
      "0 250734 [0.875 0.   ]\n",
      "4 141236 [1. 0.]\n",
      "1 542607 [0.875 0.   ]\n",
      "0 103155 [1. 0.]\n",
      "4 88317 [1. 0.]\n"
     ]
    }
   ],
   "source": [
    "# printout to see if the sample frame is reasonable\n",
    "for idx, sample in enumerate(pcca_samples_after_filter):\n",
    "    print('=================')\n",
    "    print(f'sample: {idx}, {cg_centers_sorted[idx]}')\n",
    "    for traj, frame in sample:\n",
    "        print(traj, frame, data[traj][frame])"
   ]
  },
  {
   "cell_type": "markdown",
   "id": "1936c8af",
   "metadata": {},
   "source": [
    "##### Transform microstates to macrostates (metastable states)"
   ]
  },
  {
   "cell_type": "code",
   "execution_count": 24,
   "id": "1b63072e",
   "metadata": {},
   "outputs": [],
   "source": [
    "# build the array to mannualy map microstate to metastable state\n",
    "micro_2_meta = np.zeros(n_clusters, dtype=int)\n",
    "for idx, metastable_set in enumerate(pcca_sets_sorted):\n",
    "    for microstate in metastable_set:\n",
    "        micro_2_meta[microstate] = idx"
   ]
  },
  {
   "cell_type": "code",
   "execution_count": 25,
   "id": "3ae14b27",
   "metadata": {},
   "outputs": [],
   "source": [
    "\"\"\"\n",
    "transform data from dtrajs to cg_dtrajs\n",
    "cg_dtrajs will contains metastable state (after sorting)\n",
    "\"\"\"\n",
    "cg_dtrajs = []\n",
    "for dtraj in dtrajs:\n",
    "    cg_dtraj = np.zeros(len(dtraj), dtype=int)\n",
    "    for i, idx in enumerate(dtraj):\n",
    "        cg_dtraj[i] = micro_2_meta[idx]\n",
    "    cg_dtrajs.append(cg_dtraj)\n",
    "    \n",
    "cg_dtrajs = np.asarray(cg_dtrajs, dtype=object)"
   ]
  },
  {
   "cell_type": "code",
   "execution_count": 26,
   "id": "2f35d07e",
   "metadata": {},
   "outputs": [
    {
     "data": {
      "text/plain": [
       "array([array([6, 6, 6, ..., 2, 2, 2]), array([6, 6, 6, ..., 0, 0, 0]),\n",
       "       array([6, 6, 6, ..., 0, 0, 0]), array([6, 6, 6, ..., 0, 0, 0]),\n",
       "       array([6, 6, 6, ..., 0, 0, 2]), array([6, 6, 6, ..., 2, 2, 2]),\n",
       "       array([0, 0, 0, ..., 2, 2, 2]), array([0, 0, 0, ..., 0, 0, 0])],\n",
       "      dtype=object)"
      ]
     },
     "execution_count": 26,
     "metadata": {},
     "output_type": "execute_result"
    }
   ],
   "source": [
    "cg_dtrajs"
   ]
  },
  {
   "cell_type": "markdown",
   "id": "87967495",
   "metadata": {},
   "source": [
    "##### Save data"
   ]
  },
  {
   "cell_type": "code",
   "execution_count": 27,
   "id": "755cabff",
   "metadata": {},
   "outputs": [],
   "source": [
    "np.savez('msm_data.npz',\n",
    "        raw_data = np.asarray(data, dtype=object), #raw data, un-normalize\n",
    "        cluster_centers = cluster_centers, #cluster center of microstates, un-normalize\n",
    "        cg_centers_sorted = cg_centers_sorted, #coarse-grain center, sorted by increasing order of Q\n",
    "        dtrajs = np.asarray(dtrajs, dtype=object), #dtrajs, microstate indices\n",
    "        cg_dtrajs = cg_dtrajs, #cg dtrajs, metastable state\n",
    "        pcca_sets_sorted = pcca_sets_sorted, #set contains the element of each metastable set, sorted\n",
    "        pcca_distributions_sorted = pcca_distributions_sorted, #distribution of each metastable state, not filter yet. this is not currently used but just save in case we use\n",
    "        pcca_samples_sorted = pcca_samples_sorted, #samples of each metastable state draw from above distribution, also not using\n",
    "        micro_2_meta = micro_2_meta, #array contains n_clusters, value of element is metastable it belongs to.\n",
    "        pcca_distributions_filter = pcca_distributions_filter, # distribution which zero out all microstate does not belong to metastable state.\n",
    "        pcca_samples_after_filter = pcca_samples_after_filter #samples draw from above filter distribution\n",
    "        )"
   ]
  },
  {
   "cell_type": "markdown",
   "id": "ed2f9196",
   "metadata": {},
   "source": [
    "##### Build Count matrix and transition matrix from cg_dtrajs"
   ]
  },
  {
   "cell_type": "markdown",
   "id": "1b6cad59",
   "metadata": {},
   "source": [
    "###### Refolding: the first 100 trajectories"
   ]
  },
  {
   "cell_type": "code",
   "execution_count": 48,
   "id": "ac4d6fab",
   "metadata": {},
   "outputs": [],
   "source": [
    "\n",
    "# config for matplotlib\n",
    "font = {'family' : 'arial',\n",
    "        'weight' : 'normal',\n",
    "        'size'   : 14}\n",
    "\n",
    "mpl.rc('font', **font)\n",
    "mpl.rcParams['axes.spines.right'] = False\n",
    "mpl.rcParams['axes.spines.top'] = False\n",
    "mpl.rcParams['axes.linewidth'] = 1 #set the value globally\n",
    "\n",
    "# set tick width\n",
    "mpl.rcParams['xtick.major.size'] = 8\n",
    "mpl.rcParams['xtick.major.width'] = 1\n",
    "mpl.rcParams['ytick.major.size'] = 8\n",
    "mpl.rcParams['ytick.major.width'] = 1\n",
    "# matplotlib.rcParams['xtick.minor.size'] = 10\n",
    "# matplotlib.rcParams['xtick.minor.width'] = 2\n"
   ]
  },
  {
   "cell_type": "code",
   "execution_count": 28,
   "id": "2ba7f360",
   "metadata": {},
   "outputs": [],
   "source": [
    "counts = estimator.fit(cg_dtrajs).fetch_model()  # fit and fetch the model\n",
    "C = counts.count_matrix\n",
    "P = deeptime_estimation.transition_matrix(C)\n",
    "# start_states = [0] #np.unique(np.asarray([traj[0] for traj in cg_dtrajs_refolding])).tolist()\n",
    "# end_states = [13]\n",
    "# F = pyemma.msm.tpt(pyemma.msm.markov_model(P),start_states,end_states)"
   ]
  },
  {
   "cell_type": "code",
   "execution_count": 29,
   "id": "e14a4a57",
   "metadata": {},
   "outputs": [
    {
     "data": {
      "text/html": [
       "<div>\n",
       "<style scoped>\n",
       "    .dataframe tbody tr th:only-of-type {\n",
       "        vertical-align: middle;\n",
       "    }\n",
       "\n",
       "    .dataframe tbody tr th {\n",
       "        vertical-align: top;\n",
       "    }\n",
       "\n",
       "    .dataframe thead th {\n",
       "        text-align: right;\n",
       "    }\n",
       "</style>\n",
       "<table border=\"1\" class=\"dataframe\">\n",
       "  <thead>\n",
       "    <tr style=\"text-align: right;\">\n",
       "      <th></th>\n",
       "      <th>0</th>\n",
       "      <th>1</th>\n",
       "      <th>2</th>\n",
       "      <th>3</th>\n",
       "      <th>4</th>\n",
       "      <th>5</th>\n",
       "      <th>6</th>\n",
       "    </tr>\n",
       "  </thead>\n",
       "  <tbody>\n",
       "    <tr>\n",
       "      <th>0</th>\n",
       "      <td>2399722.0</td>\n",
       "      <td>21.0</td>\n",
       "      <td>72959.0</td>\n",
       "      <td>1.0</td>\n",
       "      <td>0.0</td>\n",
       "      <td>0.0</td>\n",
       "      <td>0.0</td>\n",
       "    </tr>\n",
       "    <tr>\n",
       "      <th>1</th>\n",
       "      <td>20.0</td>\n",
       "      <td>63.0</td>\n",
       "      <td>1.0</td>\n",
       "      <td>0.0</td>\n",
       "      <td>0.0</td>\n",
       "      <td>0.0</td>\n",
       "      <td>0.0</td>\n",
       "    </tr>\n",
       "    <tr>\n",
       "      <th>2</th>\n",
       "      <td>72962.0</td>\n",
       "      <td>0.0</td>\n",
       "      <td>3239569.0</td>\n",
       "      <td>14786.0</td>\n",
       "      <td>53.0</td>\n",
       "      <td>1.0</td>\n",
       "      <td>0.0</td>\n",
       "    </tr>\n",
       "    <tr>\n",
       "      <th>3</th>\n",
       "      <td>1.0</td>\n",
       "      <td>0.0</td>\n",
       "      <td>14789.0</td>\n",
       "      <td>51345.0</td>\n",
       "      <td>2.0</td>\n",
       "      <td>1544.0</td>\n",
       "      <td>22.0</td>\n",
       "    </tr>\n",
       "    <tr>\n",
       "      <th>4</th>\n",
       "      <td>0.0</td>\n",
       "      <td>0.0</td>\n",
       "      <td>51.0</td>\n",
       "      <td>4.0</td>\n",
       "      <td>184.0</td>\n",
       "      <td>0.0</td>\n",
       "      <td>0.0</td>\n",
       "    </tr>\n",
       "    <tr>\n",
       "      <th>5</th>\n",
       "      <td>0.0</td>\n",
       "      <td>0.0</td>\n",
       "      <td>6.0</td>\n",
       "      <td>1543.0</td>\n",
       "      <td>0.0</td>\n",
       "      <td>19166.0</td>\n",
       "      <td>740.0</td>\n",
       "    </tr>\n",
       "    <tr>\n",
       "      <th>6</th>\n",
       "      <td>0.0</td>\n",
       "      <td>0.0</td>\n",
       "      <td>0.0</td>\n",
       "      <td>24.0</td>\n",
       "      <td>0.0</td>\n",
       "      <td>744.0</td>\n",
       "      <td>1949971.0</td>\n",
       "    </tr>\n",
       "  </tbody>\n",
       "</table>\n",
       "</div>"
      ],
      "text/plain": [
       "           0     1          2        3      4        5          6\n",
       "0  2399722.0  21.0    72959.0      1.0    0.0      0.0        0.0\n",
       "1       20.0  63.0        1.0      0.0    0.0      0.0        0.0\n",
       "2    72962.0   0.0  3239569.0  14786.0   53.0      1.0        0.0\n",
       "3        1.0   0.0    14789.0  51345.0    2.0   1544.0       22.0\n",
       "4        0.0   0.0       51.0      4.0  184.0      0.0        0.0\n",
       "5        0.0   0.0        6.0   1543.0    0.0  19166.0      740.0\n",
       "6        0.0   0.0        0.0     24.0    0.0    744.0  1949971.0"
      ]
     },
     "execution_count": 29,
     "metadata": {},
     "output_type": "execute_result"
    }
   ],
   "source": [
    "pd.DataFrame(C)"
   ]
  },
  {
   "cell_type": "code",
   "execution_count": 30,
   "id": "c503f1e1",
   "metadata": {},
   "outputs": [
    {
     "data": {
      "text/html": [
       "<div>\n",
       "<style scoped>\n",
       "    .dataframe tbody tr th:only-of-type {\n",
       "        vertical-align: middle;\n",
       "    }\n",
       "\n",
       "    .dataframe tbody tr th {\n",
       "        vertical-align: top;\n",
       "    }\n",
       "\n",
       "    .dataframe thead th {\n",
       "        text-align: right;\n",
       "    }\n",
       "</style>\n",
       "<table border=\"1\" class=\"dataframe\">\n",
       "  <thead>\n",
       "    <tr style=\"text-align: right;\">\n",
       "      <th></th>\n",
       "      <th>0</th>\n",
       "      <th>1</th>\n",
       "      <th>2</th>\n",
       "      <th>3</th>\n",
       "      <th>4</th>\n",
       "      <th>5</th>\n",
       "      <th>6</th>\n",
       "    </tr>\n",
       "  </thead>\n",
       "  <tbody>\n",
       "    <tr>\n",
       "      <th>0</th>\n",
       "      <td>0.970485</td>\n",
       "      <td>0.000008</td>\n",
       "      <td>0.029506</td>\n",
       "      <td>4.044157e-07</td>\n",
       "      <td>0.000000</td>\n",
       "      <td>0.000000e+00</td>\n",
       "      <td>0.000000</td>\n",
       "    </tr>\n",
       "    <tr>\n",
       "      <th>1</th>\n",
       "      <td>0.238095</td>\n",
       "      <td>0.750000</td>\n",
       "      <td>0.011905</td>\n",
       "      <td>0.000000e+00</td>\n",
       "      <td>0.000000</td>\n",
       "      <td>0.000000e+00</td>\n",
       "      <td>0.000000</td>\n",
       "    </tr>\n",
       "    <tr>\n",
       "      <th>2</th>\n",
       "      <td>0.021928</td>\n",
       "      <td>0.000000</td>\n",
       "      <td>0.973612</td>\n",
       "      <td>4.443749e-03</td>\n",
       "      <td>0.000016</td>\n",
       "      <td>3.005376e-07</td>\n",
       "      <td>0.000000</td>\n",
       "    </tr>\n",
       "    <tr>\n",
       "      <th>3</th>\n",
       "      <td>0.000015</td>\n",
       "      <td>0.000000</td>\n",
       "      <td>0.218439</td>\n",
       "      <td>7.583859e-01</td>\n",
       "      <td>0.000030</td>\n",
       "      <td>2.280549e-02</td>\n",
       "      <td>0.000325</td>\n",
       "    </tr>\n",
       "    <tr>\n",
       "      <th>4</th>\n",
       "      <td>0.000000</td>\n",
       "      <td>0.000000</td>\n",
       "      <td>0.213389</td>\n",
       "      <td>1.673640e-02</td>\n",
       "      <td>0.769874</td>\n",
       "      <td>0.000000e+00</td>\n",
       "      <td>0.000000</td>\n",
       "    </tr>\n",
       "    <tr>\n",
       "      <th>5</th>\n",
       "      <td>0.000000</td>\n",
       "      <td>0.000000</td>\n",
       "      <td>0.000280</td>\n",
       "      <td>7.191797e-02</td>\n",
       "      <td>0.000000</td>\n",
       "      <td>8.933116e-01</td>\n",
       "      <td>0.034491</td>\n",
       "    </tr>\n",
       "    <tr>\n",
       "      <th>6</th>\n",
       "      <td>0.000000</td>\n",
       "      <td>0.000000</td>\n",
       "      <td>0.000000</td>\n",
       "      <td>1.230303e-05</td>\n",
       "      <td>0.000000</td>\n",
       "      <td>3.813939e-04</td>\n",
       "      <td>0.999606</td>\n",
       "    </tr>\n",
       "  </tbody>\n",
       "</table>\n",
       "</div>"
      ],
      "text/plain": [
       "          0         1         2             3         4             5  \\\n",
       "0  0.970485  0.000008  0.029506  4.044157e-07  0.000000  0.000000e+00   \n",
       "1  0.238095  0.750000  0.011905  0.000000e+00  0.000000  0.000000e+00   \n",
       "2  0.021928  0.000000  0.973612  4.443749e-03  0.000016  3.005376e-07   \n",
       "3  0.000015  0.000000  0.218439  7.583859e-01  0.000030  2.280549e-02   \n",
       "4  0.000000  0.000000  0.213389  1.673640e-02  0.769874  0.000000e+00   \n",
       "5  0.000000  0.000000  0.000280  7.191797e-02  0.000000  8.933116e-01   \n",
       "6  0.000000  0.000000  0.000000  1.230303e-05  0.000000  3.813939e-04   \n",
       "\n",
       "          6  \n",
       "0  0.000000  \n",
       "1  0.000000  \n",
       "2  0.000000  \n",
       "3  0.000325  \n",
       "4  0.000000  \n",
       "5  0.034491  \n",
       "6  0.999606  "
      ]
     },
     "execution_count": 30,
     "metadata": {},
     "output_type": "execute_result"
    }
   ],
   "source": [
    "pd.DataFrame(P)"
   ]
  },
  {
   "cell_type": "code",
   "execution_count": 31,
   "id": "a62a6aa7",
   "metadata": {},
   "outputs": [],
   "source": [
    "M=pyemma.msm.markov_model(P)"
   ]
  },
  {
   "cell_type": "code",
   "execution_count": 74,
   "id": "89cf635b",
   "metadata": {},
   "outputs": [
    {
     "data": {
      "image/png": "[encoded data removed]",
      "text/plain": [
       "<Figure size 1000x550 with 1 Axes>"
      ]
     },
     "metadata": {},
     "output_type": "display_data"
    }
   ],
   "source": [
    "\n",
    "fig = plt.figure(figsize=(10,5.5))\n",
    "\n",
    "axs = fig.add_subplot(111)\n",
    "axs.spines['right'].set_visible(False) # remove right plot boundary\n",
    "axs.spines['top'].set_visible(False) # remove top plot boundary\n",
    "axs.spines['left'].set_visible(True) # show left plot boundary\n",
    "axs.spines['bottom'].set_visible(True) # show bottom plot boundary\n",
    "\n",
    "pyemma.plots.plot_markov_model(M, pos=cg_centers_sorted, state_scale= 4, minflux=1e-06, arrow_labels=None, figpadding=0.0, ax=axs, arrow_curvature=1.5, show_frame=True)\n",
    "plt.ylim(-0.03, 0.13)\n",
    "plt.xlim(-0.05,1.02)\n",
    "plt.xlabel('Q', fontweight='bold', fontsize=16)\n",
    "plt.ylabel('G', fontweight='bold', fontsize=16)\n",
    "axs.set_yticks(np.arange(0, 0.13, step=0.03))\n",
    "axs.set_xticks((np.arange(0.0, 1.05, step=0.1)))\n",
    "axs.spines['left'].set_linewidth(3)\n",
    "axs.spines['bottom'].set_linewidth(3)\n",
    "axs.tick_params(width=2)\n",
    "\n",
    "# axs.spines['left'].set_linewidth(3)\n",
    "# axs.spines['bottom'].set_linewidth(3)\n",
    "# axs.tick_params(width=2)\n",
    "plt.savefig('ubq.png', dpi=2000)"
   ]
  },
  {
   "cell_type": "code",
   "execution_count": 182,
   "id": "5bbf03ab",
   "metadata": {},
   "outputs": [
    {
     "name": "stdout",
     "output_type": "stream",
     "text": [
      "0 [2.78139228e-02 2.31709404e-08]\n",
      "1 [0.03243329 0.0946    ]\n",
      "2 [ 2.91740051e-01 -9.24166407e-08]\n",
      "3 [ 4.86099001e-01 -6.00245601e-10]\n",
      "4 [0.56711666 0.0541    ]\n",
      "5 [6.94401643e-01 8.97747661e-10]\n",
      "6 [8.47201195e-01 1.69970365e-09]\n",
      "7 [ 1.00022794e+00 -1.52578471e-07]\n"
     ]
    }
   ],
   "source": [
    "for i, center in enumerate(cg_centers_sorted):\n",
    "    print(i, center)"
   ]
  },
  {
   "cell_type": "code",
   "execution_count": 81,
   "id": "03fcf583",
   "metadata": {},
   "outputs": [
    {
     "name": "stdout",
     "output_type": "stream",
     "text": [
      "State 0: 2398189 occurances.\n",
      "State 1: 108 occurances.\n",
      "State 2: 3402075 occurances.\n",
      "State 3: 67577 occurances.\n",
      "State 4: 163 occurances.\n",
      "State 5: 21453 occurances.\n",
      "State 6: 369976 occurances.\n",
      "State 7: 1580761 occurances.\n"
     ]
    }
   ],
   "source": [
    "for state, histogram_value in enumerate(counts.state_histogram):\n",
    "    print(f\"State {state}: {histogram_value} occurances.\")"
   ]
  },
  {
   "cell_type": "markdown",
   "id": "eeec65fd",
   "metadata": {},
   "source": [
    "####### plot gross flux (not much interested)\n",
    "pyemma.plots.plot_flux(r_F, pos=cg_centers_sorted*np.array([1,2]), state_scale=5, arrow_label_format=\"%10.6f\", minflux=1e-6, attribute_to_plot='gross_flux')"
   ]
  },
  {
   "cell_type": "markdown",
   "id": "5dc19406",
   "metadata": {},
   "source": [
    "####### plot net flux\n",
    "pyemma.plots.plot_flux(r_F, pos=cg_centers_sorted*np.array([2,5]), state_scale=2, arrow_label_format=\"%10.6f\", minflux=1e-6, attribute_to_plot='net_flux')"
   ]
  },
  {
   "cell_type": "markdown",
   "id": "78057add",
   "metadata": {},
   "source": [
    "# Test plot msm state map"
   ]
  },
  {
   "cell_type": "code",
   "execution_count": 33,
   "id": "92d68403",
   "metadata": {},
   "outputs": [],
   "source": [
    "data_concatenated = np.concatenate(data)"
   ]
  },
  {
   "cell_type": "code",
   "execution_count": 34,
   "id": "bffda59a",
   "metadata": {},
   "outputs": [
    {
     "data": {
      "text/plain": [
       "array([[1.    , 0.    ],\n",
       "       [1.    , 0.    ],\n",
       "       [1.    , 0.    ],\n",
       "       ...,\n",
       "       [0.0417, 0.    ],\n",
       "       [0.0556, 0.    ],\n",
       "       [0.0556, 0.    ]])"
      ]
     },
     "execution_count": 34,
     "metadata": {},
     "output_type": "execute_result"
    }
   ],
   "source": [
    "data_concatenated"
   ]
  },
  {
   "cell_type": "code",
   "execution_count": 35,
   "id": "ef5369b0",
   "metadata": {},
   "outputs": [],
   "source": [
    "state_concat = np.concatenate(cg_dtrajs)"
   ]
  },
  {
   "cell_type": "code",
   "execution_count": 36,
   "id": "18dc95f4",
   "metadata": {},
   "outputs": [
    {
     "data": {
      "text/plain": [
       "array([6, 6, 6, ..., 0, 0, 0])"
      ]
     },
     "execution_count": 36,
     "metadata": {},
     "output_type": "execute_result"
    }
   ],
   "source": [
    "state_concat"
   ]
  },
  {
   "cell_type": "code",
   "execution_count": 89,
   "id": "53bf9767",
   "metadata": {},
   "outputs": [
    {
     "data": {
      "image/png": "[encoded data removed]",
      "text/plain": [
       "<Figure size 1000x550 with 2 Axes>"
      ]
     },
     "metadata": {},
     "output_type": "display_data"
    }
   ],
   "source": [
    "\n",
    "# fig2 = plt.figure(figsize=(10,4))\n",
    "\n",
    "fig2, axs2, _ = pyemma.plots.plot_state_map(data_concatenated[:,0], data_concatenated[:,1], state_concat, nbins=20, ncontours=30)\n",
    "\n",
    "# axs2 = fig.add_subplot(111)\n",
    "axs2.spines['right'].set_visible(False) # remove right plot boundary\n",
    "axs2.spines['top'].set_visible(False) # remove top plot boundary\n",
    "# axs2.spines['left'].set_visible(True) # show left plot boundary\n",
    "# axs2.spines['bottom'].set_visible(True) # show bottom plot boundary\n",
    "\n",
    "plt.ylim(0.0, 0.13)\n",
    "plt.xlim(0.0,1.02)\n",
    "plt.xlabel('Q', fontweight='bold', fontsize=16)\n",
    "plt.ylabel('G', fontweight='bold', fontsize=16)\n",
    "\n",
    "axs2.set_yticks(np.arange(0.03,0.13, step=0.03))\n",
    "axs2.set_xticks((np.arange(0.1, 1.05, step=0.1)))\n",
    "axs2.spines['left'].set_linewidth(3)\n",
    "axs2.spines['bottom'].set_linewidth(3)\n",
    "axs2.tick_params(width=2)\n",
    "fig2.set_size_inches(10, 5.5)\n",
    "plt.savefig('ubq_state_map.png', dpi=2000)"
   ]
  },
  {
   "cell_type": "code",
   "execution_count": 87,
   "id": "09bf0214",
   "metadata": {},
   "outputs": [
    {
     "data": {
      "image/png": "[encoded data removed]",
      "text/plain": [
       "<Figure size 1000x550 with 2 Axes>"
      ]
     },
     "metadata": {},
     "output_type": "display_data"
    }
   ],
   "source": [
    "# pyemma.plots.plot_free_energy(data_concatenated[:,0], data_concatenated[:,1], nbins=20, ncontours=30)\n",
    "fig3, axs3 = pyemma.plots.plot_free_energy(data_concatenated[:,0], data_concatenated[:,1], nbins=[20,20], ncontours=30, vmax=20, cbar_label='-ln(P)')\n",
    "\n",
    "# axs2 = fig.add_subplot(111)\n",
    "axs3.spines['right'].set_visible(False) # remove right plot boundary\n",
    "axs3.spines['top'].set_visible(False) # remove top plot boundary\n",
    "# axs2.spines['left'].set_visible(True) # show left plot boundary\n",
    "# axs2.spines['bottom'].set_visible(True) # show bottom plot boundary\n",
    "\n",
    "plt.ylim(0.003, 0.13)\n",
    "plt.xlim(0.02,1.02)\n",
    "plt.xlabel('Q', fontweight='bold', fontsize=16)\n",
    "plt.ylabel('G', fontweight='bold', fontsize=16)\n",
    "axs3.set_yticks(np.arange(0.03,0.13, step=0.03))\n",
    "axs3.set_xticks((np.arange(0.1, 1.05, step=0.1)))\n",
    "axs3.spines['left'].set_linewidth(3)\n",
    "axs3.spines['bottom'].set_linewidth(3)\n",
    "axs3.tick_params(width=2)\n",
    "fig3.set_size_inches(10, 5.5)\n",
    "plt.savefig('ubq_Free_energy.png', dpi=2000)"
   ]
  },
  {
   "cell_type": "code",
   "execution_count": null,
   "id": "eb0d7c19",
   "metadata": {},
   "outputs": [],
   "source": []
  }
 ],
 "metadata": {
  "kernelspec": {
   "display_name": "Python 3 (ipykernel)",
   "language": "python",
   "name": "python3"
  },
  "language_info": {
   "codemirror_mode": {
    "name": "ipython",
    "version": 3
   },
   "file_extension": ".py",
   "mimetype": "text/x-python",
   "name": "python",
   "nbconvert_exporter": "python",
   "pygments_lexer": "ipython3",
   "version": "3.10.5"
  },
  "toc": {
   "base_numbering": 1,
   "nav_menu": {},
   "number_sections": true,
   "sideBar": true,
   "skip_h1_title": false,
   "title_cell": "Table of Contents",
   "title_sidebar": "Contents",
   "toc_cell": false,
   "toc_position": {
    "height": "calc(100% - 180px)",
    "left": "10px",
    "top": "150px",
    "width": "254px"
   },
   "toc_section_display": true,
   "toc_window_display": true
  }
 },
 "nbformat": 4,
 "nbformat_minor": 5
}
